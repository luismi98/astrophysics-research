{
 "cells": [
  {
   "cell_type": "code",
   "execution_count": null,
   "metadata": {},
   "outputs": [],
   "source": [
    "%config Completer.use_jedi = False # To make auto-complete faster\n",
    "\n",
    "#Reloads imported files automatically\n",
    "%load_ext autoreload\n",
    "%autoreload 2\n",
    "\n",
    "import sys\n",
    "sys.path.append('../utils')"
   ]
  },
  {
   "cell_type": "code",
   "execution_count": null,
   "metadata": {},
   "outputs": [],
   "source": [
    "from IPython.display import display, HTML\n",
    "display(HTML(\"<style>.container { width:87% !important; }</style>\"))"
   ]
  },
  {
   "cell_type": "code",
   "execution_count": null,
   "metadata": {},
   "outputs": [],
   "source": [
    "import pandas as pd\n",
    "import numpy as np\n",
    "from scipy.ndimage import gaussian_filter"
   ]
  },
  {
   "cell_type": "code",
   "execution_count": null,
   "metadata": {},
   "outputs": [],
   "source": [
    "import matplotlib.pyplot as plt\n",
    "from matplotlib.colors import LogNorm\n",
    "import matplotlib.ticker as ticker\n",
    "from matplotlib import colormaps as mplcmaps\n",
    "import matplotlib.cm as cm\n",
    "\n",
    "from matplotlib_param_funcs import set_matplotlib_params,reset_rcParams\n",
    "set_matplotlib_params()"
   ]
  },
  {
   "cell_type": "code",
   "execution_count": null,
   "metadata": {},
   "outputs": [],
   "source": [
    "import compute_variables as CV\n",
    "import compute_errors as CE\n",
    "import miscellaneous_functions as MF\n",
    "import plotting_helpers as PH\n",
    "import mixed_plots as MP\n",
    "import map_functions as mapf\n",
    "import load_sim\n",
    "import load_data"
   ]
  },
  {
   "cell_type": "code",
   "execution_count": null,
   "metadata": {},
   "outputs": [],
   "source": [
    "# degree_symbol = '°'\n",
    "degree_symbol = '^\\circ'\n",
    "\n",
    "cmap = mplcmaps['coolwarm']\n",
    "red = cmap(0.95)\n",
    "blue = cmap(0.05)\n",
    "green = 'darkgreen'\n",
    "grey = 'lightgrey'\n",
    "\n",
    "plt.rcParams['font.size'] = 20"
   ]
  },
  {
   "cell_type": "code",
   "execution_count": null,
   "metadata": {},
   "outputs": [],
   "source": [
    "general_path = '/Users/luismi/Desktop/MRes_UCLan/'"
   ]
  },
  {
   "cell_type": "markdown",
   "metadata": {},
   "source": [
    "# Load"
   ]
  },
  {
   "cell_type": "markdown",
   "metadata": {},
   "source": [
    "## Sim"
   ]
  },
  {
   "cell_type": "code",
   "execution_count": null,
   "metadata": {},
   "outputs": [],
   "source": [
    "#To play just in case\n",
    "dummy_df = pd.DataFrame([[1,2,3],[2,3,1],[6,3,4]], columns=['a','b','c'])"
   ]
  },
  {
   "cell_type": "code",
   "execution_count": null,
   "metadata": {},
   "outputs": [],
   "source": [
    "sim_choice = \"708main\" #stuart\n",
    "\n",
    "rot_angle = 27\n",
    "axisymmetric = False\n",
    "zabs = True\n",
    "GSR=True\n",
    "R0=8.1\n",
    "pos_scaling = 1.7"
   ]
  },
  {
   "cell_type": "code",
   "execution_count": null,
   "metadata": {},
   "outputs": [],
   "source": [
    "sim_path = general_path + f\"708main_simulation/numpy_arrays/R0_{R0}/\""
   ]
  },
  {
   "cell_type": "code",
   "execution_count": null,
   "metadata": {},
   "outputs": [],
   "source": [
    "load_chunk = False\n",
    "\n",
    "if not load_chunk:\n",
    "     df0 = load_sim.load_simulation(path=sim_path, choice=sim_choice, rot_angle=rot_angle, axisymmetric=axisymmetric, zabs=zabs, pos_factor=pos_scaling,GSR=GSR,R0=R0)\n",
    "else:\n",
    "    if sim_choice == \"708main\" and rot_angle == 27 and not axisymmetric and zabs and pos_scaling == 1.7:\n",
    "        pickle_name = \"df_bulge_zabs.pkl\"\n",
    "        df0 = pd.read_pickle(\"708main_simulation/\"+pickle_name)"
   ]
  },
  {
   "cell_type": "code",
   "execution_count": null,
   "metadata": {},
   "outputs": [],
   "source": [
    "MP.quick_show_xy_xz(df0)"
   ]
  },
  {
   "cell_type": "markdown",
   "metadata": {},
   "source": [
    "## Data"
   ]
  },
  {
   "cell_type": "code",
   "execution_count": null,
   "metadata": {},
   "outputs": [],
   "source": [
    "data_path = general_path+'Observational_data/'\n",
    "obs_errors = False"
   ]
  },
  {
   "cell_type": "code",
   "execution_count": null,
   "metadata": {},
   "outputs": [],
   "source": [
    "data = load_data.load_and_process_data(data_path = data_path, error_bool = obs_errors, zabs = True)"
   ]
  },
  {
   "cell_type": "markdown",
   "metadata": {},
   "source": [
    "# Visualise"
   ]
  },
  {
   "cell_type": "code",
   "execution_count": null,
   "metadata": {},
   "outputs": [],
   "source": [
    "sim_bool = True\n",
    "# sim_bool = False\n",
    "\n",
    "# data_bool = True\n",
    "data_bool = False"
   ]
  },
  {
   "cell_type": "code",
   "execution_count": null,
   "metadata": {},
   "outputs": [],
   "source": [
    "bulge_bool = True\n",
    "# bulge_bool = False\n",
    "\n",
    "if bulge_bool:\n",
    "    lmin = -15\n",
    "    lmax = 15\n",
    "    bmin = 0\n",
    "    bmax = 15\n",
    "    dmin = 5\n",
    "    dmax = 11\n",
    "    \n",
    "else:\n",
    "    lmin = -10\n",
    "    lmax = 10\n",
    "    bmin = 3\n",
    "    bmax = 10\n",
    "    dmin = 6\n",
    "    dmax = 10\n",
    "    \n",
    "    spatial_string = fr\"$|l|<{lmax}^\\circ$\"+'\\n'+fr\"${bmin}<|b|<{bmax}^\\circ$\"\n",
    "    \n",
    "spatial_cut_str = f\"{dmin}d{dmax}_l{lmax}_b{bmax}\"\n",
    "print(spatial_cut_str)"
   ]
  },
  {
   "cell_type": "code",
   "execution_count": null,
   "metadata": {},
   "outputs": [],
   "source": [
    "young_min = 4\n",
    "young_max = 7\n",
    "\n",
    "old_min = 9.5"
   ]
  },
  {
   "cell_type": "code",
   "execution_count": null,
   "metadata": {},
   "outputs": [],
   "source": [
    "# Spatial and population cuts\n",
    "\n",
    "if sim_bool:\n",
    "    df_bulge = df0[(df0['d']<dmax)&(df0['d']>dmin)&(df0['l']>lmin)&(df0['l']<lmax)&(df0['b']>bmin)&(df0['b']<bmax)]\n",
    "    df_bulge_old = df_bulge[df_bulge['age']>old_min]\n",
    "    df_bulge_young = df_bulge[(df_bulge['age']>young_min)&(df_bulge['age']<young_max)]   \n",
    "if data_bool:\n",
    "    \n",
    "    metal_cut = -0.2\n",
    "    \n",
    "    data_bulge = data[(data['d']<dmax)&(data['d']>dmin)&(data['l']>lmin)&(data['l']<lmax)&(data['b']>bmin)&(data['b']<bmax)]\n",
    "    data_bulge_rich = data_bulge[data_bulge['FeH']>metal_cut]\n",
    "    data_bulge_poor = data_bulge[data_bulge['FeH']<metal_cut]"
   ]
  },
  {
   "cell_type": "markdown",
   "metadata": {},
   "source": [
    "## Distance comparison"
   ]
  },
  {
   "cell_type": "code",
   "execution_count": null,
   "metadata": {},
   "outputs": [],
   "source": [
    "if not (sim_bool and data_bool):\n",
    "    raise ValueError(\"You need both sim and data for the distance comparison\")"
   ]
  },
  {
   "cell_type": "code",
   "execution_count": null,
   "metadata": {},
   "outputs": [],
   "source": [
    "sim_whole = False\n",
    "data_whole = True\n",
    "# data_whole = False\n",
    "\n",
    "sim_bins = 80\n",
    "data_bins = 20\n",
    "\n",
    "lw=1.5; sim_color = 'orange'; apogee_color='k'\n",
    "log_bool = False"
   ]
  },
  {
   "cell_type": "code",
   "execution_count": null,
   "metadata": {},
   "outputs": [],
   "source": [
    "# Obtain histograms\n",
    "\n",
    "fig,ax = plt.subplots()\n",
    "\n",
    "if sim_whole:\n",
    "    h_sim = ax.hist(df_bulge.d,bins=sim_bins,histtype='step',lw=lw,edgecolor='k',color=sim_color,density=True,alpha=1,label='Simulation',log=log_bool)\n",
    "else:\n",
    "    h_y=ax.hist(df_bulge_young.d,bins=sim_bins,histtype='step',lw=lw,edgecolor='blue',color=sim_color,density=True,label='Young',log=log_bool)\n",
    "    h_o=ax.hist(df_bulge_old.d,bins=sim_bins,histtype='step',lw=lw,edgecolor='red',color=sim_color,density=True,label='Old',log=log_bool)\n",
    "\n",
    "if data_whole:\n",
    "    h_a = ax.hist(data_bulge.d,bins=data_bins,histtype='step',lw=lw,edgecolor='black',color=apogee_color,density=True,label='APOGEE',log=log_bool)\n",
    "else:\n",
    "    h_r=ax.hist(data_bulge_rich.d,bins=data_bins,histtype='step',lw=lw,linestyle='--',edgecolor='blue',color=apogee_color,density=True,alpha=1,label='Rich',log=log_bool)\n",
    "    h_p=ax.hist(data_bulge_poor.d,bins=data_bins,histtype='step',lw=lw,linestyle='--',edgecolor='red',color=apogee_color,density=True,alpha=1,label='Poor',log=log_bool)\n",
    "# plt.ylim(ymin=0);plt.xlim(6,10)\n",
    "plt.close()"
   ]
  },
  {
   "cell_type": "code",
   "execution_count": null,
   "metadata": {},
   "outputs": [],
   "source": [
    "save_bool = True\n",
    "# save_bool = False\n",
    "save_format = '.png'\n",
    "\n",
    "save_path = general_path +'708main_simulation/graphs/Observations/Apogee/distance_comparison/'\n",
    "\n",
    "if save_bool: # filename\n",
    "    filename = 'd_comparison_1b5'\n",
    "    \n",
    "    if sim_whole and data_whole:\n",
    "        filename += '_whole'\n",
    "    elif sim_whole:\n",
    "        filename += '_simwhole'\n",
    "    elif data_whole:\n",
    "        filename += '_datawhole'\n",
    "    \n",
    "    filename += save_format\n",
    "    \n",
    "    print(filename)"
   ]
  },
  {
   "cell_type": "code",
   "execution_count": null,
   "metadata": {},
   "outputs": [],
   "source": [
    "data_bulge.d.mean(),data_bulge.d.median()"
   ]
  },
  {
   "cell_type": "code",
   "execution_count": null,
   "metadata": {},
   "outputs": [],
   "source": [
    "fig,ax = plt.subplots()\n",
    "\n",
    "if True: # Get values from hist\n",
    "    if sim_whole:\n",
    "        x_sim,y_sim = MF.get_plot_values_from_hist(h_sim)\n",
    "    else:\n",
    "        x_y,y_y = MF.get_plot_values_from_hist(h_y)\n",
    "        x_o,y_o = MF.get_plot_values_from_hist(h_o)\n",
    "    if data_whole:\n",
    "        x_a,y_a = MF.get_plot_values_from_hist(h_a)\n",
    "    else:\n",
    "        x_r,y_r = MF.get_plot_values_from_hist(h_r)\n",
    "        x_p,y_p = MF.get_plot_values_from_hist(h_p)\n",
    "\n",
    "if True: # Plot\n",
    "    lw = 3\n",
    "    \n",
    "    if sim_whole:\n",
    "        ax.plot(x_sim,y_sim,color='Orange',label='Sim',drawstyle='steps',lw=lw)\n",
    "#         ax.vlines(x=df_bulge.d.median(),ymin=0,ymax=h_sim[0][int(len(h_sim[0])/2)-1],color='k',lw=1.5,linestyle='--')\n",
    "    else:\n",
    "        ax.plot(x_y,y_y,drawstyle='steps',color=blue,label='Young',lw=lw)\n",
    "        ax.plot(x_o,y_o,drawstyle='steps',color=red,label='Old',lw=lw)\n",
    "    if data_whole:\n",
    "        ax.plot(x_a,y_a,drawstyle='steps',color='k',label='APOGEE',lw=lw)#,linestyle='--')\n",
    "        ax.vlines(x=data_bulge.d.median(),ymin=0,ymax=y_a[int(len(y_a)/2)],color='grey',lw=1.5,linestyle='--')#,linestyle='dotted')\n",
    "    else:\n",
    "        ax.plot(x_r,y_r,drawstyle='steps',color=blue,label='Rich',linestyle='--',lw=lw)\n",
    "        ax.plot(x_p,y_p,drawstyle='steps',color=red,label='Poor',linestyle='--',lw=lw)\n",
    "\n",
    "if True: # Axes, text, save\n",
    "    if log_bool: ax.set_yscale('log')\n",
    "    else: ax.yaxis.set_minor_locator(ticker.MultipleLocator(0.05))\n",
    "    \n",
    "    ax.text(x=0.05,y=0.9, s=string, size=17,color='black',transform=ax.transAxes)\n",
    "\n",
    "    ax.set_xlim(6,10);ax.set_ylim(ymin=0)\n",
    "    ax.set_xlabel(r\"$d$ [kpc]\")\n",
    "    ax.set_ylabel(\"Probability density\",labelpad=10)\n",
    "    ax.tick_params('x',which='both',direction='out',top=False)\n",
    "    ax.tick_params('y',which='both',direction='out',right=True)\n",
    "    ax.xaxis.set_minor_locator(ticker.MultipleLocator(0.25))\n",
    "    #     number_string = '$N_Y=%i$'%len(df_bulge_young)+'\\n'+'$N_O=%i$'%len(df_bulge_old)+'\\n\\n'+'$N_R=%i$'%len(data_bulge_rich)+'\\n'+'$N_P=%i$'%len(data_bulge_poor)\n",
    "    number_string = '$N_\\mathrm{Y}=%i$'%len(df_bulge_young)+'\\n'+'$N_\\mathrm{O}=%i$'%len(df_bulge_old)+'\\n'+'$N_\\mathrm{A}=%i$'%len(data_bulge)\n",
    "    \n",
    "    y_s = 0.5 if bulge_bool else 0.37\n",
    "    ax.text(x=8.95,y=y_s,s=number_string,fontsize=18)#,bbox={'color':'whitesmoke','alpha':1,'boxstyle':'round'})\n",
    "    #     ax.axvline(8,color='k',lw=1,linestyle='--')\n",
    "    plt.legend(loc='best')\n",
    "    if save_bool: \n",
    "        plt.savefig(save_path+filename,bbox_inches='tight',dpi=250)\n",
    "        print('Saved:'+save_path+filename)\n",
    "    plt.show()"
   ]
  },
  {
   "cell_type": "code",
   "execution_count": null,
   "metadata": {},
   "outputs": [],
   "source": [
    "# Old plot \n",
    "\n",
    "sim_bins = 60\n",
    "data_bins = 40\n",
    "\n",
    "fig, axs = plt.subplots(nrows=2,sharex=True,gridspec_kw={'hspace':0})\n",
    "\n",
    "sim_color = 'seagreen'\n",
    "axs[0].hist(df_bulge.d,bins=sim_bins,histtype='bar',lw=0.5,edgecolor='black',color=sim_color)#,log=True)\n",
    "axs[0].axvline(df_bulge.d.median(),color='red',linestyle='--',lw=3)\n",
    "# axs[0].axvline(df_bulge.d.mean(),color='red',linestyle='dotted',lw=3)\n",
    "yticks = [100000,200000,300000]\n",
    "axs[0].set_yticks(ticks=yticks);axs[0].set_yticklabels(['%.0e'%tick for tick in yticks])\n",
    "\n",
    "# automatic_y_ticks = axs[0].get_yticks()\n",
    "# y_ticks = np.linspace(automatic_y_ticks[0],automatic_y_ticks[-1],4)\n",
    "# axs[0].set_yticks(y_ticks)#[1:])\n",
    "# axs[0].set_yticklabels([\"%.0e\"%tick for tick in y_ticks])#[1:]])\n",
    "\n",
    "apogee_color = 'mediumpurple'\n",
    "axs[1].hist(data_bulge.d,bins=data_bins,histtype='bar',lw=0.5,edgecolor='black',color=apogee_color)\n",
    "axs[1].axvline(data_bulge.d.median(),color='red',linestyle='--',lw=3)\n",
    "# axs[1].axvline(data_bulge.d.mean(),color='red',linestyle='dotted',lw=3)\n",
    "\n",
    "axs[0].text(x=9.2,y=300000, s=\"Simulation\", size=20,color='green')\n",
    "axs[1].text(x=9.2,y=210, s=\"APOGEE\", size=20,color='purple')\n",
    "\n",
    "#units of l and b use \\hspace{0.1}[^\\circ]\n",
    "string = fr\"$|l|,|b|<10^\\circ$\"\n",
    "axs[0].text(x=6.2,y=300000, s=string, size=17,color='black')\n",
    "\n",
    "fig.align_ylabels(axs)\n",
    "\n",
    "for ax in axs:\n",
    "    ax.set_xlim(6,10)\n",
    "    ax.set_xlabel(r\"$d$ [kpc]\",fontsize=25)\n",
    "    ax.set_ylabel(r\"$N$\",rotation=0,labelpad=30,fontsize=25)\n",
    "    ax.tick_params('x',which='both',labelsize=25,direction='out',top=False)\n",
    "    ax.tick_params('y',which='both',labelsize=25,direction='out',right=False)\n",
    "    ax.yaxis.set_minor_locator(ticker.AutoMinorLocator(5))\n",
    "    ax.axvline(8,color='k',lw=3)\n",
    "    \n",
    "# plt.savefig(save_path+'distance_sim_apogee_comparison_median.png',bbox_inches='tight',dpi=200)\n",
    "plt.show()"
   ]
  },
  {
   "cell_type": "markdown",
   "metadata": {},
   "source": [
    "## bz-cumulative"
   ]
  },
  {
   "cell_type": "code",
   "execution_count": null,
   "metadata": {},
   "outputs": [],
   "source": [
    "alpha = 0.9\n",
    "var = 'b'\n",
    "\n",
    "save_path = general_path +'708main_simulation/graphs/other_plots/bz_cumulative/'"
   ]
  },
  {
   "cell_type": "markdown",
   "metadata": {},
   "source": [
    "### Individual"
   ]
  },
  {
   "cell_type": "code",
   "execution_count": null,
   "metadata": {},
   "outputs": [],
   "source": [
    "plot_sim = True\n",
    "# plot_sim = False"
   ]
  },
  {
   "cell_type": "code",
   "execution_count": null,
   "metadata": {},
   "outputs": [],
   "source": [
    "bins = 5*10*100\n",
    "\n",
    "if plot_sim:\n",
    "    print(\"Plotting sim\")\n",
    "    df1 = df_bulge_young\n",
    "    df2 = df_bulge_old\n",
    "    \n",
    "    label1 = 'Young'\n",
    "    label2 = 'Old'\n",
    "    \n",
    "    nstring1 = 'Y'\n",
    "    nstring2 = 'O'\n",
    "else:\n",
    "    print(\"Plotting data\")\n",
    "    df1 = data_bulge_rich\n",
    "    df2 = data_bulge_poor\n",
    "    \n",
    "    label1 = 'Rich'\n",
    "    label2 = 'Old'\n",
    "    \n",
    "    nstring1 = 'R'\n",
    "    nstring2 = 'P'\n",
    "\n",
    "h1=plt.hist(df1[var],bins=bins,density=True,cumulative=True,color='blue')\n",
    "h2=plt.hist(df2[var],bins=bins,density=True,cumulative=True,color='red')\n",
    "plt.close()"
   ]
  },
  {
   "cell_type": "code",
   "execution_count": null,
   "metadata": {},
   "outputs": [],
   "source": [
    "save_bool = True\n",
    "save_format = '.png'\n",
    "\n",
    "if True: # filename\n",
    "    filename = f'{var}_cumulative'\n",
    "    \n",
    "    if plot_sim:\n",
    "        filename += '_sim'\n",
    "    else:\n",
    "        filename += '_data'\n",
    "    \n",
    "    print(filename)\n",
    "    \n",
    "    filename += save_format"
   ]
  },
  {
   "cell_type": "code",
   "execution_count": null,
   "metadata": {},
   "outputs": [],
   "source": [
    "if True: # Plot\n",
    "    fig,ax=plt.subplots()\n",
    "    \n",
    "    #ax.axvline(x=2,color='red');ax.axvline(x=4,color='red')\n",
    "    #ax.axvline(x=2,color='red');ax.axvline(x=4,color='red')\n",
    "\n",
    "    x1,y1 = MF.get_plot_values_from_hist(h1)\n",
    "    x2,y2 = MF.get_plot_values_from_hist(h2)\n",
    "\n",
    "    ax.plot(x1,y1,color='black',lw=0.5)\n",
    "    ax.plot(x2,y2,color='black',lw=0.5)\n",
    "    ax.fill_between(x=x1,y1=0,y2=y1,color='blue',label=label1,alpha=alpha)\n",
    "    ax.fill_between(x=x2,y1=0,y2=y2,color='red',label=label2,alpha=alpha)\n",
    "if True: # Axes, text, save\n",
    "    \n",
    "    if var == 'z':\n",
    "        ax.set_xlabel(r'$|z|$ [kpc]');ax.set_ylabel('Fraction');ax.yaxis.set_major_locator(ticker.MultipleLocator(0.1));ax.yaxis.set_minor_locator(ticker.MultipleLocator(0.05))\n",
    "        ax.xaxis.set_major_locator(ticker.MultipleLocator(0.5));ax.xaxis.set_minor_locator(ticker.MultipleLocator(0.1))\n",
    "        ax.text(x=1.3,y=0.06,s=r\"$|l|,|b|<10^\\circ$\"+\"\\n\"+r\"$6<d/\\mathrm{kpc}<10$\",fontsize=15,bbox={'color':'white','alpha':0.9})\n",
    "        ax.text(x=1.3,y=0.7,s='$N_\\mathrm{%s}=%i$'%(nstring1,len(df_bulge_young))+'\\n'+'$N_\\mathrm{%s}=%i$'%(nstring2,len(df_bulge_old)),fontsize=15,bbox={'color':'white','alpha':0.9,'boxstyle':'round'})\n",
    "    else:\n",
    "        ax.set_xlabel(r'$|b|$ $[^\\circ]$');ax.set_ylabel('Fraction');ax.yaxis.set_major_locator(ticker.MultipleLocator(0.1));ax.yaxis.set_minor_locator(ticker.MultipleLocator(0.05))\n",
    "        ax.xaxis.set_major_locator(ticker.MultipleLocator(1));ax.xaxis.set_minor_locator(ticker.MultipleLocator(0.5))\n",
    "        ax.text(x=7.5,y=0.07,s=r\"$|l|,|b|<10^\\circ$\"+\"\\n\"+r\"$6<d/\\mathrm{kpc}<10$\",fontsize=15,bbox={'color':'white','alpha':1,'boxstyle':'round'})\n",
    "        ax.text(x=7.5,y=0.7,s='$N_\\mathrm{%s}=%i$'%(nstring1,len(df_bulge_young))+'\\n'+'$N_\\mathrm{%s}=%i$'%(nstring2,len(df_bulge_old)),fontsize=15,bbox={'color':'white','alpha':0.9,'boxstyle':'round'})\n",
    "    \n",
    "    plt.grid(axis='both',which='both',lw=1.3)\n",
    "    ax.tick_params(labeltop=True);ax.set_yticks(ax.get_yticks()[2:]);ax.set_ylim(0,1);ax.set_xlim(0,np.max([h1[1],h2[1]]) if var=='z' else 10)\n",
    "    plt.legend(loc='best',framealpha=0.9)\n",
    "    \n",
    "    if save_bool: \n",
    "        plt.savefig(save_path+filename,dpi=250,bbox_inches='tight')\n",
    "        print('Saved:'+save_path+filename)\n",
    "    plt.show()"
   ]
  },
  {
   "cell_type": "markdown",
   "metadata": {},
   "source": [
    "### Both"
   ]
  },
  {
   "cell_type": "code",
   "execution_count": null,
   "metadata": {},
   "outputs": [],
   "source": [
    "if not (sim_bool and data_bool):\n",
    "    raise ValueError(\"You need both sim and data for the distance comparison\")"
   ]
  },
  {
   "cell_type": "code",
   "execution_count": null,
   "metadata": {},
   "outputs": [],
   "source": [
    "bins = 5*10*100\n",
    "\n",
    "h_y=plt.hist(df_bulge_young[var],bins=bins,density=True,cumulative=True,color='blue',histtype='step',alpha=alpha)\n",
    "h_o=plt.hist(df_bulge_old[var],bins=bins,density=True,cumulative=True,color='red',histtype='step',alpha=alpha)\n",
    "h_r=plt.hist(data_bulge_rich[var],bins=bins,density=True,cumulative=True,color='blue',histtype='step',alpha=alpha)\n",
    "h_p=plt.hist(data_bulge_poor[var],bins=bins,density=True,cumulative=True,color='red',histtype='step',alpha=alpha)\n",
    "plt.close()"
   ]
  },
  {
   "cell_type": "code",
   "execution_count": null,
   "metadata": {},
   "outputs": [],
   "source": [
    "save_bool = True\n",
    "# save_bool = False\n",
    "\n",
    "filename = f'{var}_cumulative_datasim'+'.png'"
   ]
  },
  {
   "cell_type": "code",
   "execution_count": null,
   "metadata": {},
   "outputs": [],
   "source": [
    "if True: # Plot\n",
    "    fig,ax=plt.subplots()\n",
    "\n",
    "    pop_labels = [\"$\\\\bf{Young}$\",\"$\\\\bf{Old}$\",\"$\\\\bf{Rich}$\",\"$\\\\bf{Poor}$\"]\n",
    "    line_colors = ['k','k','w','w']\n",
    "    for h,label,edge_color,color,alfa in zip([h_y,h_o,h_r,h_p],pop_labels,line_colors,[blue,red,blue,red],[alpha]*4):\n",
    "    #     ax.plot(h[1][1:],h[0],color='k',lw=1)#,linestyle=style)#,label=label)\n",
    "        x,y = MF.get_plot_values_from_hist(h)\n",
    "        ax.fill_between(x=x,y1=0,y2=y,facecolor=color,edgecolor=edge_color,lw=2,alpha=alfa,label=label)#,hatch='.')#,linestyle=style)\n",
    "    \n",
    "if True: #Axes, text, save\n",
    "    number_string = '$N_\\mathrm{Y}=%i$'%len(df_bulge_young)+'\\n'+'$N_\\mathrm{O}=%i$'%len(df_bulge_old)+'\\n\\n'+'$N_\\mathrm{R}=%i$'%len(data_bulge_rich)+'\\n'+'$N_\\mathrm{P}=%i$'%len(data_bulge_poor)\n",
    "    \n",
    "    if var == 'z':\n",
    "        ax.set_xlabel(r'$|z|$ [kpc]');ax.set_ylabel('Fraction');ax.yaxis.set_major_locator(ticker.MultipleLocator(0.1));ax.yaxis.set_minor_locator(ticker.MultipleLocator(0.05))\n",
    "        ax.xaxis.set_major_locator(ticker.MultipleLocator(0.5));ax.xaxis.set_minor_locator(ticker.MultipleLocator(0.1))\n",
    "        ax.text(x=1.3,y=0.06,s=r\"$|l|,|b|<10^\\circ$\"+\"\\n\"+r\"$6<d/\\mathrm{kpc}<10$\",fontsize=15,bbox={'color':'white','alpha':0.9})\n",
    "        ax.text(x=1.3,y=0.7,s=number_string,fontsize=15,bbox={'color':'whitesmoke','alpha':1,'boxstyle':'round'})\n",
    "    else:\n",
    "        ax.set_xlabel(r'$|b|$ $[^\\circ]$');ax.set_ylabel('Fraction');ax.yaxis.set_major_locator(ticker.MultipleLocator(0.1));ax.yaxis.set_minor_locator(ticker.MultipleLocator(0.05))\n",
    "        ax.xaxis.set_major_locator(ticker.MultipleLocator(1));ax.xaxis.set_minor_locator(ticker.MultipleLocator(0.5))\n",
    "        ax.text(x=7.5,y=0.5,s=r\"$|l|,|b|<10^\\circ$\"+\"\\n\"+r\"$6<d/\\mathrm{kpc}<10$\",fontsize=15,bbox={'color':'whitesmoke','alpha':1,'boxstyle':'round'})\n",
    "        ax.text(x=7.6,y=0.07,s=number_string,fontsize=16.43,bbox={'color':'whitesmoke','alpha':1,'boxstyle':'round'})\n",
    "    plt.grid(axis='both',which='both',lw=1.3)\n",
    "    ax.tick_params(labeltop=True);ax.set_yticks(ax.get_yticks()[2:]);ax.set_ylim(0,1);ax.set_xlim(0,np.max([h1[1],h2[1]]) if var=='z' else 10)\n",
    "    plt.legend(loc=[0.45,0.05],framealpha=1,facecolor='silver',labelcolor=['k','k','w','w'])\n",
    "    if save_bool: \n",
    "        plt.savefig(save_path+filename,dpi=250,bbox_inches='tight')\n",
    "        print(save_path+filename)\n",
    "    plt.show()"
   ]
  },
  {
   "cell_type": "markdown",
   "metadata": {},
   "source": [
    "## Pop cumulative"
   ]
  },
  {
   "cell_type": "code",
   "execution_count": null,
   "metadata": {},
   "outputs": [],
   "source": [
    "save_path = general_path +'graphs/other_plots/pop_cumulative/'"
   ]
  },
  {
   "cell_type": "code",
   "execution_count": null,
   "metadata": {},
   "outputs": [],
   "source": [
    "plot_sim = True\n",
    "# plot_sim = False"
   ]
  },
  {
   "cell_type": "code",
   "execution_count": null,
   "metadata": {},
   "outputs": [],
   "source": [
    "bins = 5*10*100\n",
    "\n",
    "grid = True\n",
    "pop_cut = False\n",
    "\n",
    "if plot_sim:\n",
    "    print(\"Plotting sim\")\n",
    "    \n",
    "    var = 'age'\n",
    "    \n",
    "    lim2_right = 10\n",
    "    \n",
    "    if pop_cut:\n",
    "        min_val = 9\n",
    "        var_vals = df_bulge[df_bulge[var]>min_val][var]\n",
    "        \n",
    "        lim1_left = min_val\n",
    "        lim1_right = 9.9\n",
    "        lim2_left = 9.9\n",
    "        \n",
    "        label1 = fr'${lim1_left}<$Age/Gyr$<{lim1_right}$'\n",
    "        label2 = fr'Age$>{lim2_left}$ Gyr'\n",
    "        \n",
    "    else:\n",
    "        var_vals = df_bulge[var]\n",
    "        \n",
    "        lim1_left = young_min\n",
    "        lim1_right = young_max\n",
    "\n",
    "        lim2_left = old_min\n",
    "    \n",
    "        label1 = 'Young'\n",
    "        label2 = 'Old'\n",
    "    \n",
    "    xlabel = 'Age [Gyr]'\n",
    "    \n",
    "    xticks = np.arange(0,11)\n",
    "    \n",
    "else:\n",
    "    print(\"Plotting data\")\n",
    "    \n",
    "    var = 'FeH'\n",
    "    var_vals = data_bulge[var]\n",
    "    \n",
    "    metal_cut = -0.2\n",
    "    \n",
    "    lim1_left = metal_cut\n",
    "    lim1_right = np.inf\n",
    "    \n",
    "    lim2_left = -np.inf\n",
    "    lim2_right = metal_cut\n",
    "    \n",
    "    label1 = 'Rich'\n",
    "    label2 = 'Old'\n",
    "    \n",
    "    xlabel = 'Metallicity [dex]'\n",
    "    \n",
    "    xticks = np.arange(-2,1.5,0.5)"
   ]
  },
  {
   "cell_type": "code",
   "execution_count": null,
   "metadata": {},
   "outputs": [],
   "source": [
    "h=plt.hist(var_vals,bins=bins,density=True,cumulative=True)\n",
    "plt.close()"
   ]
  },
  {
   "cell_type": "code",
   "execution_count": null,
   "metadata": {},
   "outputs": [],
   "source": [
    "plt.rcParams.update({'font.size' : 25})"
   ]
  },
  {
   "cell_type": "code",
   "execution_count": null,
   "metadata": {},
   "outputs": [],
   "source": [
    "if True: # filename\n",
    "    filename = f'{var}_cumulative'\n",
    "    \n",
    "    if plot_sim:\n",
    "        filename += '_sim'\n",
    "    else:\n",
    "        filename += '_data'\n",
    "        \n",
    "    filename += f\"_{spatial_cut_str}\"\n",
    "    \n",
    "    filename += '_grid' if grid else ''\n",
    "    \n",
    "    filename += '_specialCut' if pop_cut else ''\n",
    "    \n",
    "    print(filename)"
   ]
  },
  {
   "cell_type": "code",
   "execution_count": null,
   "metadata": {},
   "outputs": [],
   "source": [
    "if True: # text_string\n",
    "\n",
    "    if abs(lmin) == abs(lmax) and bmin == 0 and lmax == bmax:\n",
    "        spatial_string = fr\"$|l|,|b|<{lmax}^\\circ$\"\n",
    "        spatial_string += \"\\n\" + fr\"${dmin}<d/$kpc$<{dmax}$\"\n",
    "    \n",
    "    number_string = r\"$N_\\mathrm{T}=$\"+MF.format_number_with_commas(len(df_bulge))\n",
    "    \n",
    "    text_string = spatial_string + \"\\n\\n\" + number_string\n",
    "    \n",
    "    if True: # show\n",
    "        fig,ax=plt.subplots(figsize=(0.00001,0.00001))\n",
    "        ax.text(x=0.5,y=0.5,s=text_string,size=15,bbox={'facecolor':'w',\"alpha\":1})\n",
    "        ax.set_xticks([]);ax.set_yticks([])\n",
    "        plt.show()"
   ]
  },
  {
   "cell_type": "code",
   "execution_count": null,
   "metadata": {},
   "outputs": [],
   "source": [
    "save_bool = True\n",
    "# save_bool = False"
   ]
  },
  {
   "cell_type": "code",
   "execution_count": null,
   "metadata": {},
   "outputs": [],
   "source": [
    "if True: # Plot\n",
    "    fig,ax=plt.subplots(figsize=(10,10))\n",
    "\n",
    "    x,y = MF.get_plot_values_from_hist(h)\n",
    "    ax.plot(x,y,color='k')\n",
    "    ax.fill_between(x=x,y1=0,y2=y,color=grey)\n",
    "\n",
    "    # young / rich\n",
    "    x1,y1 = x[(x>lim1_left)&(x<lim1_right)], y[(x>lim1_left)&(x<lim1_right)]\n",
    "    ax.fill_between(x=x1,y1=0,y2=y1,color=blue,label=label1)\n",
    "\n",
    "    # old / poor\n",
    "    x2,y2 = x[(x>lim2_left)&(x<lim2_right)], y[(x>lim2_left)&(x<lim2_right)]\n",
    "    ax.fill_between(x=x2,y1=0,y2=y2,color=red,label=label2)\n",
    "\n",
    "if True: # Axes, text, save\n",
    "\n",
    "    ax.set_yticks(np.arange(0,1+0.1,0.1))\n",
    "    \n",
    "    if not pop_cut:\n",
    "        if np.max(xticks) > np.max(var_vals):\n",
    "            ax.set_xlim(np.min(var_vals),np.max(var_vals))\n",
    "            ax.set_xticks(xticks[:-1])\n",
    "        else:\n",
    "            ax.set_xticks(xticks)\n",
    "            ax.set_xlim(np.min(var_vals),np.max(var_vals))\n",
    "    else:\n",
    "        ax.set_xlim(min_val,10)\n",
    "        \n",
    "        number_string = r'$N(\\mathrm{Age>%i})\\approx%.2f N_\\mathrm{T}$'%(min_val,len(var_vals)/len(df_bulge))\n",
    "        ax.text(x=0.05,y=0.6,s=number_string,transform=ax.transAxes,bbox={'facecolor':'w'})\n",
    "    \n",
    "    ax.set_ylim(0,1)\n",
    "    \n",
    "    if grid:\n",
    "#         plt.grid(axis='y',which='both',lw=1.3)\n",
    "        plt.grid(axis='both',which='major',lw=1.3)\n",
    "    \n",
    "    ax.tick_params(which='both',top=True)\n",
    "    ax.tick_params(which='both',labelright=True)\n",
    "    \n",
    "    ax.xaxis.set_minor_locator(ticker.MultipleLocator(0.5))\n",
    "    ax.yaxis.set_minor_locator(ticker.MultipleLocator(0.05))\n",
    "    \n",
    "    ax.set_ylabel('Fraction')\n",
    "    ax.set_xlabel(xlabel)\n",
    "        \n",
    "    ax.text(x=0.94,y=0.55,s=text_string,fontsize=\"small\",bbox={'facecolor':'w',\"alpha\":1})\n",
    "    \n",
    "    plt.legend(loc='best')\n",
    "    \n",
    "    print(filename)\n",
    "    if save_bool:\n",
    "        for file_format in [\".png\",\".pdf\"]:\n",
    "            plt.savefig(save_path+filename+file_format,bbox_inches='tight',dpi=200)\n",
    "            print(\"Saved:\",file_format)\n",
    "    plt.show()"
   ]
  },
  {
   "cell_type": "markdown",
   "metadata": {},
   "source": [
    "### Compute fractions"
   ]
  },
  {
   "cell_type": "code",
   "execution_count": null,
   "metadata": {},
   "outputs": [],
   "source": [
    "for pop in [df_bulge,df_bulge_old,df_bulge_young]: # double check\n",
    "    assert pop[\"b\"].min() >= bmin and pop[\"b\"].max() <= bmax\n",
    "    assert pop[\"l\"].min() >= lmin and pop[\"l\"].max() <= lmax\n",
    "    assert pop[\"d\"].min() >= dmin and pop[\"d\"].max() <= dmax"
   ]
  },
  {
   "cell_type": "code",
   "execution_count": null,
   "metadata": {},
   "outputs": [],
   "source": [
    "total = len(df_bulge)\n",
    "young = len(df_bulge_young)\n",
    "old = len(df_bulge_old)\n",
    "\n",
    "print(\"Total: \",total)\n",
    "print(\"Young: \",young, MF.return_int_or_dec(young/total*100))\n",
    "print(\"Old: \",old,MF.return_int_or_dec(old/total*100))"
   ]
  },
  {
   "cell_type": "markdown",
   "metadata": {},
   "source": [
    "## GMM\n",
    "https://www.astroml.org/book_figures/chapter4/fig_GMM_1D.html"
   ]
  },
  {
   "cell_type": "code",
   "execution_count": null,
   "metadata": {},
   "outputs": [],
   "source": [
    "from sklearn.mixture import GaussianMixture"
   ]
  },
  {
   "cell_type": "code",
   "execution_count": null,
   "metadata": {},
   "outputs": [],
   "source": [
    "save_path = general_path + \"708main_simulation/graphs/Observations/Apogee/Metallicity/\""
   ]
  },
  {
   "cell_type": "code",
   "execution_count": null,
   "metadata": {},
   "outputs": [],
   "source": [
    "# cuts = 'bulgeHigh'\n",
    "cuts = 'bulge'\n",
    "# cuts = 'total'\n",
    "\n",
    "number_of_gaussians = 3\n",
    "\n",
    "if cuts == 'total':\n",
    "    metallicity = data['FeH']\n",
    "elif cuts == 'bulge':\n",
    "    metallicity = data_bulge['FeH']\n",
    "elif cuts == 'bulgeHigh':\n",
    "    bmin = 1.5\n",
    "    \n",
    "    metallicity = data_bulge[data_bulge['b']>bmin]['FeH']"
   ]
  },
  {
   "cell_type": "code",
   "execution_count": null,
   "metadata": {},
   "outputs": [],
   "source": [
    "# Perform fit\n",
    "\n",
    "X = np.array(metallicity).reshape(-1,1)\n",
    "model = GaussianMixture(number_of_gaussians).fit(X)\n",
    "\n",
    "n_datapoints = 1000\n",
    "x = np.linspace(X.min(), X.max()+0.1, n_datapoints)\n",
    "logprob = model.score_samples(x.reshape(-1,1))\n",
    "responsibilities = model.predict_proba(x.reshape(-1,1))\n",
    "\n",
    "pdf = np.exp(logprob)\n",
    "# pdf_individual = responsibilities * pdf[:, np.newaxis]"
   ]
  },
  {
   "cell_type": "code",
   "execution_count": null,
   "metadata": {},
   "outputs": [],
   "source": [
    "fwhm = False\n",
    "standard_dev = False\n",
    "decimal = 2\n",
    "\n",
    "colors_dict = {\n",
    "    2: ['r','b'],\n",
    "    3: ['r','g','b'],\n",
    "    5: ['cyan','orangered','red','green','blue']\n",
    "}\n",
    "colors = colors_dict[number_of_gaussians]"
   ]
  },
  {
   "cell_type": "code",
   "execution_count": null,
   "metadata": {},
   "outputs": [],
   "source": [
    "# save_bool = True\n",
    "save_bool = False\n",
    "\n",
    "save_format = '.png'\n",
    "\n",
    "if True: # filename\n",
    "    filename = f\"gmm_{number_of_gaussians}comp\"\n",
    "    \n",
    "    if cuts == 'bulgeHigh':\n",
    "        filename += \"_bulge%.1fb\"%bmin\n",
    "    else:\n",
    "        filename += f\"_{cuts}\"\n",
    "    \n",
    "    filename += f\"_{decimal}dec\"\n",
    "    \n",
    "    if fwhm:\n",
    "        filename += '_fwhm'\n",
    "    if standard_dev:\n",
    "        filename += '_std'\n",
    "    \n",
    "    filename += save_format\n",
    "    print(filename)"
   ]
  },
  {
   "cell_type": "code",
   "execution_count": null,
   "metadata": {},
   "outputs": [],
   "source": [
    "bins = 50\n",
    "alpha = 0.4\n",
    "\n",
    "if True: # Plot\n",
    "\n",
    "    fig, ax = plt.subplots()\n",
    "\n",
    "    ax.hist(X, 50, density = True, histtype='stepfilled', alpha=0.4)\n",
    "    ax.plot(x,pdf,'-k')\n",
    "    \n",
    "    if fwhm and standard_dev: raise ValueError(\"Both fwhm and standard_dev are True\")\n",
    "    \n",
    "    gauss_list = []\n",
    "    for i in range(number_of_gaussians):\n",
    "        gauss_list.append(pdf_individual[:,i])\n",
    "    \n",
    "    mean_list,sigma_list = [],[]\n",
    "    for i in range(number_of_gaussians):\n",
    "        mean, sigma = MF.get_mean_and_std(x, gauss_list[i])\n",
    "        mean_list.append(mean),sigma_list.append(sigma)\n",
    "    \n",
    "    mean_array,sigma_array,gauss_array = np.array(mean_list),np.array(sigma_list),np.array(gauss_list)\n",
    "    sorting_index = mean_array.argsort()\n",
    "    mean_array = mean_array[sorting_index]\n",
    "    sigma_array = sigma_array[sorting_index]\n",
    "    gauss_array = gauss_array[sorting_index]\n",
    "    \n",
    "    for i in range(number_of_gaussians):\n",
    "        if fwhm:\n",
    "            fwhm = 2*np.sqrt(2*np.log(2))*sigma_array[i]\n",
    "            ax.axvline(mean_array[i]-fwhm/2,color=colors[i],linestyle='dotted')\n",
    "            ax.axvline(mean_array[i]+fwhm/2,color=colors[i],linestyle='dotted')\n",
    "            print(i,mean_array[i]-fwhm/2,mean_array[i]+fwhm/2)\n",
    "        if standard_dev:\n",
    "            ax.axvline(mean_array[i]-sigma_array[i],color=colors[i],linestyle='dotted')\n",
    "            ax.axvline(mean_array[i]+sigma_array[i],color=colors[i],linestyle='dotted')\n",
    "        label = fr\"$(\\mu,\\sigma)=\\> (%.{decimal}f,%.{decimal}f)$\"%(mean_array[i],sigma_array[i])\n",
    "        ax.plot(x,gauss_array[i],color=colors[i],label=label,linestyle='--')\n",
    "        \n",
    "if True: # axes, text, save:\n",
    "        \n",
    "    ax.set_xlabel('[Fe/H]')\n",
    "    ax.set_ylabel('Probability density')\n",
    "    plt.legend(loc='best',fontsize=18)\n",
    "    \n",
    "    if cuts == 'bulgeHigh':\n",
    "        cuts_string = r'$|l|<10$'+degree_symbol+'\\n'+r'$%.1f<|b|<10^\\circ$'%bmin+'\\n'+r'$6<d/\\mathrm{kpc}<10$'\n",
    "    \n",
    "    if cuts == 'bulge':\n",
    "        cuts_string = r'$|l|,|b|<10$'+degree_symbol+'\\n'+r'$6<d/\\mathrm{kpc}<10$'\n",
    "        \n",
    "    ax.text(x=-2,y=0.7,s=cuts_string,fontsize=18)\n",
    "\n",
    "    if save_bool:\n",
    "        plt.savefig(save_path+filename,bbox_inches='tight',dpi=200 if not fwhm else 300)\n",
    "        print(\"Saved\",save_path+filename)\n",
    "    plt.show()"
   ]
  },
  {
   "cell_type": "code",
   "execution_count": null,
   "metadata": {},
   "outputs": [],
   "source": [
    "n_gaussians = np.arange(1,number_of_gaussians+8)\n",
    "\n",
    "models = [GaussianMixture(n_gauss).fit(X) for n_gauss in n_gaussians]\n",
    "AIC = [m.aic(X) for m in models]\n",
    "BIC = [m.bic(X) for m in models]\n",
    "\n",
    "if True: # Plot\n",
    "    fig, ax = plt.subplots(figsize=(7,7))\n",
    "    ax.plot(n_gaussians,AIC,'k',label='AIC')\n",
    "    ax.plot(n_gaussians,BIC,'--k',label='BIC')\n",
    "    ax.set_xticks(n_gaussians)\n",
    "    ax.minorticks_off()\n",
    "    plt.legend()\n",
    "    plt.show()"
   ]
  },
  {
   "cell_type": "code",
   "execution_count": null,
   "metadata": {},
   "outputs": [],
   "source": [
    "# Metallicity distribution for different latitude ranges\n",
    "\n",
    "lat_range = np.arange(0,9)\n",
    "# lat_step = 0.3; lat_range = [0]\n",
    "\n",
    "for lat_min in lat_range:\n",
    "    fig, ax = plt.subplots()\n",
    "    \n",
    "    ax.hist(data_bulge[(data_bulge['b']>lat_min)&(data_bulge['b']<lat_min+lat_step)]['FeH'],bins=50)\n",
    "    ax.set_title(fr\"${lat_min}<|b|<{lat_min+lat_step}^\\circ$\")\n",
    "    ax.set_xlabel(\"[Fe/H]\");ax.set_ylabel(r\"$N$\",rotation=0,labelpad=20)\n",
    "    plt.savefig(save_path+'bulge_all_latitudes/'+f\"{lat_min}b{lat_min+lat_step}\" + '.png')\n",
    "    plt.show()"
   ]
  },
  {
   "cell_type": "markdown",
   "metadata": {},
   "source": [
    "## Age windows"
   ]
  },
  {
   "cell_type": "code",
   "execution_count": null,
   "metadata": {},
   "outputs": [],
   "source": [
    "mass_density = True\n",
    "cbar_label = r\"$\\Sigma \\hspace{0.3} [\\rm M_\\odot kpc^{-2}]$\" if mass_density else r\"$\\Sigma_n \\hspace{0.3} [\\rm kpc^{-2}]$\"\n",
    "\n",
    "stellar_mass = 9.5*10**3 # stellar masses - see bottom left of page 8 in Debattista 2017\\\\"
   ]
  },
  {
   "cell_type": "code",
   "execution_count": null,
   "metadata": {},
   "outputs": [],
   "source": [
    "#4-7_9.5-10\n",
    "nrows = 1\n",
    "ncols = 2\n",
    "\n",
    "age_lowlims = [4,9.5]\n",
    "age_highlims =[7,10]\n",
    "len(age_lowlims)\n",
    "\n",
    "range_str = \"4-7_9.5-10\"\n",
    "print(age_lowlims)\n",
    "print(age_highlims)"
   ]
  },
  {
   "cell_type": "code",
   "execution_count": null,
   "metadata": {},
   "outputs": [],
   "source": [
    "#0to10_9.X_9.Y\n",
    "nrows = 3\n",
    "ncols = 4\n",
    "\n",
    "X = 5\n",
    "Y = 9\n",
    "\n",
    "age_lowlims = [0,1,2,3,4,5,6,7,8,9, 9+0.1*X,9+0.1*Y]\n",
    "age_highlims =[1,2,3,4,5,6,7,8,9,10,10, 10]\n",
    "len(age_lowlims)\n",
    "\n",
    "range_str = \"0to10_9.%i_9.%i\"%(X,Y)\n",
    "print(age_lowlims)\n",
    "print(age_highlims)"
   ]
  },
  {
   "cell_type": "code",
   "execution_count": null,
   "metadata": {},
   "outputs": [],
   "source": [
    "#9to10in0.1\n",
    "nrows = 2\n",
    "ncols = 5\n",
    "\n",
    "age_lowlims = np.arange(9,10,0.1)\n",
    "age_highlims = age_lowlims+0.1\n",
    "print(age_lowlims,age_highlims,sep='\\n')\n",
    "\n",
    "range_str = \"9to10in0.1\""
   ]
  },
  {
   "cell_type": "code",
   "execution_count": null,
   "metadata": {},
   "outputs": [],
   "source": [
    "#0to10in1\n",
    "nrows = 2\n",
    "ncols = 5\n",
    "\n",
    "age_lowlims = np.arange(10)\n",
    "age_highlims = age_lowlims + 1\n",
    "print(age_lowlims,age_highlims,sep='\\n')\n",
    "\n",
    "range_str = \"0to10in1\""
   ]
  },
  {
   "cell_type": "code",
   "execution_count": null,
   "metadata": {},
   "outputs": [],
   "source": [
    "#4to10in1\n",
    "nrows = 2\n",
    "ncols = 3\n",
    "\n",
    "age_lowlims = np.arange(4,10,1)\n",
    "age_highlims = age_lowlims+1\n",
    "print(age_lowlims,age_highlims,sep='\\n')\n",
    "\n",
    "range_str = \"4to10in1\""
   ]
  },
  {
   "cell_type": "code",
   "execution_count": null,
   "metadata": {},
   "outputs": [],
   "source": [
    "#testing\n",
    "nrows = 1\n",
    "ncols = 2\n",
    "\n",
    "age_lowlims = [4,9]\n",
    "age_highlims =[4.1,9.1]\n",
    "len(age_lowlims)\n",
    "\n",
    "range_str = \"testing\"\n",
    "print(age_lowlims)\n",
    "print(age_highlims)"
   ]
  },
  {
   "cell_type": "code",
   "execution_count": null,
   "metadata": {},
   "outputs": [],
   "source": [
    "print(f\"Chose {range_str}\")\n",
    "\n",
    "testing_bool = range_str == \"testing\""
   ]
  },
  {
   "cell_type": "code",
   "execution_count": null,
   "metadata": {},
   "outputs": [],
   "source": [
    "min_star_number = 100"
   ]
  },
  {
   "cell_type": "code",
   "execution_count": null,
   "metadata": {},
   "outputs": [],
   "source": [
    "# map dictionaries\n",
    "variable_symbol_dict, variable_units_dict = mapf.get_position_symbols_and_units_dict(zabs=zabs, degree_symbol=degree_symbol)\n",
    "\n",
    "_xy_max = 5\n",
    "_z_max = 3\n",
    "_long_max = 20 if rot_angle == 90 else 11\n",
    "_lat_max = 13\n",
    "\n",
    "_xyz_map_step = 0.3\n",
    "_xyz_tick_step = 1\n",
    "\n",
    "l_bins = 15\n",
    "b_bins = 10\n",
    "\n",
    "map_min_dict = {\n",
    "    \"l\" : -_long_max,\n",
    "    \"b\" : 0 if zabs else -_lat_max,\n",
    "    \"d\" : 6,\n",
    "    \"x\" : -_xy_max,\n",
    "    \"y\" : -_xy_max,\n",
    "    \"z\" : -_z_max,\n",
    "    \"R\" : 0.1,\n",
    "    \"phi\" : -180\n",
    "}\n",
    "map_max_dict = {\n",
    "    \"l\" : _long_max,\n",
    "    \"b\" : _lat_max,\n",
    "    \"d\" : 10,\n",
    "    \"x\" : _xy_max,\n",
    "    \"y\" : _xy_max,\n",
    "    \"z\" : _z_max,\n",
    "    \"R\" : 2, #maybe 1.5 judging by the xy map for 9.8-10 stars\n",
    "    \"phi\" : 180\n",
    "}\n",
    "map_left_dict,map_right_dict = {},{}\n",
    "for key in list(map_min_dict.keys()):\n",
    "    map_left_dict[key] = map_max_dict[key] if key == 'l' else map_min_dict[key]\n",
    "    map_right_dict[key] = map_min_dict[key] if key == 'l' else map_max_dict[key]\n",
    "\n",
    "map_tick_step = {\n",
    "    \"l\" : 3,\n",
    "    \"b\" : 3,\n",
    "    \"d\" : 1,\n",
    "    \"x\" : _xyz_tick_step,\n",
    "    \"y\" : _xyz_tick_step,\n",
    "    \"z\" : _xyz_tick_step,\n",
    "    \"R\" : 0.5,\n",
    "    \"phi\" : 90\n",
    "}\n",
    "minor_locator_dict = {\n",
    "    'R': 0.25,\n",
    "    'phi': 45,\n",
    "    'l': 1,\n",
    "    'b': 1,\n",
    "    'x': 0.5,\n",
    "    'y': 0.5,\n",
    "    \"z\": 0.5,\n",
    "    'd': 0.5\n",
    "}\n",
    "map_hstep_dict = {\n",
    "    \"l\" : (map_max_dict['l']-map_min_dict['l'])/l_bins,   #-10 to 10 with 15 bins gives step of 4/3. -11 to 11 with 16 bins gives step of 11/8\n",
    "    \"x\" : _xyz_map_step, #-2 to 2 with 16 bins gives step 0.25\n",
    "    \"z\" : _xyz_map_step,\n",
    "    \"R\" : (map_max_dict['R']-map_min_dict['R'])/14,\n",
    "}\n",
    "o_map_hstep_dict = {\n",
    "    \"l\" : 3,\n",
    "    \"b\" : 3,\n",
    "    \"x\" : 0.5,\n",
    "    \"y\" : 0.5,\n",
    "    \"z\" : 0.5,\n",
    "}\n",
    "map_vstep_dict = {\n",
    "    \"l\" : (map_max_dict['l']-map_min_dict['l'])/l_bins,   #-10 to 10 with 15 bins gives step of 4/3. -11 to 11 with 16 bins gives step of 11/8\n",
    "    \"b\" : (map_max_dict['b']-map_min_dict['b'])/b_bins,   #0 to 10 with 10 bins gives step of 1\n",
    "    \"y\" : _xyz_map_step,\n",
    "    \"z\" : _xyz_map_step,\n",
    "    \"phi\" : (map_max_dict['phi']-map_min_dict['phi'])/15  #-180 to 180 with 15 bins gives step 24\n",
    "}\n",
    "o_map_vstep_dict = {\n",
    "    \"l\" : 3,\n",
    "    \"b\" : 3,\n",
    "    \"x\" : 0.5,\n",
    "    \"y\" : 0.5,\n",
    "    \"z\" : 0.5\n",
    "}\n",
    "#Get the same number of \"d\" intervals as those of \"l\", so that the map has square pixels.\n",
    "#The right d_step is given by l_step*Δd/Δl\n",
    "map_hstep_dict[\"d\"] = map_vstep_dict[\"l\"]*(map_max_dict[\"d\"]-map_min_dict[\"d\"])/(map_max_dict[\"l\"]-map_min_dict[\"l\"])\n",
    "map_vstep_dict[\"d\"] = map_hstep_dict[\"d\"]\n",
    "o_map_hstep_dict[\"d\"] = o_map_vstep_dict[\"l\"]*(map_max_dict[\"d\"]-map_min_dict[\"d\"])/(map_max_dict[\"l\"]-map_min_dict[\"l\"])\n",
    "o_map_vstep_dict[\"d\"] = o_map_hstep_dict[\"d\"]"
   ]
  },
  {
   "cell_type": "code",
   "execution_count": null,
   "metadata": {},
   "outputs": [],
   "source": [
    "extra_variable_min_dict = {\n",
    "    \"b\" : 5,\n",
    "    \"d\" : 5,\n",
    "    \"y\" : -_xy_max,\n",
    "    \"x\" : -_xy_max,\n",
    "    \"z\" : 0.5,\n",
    "    \"R\" : 0,\n",
    "}\n",
    "extra_variable_max_dict = {\n",
    "    \"b\" : 10,\n",
    "    \"d\" : 11,\n",
    "    \"y\" : _xy_max,\n",
    "    \"x\" : _xy_max,\n",
    "    \"z\" : _z_max,\n",
    "    \"R\" : 3.5\n",
    "}\n",
    "extra_variable_map = {\n",
    "    \"lb\" : \"R\",#\"d\",\n",
    "    \"dl\" : \"b\",#z\n",
    "    \"xy\" : \"z\",\n",
    "    \"Rphi\" : \"z\",\n",
    "    \"yz\": \"x\",\n",
    "    \"xz\": \"y\"\n",
    "}"
   ]
  },
  {
   "cell_type": "code",
   "execution_count": null,
   "metadata": {},
   "outputs": [],
   "source": [
    "#CHOOSE\n",
    "\n",
    "x_variable = \"x\" #d #l\n",
    "y_variable = \"y\"\n",
    "\n",
    "extra_variable = extra_variable_map[x_variable+y_variable]"
   ]
  },
  {
   "cell_type": "code",
   "execution_count": null,
   "metadata": {},
   "outputs": [],
   "source": [
    "# Variable limits, ticks\n",
    "\n",
    "x_min, x_max = map_min_dict[x_variable], map_max_dict[x_variable]\n",
    "x_left, x_right = map_left_dict[x_variable], map_right_dict[x_variable]\n",
    "y_min, y_max = map_min_dict[y_variable], map_max_dict[y_variable]\n",
    "x_step, y_step = map_hstep_dict[x_variable], map_vstep_dict[y_variable]\n",
    "\n",
    "x_bin_number = MF.return_int_or_dec((x_max-x_min)/x_step)\n",
    "y_bin_number = MF.return_int_or_dec((y_max-y_min)/y_step)\n",
    "\n",
    "if data_bool:\n",
    "    o_x_step, o_y_step = o_map_hstep_dict[x_variable], o_map_vstep_dict[y_variable]\n",
    "extra_variable_min, extra_variable_max = extra_variable_min_dict[extra_variable], extra_variable_max_dict[extra_variable]\n",
    "x_units, y_units, extra_variable_units = variable_units_dict[x_variable], variable_units_dict[y_variable], variable_units_dict[extra_variable]\n",
    "\n",
    "x_label = variable_symbol_dict[x_variable] + r' $[\\mathrm{%s}]$'%x_units\n",
    "y_label = variable_symbol_dict[y_variable] + r' $[\\mathrm{%s}]$'%y_units\n",
    "\n",
    "x_ticks = mapf.get_map_tick_range(x_min,x_max,map_tick_step[x_variable])\n",
    "y_ticks = mapf.get_map_tick_range(y_min,y_max,map_tick_step[y_variable])\n",
    "\n",
    "x_minor_ticks = np.arange(x_min, x_max, np.diff(x_ticks)[0]/4)\n",
    "y_minor_ticks = np.arange(y_min, y_max, np.diff(y_ticks)[0]/4)\n",
    "x_minor_locator = minor_locator_dict[x_variable]\n",
    "y_minor_locator = minor_locator_dict[y_variable]\n",
    "\n",
    "print(\"You have chosen to work with an \"+x_variable+y_variable+\" map. The variable \"+extra_variable\\\n",
    "      +f\" goes from {extra_variable_min} to {extra_variable_max}{extra_variable_units}.\")\n",
    "print(f\"{x_variable} defined in range({x_min},{x_max},{str(MF.return_int_or_dec(x_step,2))}), making {x_bin_number} bins%s\"\\\n",
    "     %(f\", where the left and right limits are {x_left},{x_right}\" if x_min!=x_left else \"\"))\n",
    "if data_bool:\n",
    "    print(f\"For the data the {x_variable} steps are instead {o_x_step}\")\n",
    "print(f\"{y_variable} defined in range({y_min},{y_max},{str(MF.return_int_or_dec(y_step,2))}), making {y_bin_number} bins\")\n",
    "if data_bool:\n",
    "    print(f\"For the data the {y_variable} steps are instead {o_y_step}\")\n",
    "print(\"Minimum star number is\",min_star_number if sim_bool else o_min_star_number)"
   ]
  },
  {
   "cell_type": "code",
   "execution_count": null,
   "metadata": {},
   "outputs": [],
   "source": [
    "def configure_ax():\n",
    "    ax.xaxis.set_minor_locator(ticker.MultipleLocator(x_minor_locator))\n",
    "    ax.yaxis.set_minor_locator(ticker.MultipleLocator(y_minor_locator))\n",
    "    ax.set_xticks(x_ticks);ax.set_yticks(y_ticks)\n",
    "    ax.set_xlim(x_left,x_right)\n",
    "    ax.set_ylim(y_min,y_max)\n",
    "    ax.set_xlabel(x_label)\n",
    "    ax.set_ylabel(y_label)"
   ]
  },
  {
   "cell_type": "code",
   "execution_count": null,
   "metadata": {},
   "outputs": [],
   "source": [
    "x_range = np.arange(x_min,x_max,x_step)\n",
    "y_range = np.arange(y_min,y_max,y_step)\n",
    "\n",
    "if True: # Fix potential overflow issue\n",
    "    # I expect the ranges not to include the max value, but if the step is a periodic number it might. It is actually stated in the documentation:\n",
    "    # https://numpy.org/doc/stable/reference/generated/numpy.arange.html#numpy.arange\n",
    "    \n",
    "    if np.float32(x_range[-1]) == x_max: \n",
    "        x_range = x_range[:-1]\n",
    "\n",
    "    if np.float32(y_range[-1]) == y_max: \n",
    "        x_range = y_range[:-1]\n",
    "\n",
    "cont_extent = [x_min,x_max,y_min,y_max]\n",
    "hist_extent = [[x_min,x_max],[y_min,y_max]]\n",
    "\n",
    "print(cont_extent)"
   ]
  },
  {
   "cell_type": "code",
   "execution_count": null,
   "metadata": {},
   "outputs": [],
   "source": [
    "# steps = True\n",
    "steps = False\n",
    "\n",
    "if y_variable == 'y' and not zabs: print(\"Note top view but zabs is false\")\n",
    "if y_variable == 'z' and zabs: raise ValueError(\"Note side-on view but zabs is False\")\n",
    "\n",
    "\n",
    "if True: # extra_variable, save_path\n",
    "    \n",
    "    save_path = general_path + f\"graphs/other_plots/age_windows/{x_variable}{y_variable}/\"\n",
    "    MF.create_dir(save_path)\n",
    "    \n",
    "    save_path += f\"extra_{extra_variable}/\"\n",
    "    MF.create_dir(save_path)\n",
    "    \n",
    "    if steps:\n",
    "        extra_step = 0.05\n",
    "        extra_variable_max += extra_step\n",
    "        extra_min_values = np.arange(extra_variable_min,extra_variable_max,step=extra_step)\n",
    "        extra_max_values = extra_min_values + extra_step\n",
    "        save_path += f\"slices/step{extra_step}/\"\n",
    "        MF.create_dir(save_path)\n",
    "    else:\n",
    "        extra_min_values,extra_max_values = [extra_variable_min],[extra_variable_max]\n",
    "        \n",
    "    save_path += range_str+\"/\"\n",
    "    MF.create_dir(save_path)\n",
    "    \n",
    "    save_path += f\"{extra_variable_min}{extra_variable}{extra_variable_max}/\"\n",
    "    MF.create_dir(save_path)\n",
    "    \n",
    "    save_path += f\"{x_min}{x_variable}{x_max}_{y_min}{y_variable}{y_max}/\"\n",
    "    MF.create_dir(save_path)\n",
    "\n",
    "print(save_path)"
   ]
  },
  {
   "cell_type": "code",
   "execution_count": null,
   "metadata": {},
   "outputs": [],
   "source": [
    "df_extra = df0[(np.abs(df0[x_variable])<=x_max)&(df0[y_variable]>=y_min)&(df0[y_variable]<=y_max)&(df0[extra_variable]>=extra_variable_min)&(df0[extra_variable]<=extra_variable_max)]\n",
    "\n",
    "print(x_min,x_max,y_min,y_max,extra_variable_min,extra_variable_max)"
   ]
  },
  {
   "cell_type": "code",
   "execution_count": null,
   "metadata": {},
   "outputs": [],
   "source": [
    "log_bool = True\n",
    "\n",
    "cmap = 'magma'\n",
    "cbar_tick_colour = 'white'\n",
    "tick_colour = 'white'\n",
    "age_text_colour = 'white'\n",
    "\n",
    "white_frame_bool = True # on last two subplots with range_str == \"0to10_9.5_9.9\""
   ]
  },
  {
   "cell_type": "code",
   "execution_count": null,
   "metadata": {},
   "outputs": [],
   "source": [
    "plotting_lines_bool = x_variable in \"xy\"\n",
    "\n",
    "plotting_line_labels = True\n",
    "# plotting_line_labels = False\n",
    "\n",
    "# highlight_lines = True\n",
    "highlight_lines = False\n",
    "\n",
    "special_lines_bool = False\n",
    "\n",
    "line_label_fontsize = \"x-small\" # see https://stackoverflow.com/questions/62288898\n",
    "\n",
    "if plotting_lines_bool:\n",
    "    sun_coords = [-R0,0]\n",
    "    \n",
    "#     angle_range = [-10,-5,-1.5,1.5,5,10]\n",
    "    angle_range = [-20,-15,-11,-10,-5,0,5,10,11,15,20]\n",
    "#     angle_range = [-11,11]\n",
    "    \n",
    "    radii_list = [3.5,2.5]\n",
    "    \n",
    "    distance_list = np.arange(-3,3+1,1)+8\n",
    "    \n",
    "    angle_label = \"l\" if y_variable == \"y\" else \"b\"\n",
    "    \n",
    "    angle_label_vals = np.arange(-20,20+5,5)\n",
    "    distance_label_vals = [6,8,10]\n",
    "    \n",
    "    contour_lw = 0.5\n",
    "    dashes = [20, 10] # length of on / off parts\n",
    "    \n",
    "    angle_selection,distance_selection,radius_selection = [],[],[]\n",
    "    if highlight_lines:\n",
    "        angle_selection = [-11,11]\n",
    "        distance_selection = []\n",
    "        radius_selection = [3.5]\n",
    "    \n",
    "    print(\"Plotting angles:\",angle_range)\n",
    "    print(\"Plotting distances:\",distance_list)\n",
    "    print(\"Plotting radii:\",radii_list)"
   ]
  },
  {
   "cell_type": "markdown",
   "metadata": {},
   "source": [
    "Set contours manually\n",
    "\n",
    "contour_levels = np.concatenate([np.linspace(10**3,10**4,5),np.linspace(2*10**4,10**5,5),[5*10**5,10**6]])#,np.linspace(2*10**5,5*10**5,5)])\n",
    "vmax = np.max(contour_levels)\n",
    "vmin = np.min(contour_levels)\n",
    "plt.scatter(contour_levels,[0]*len(contour_levels))\n",
    "print(contour_levels)"
   ]
  },
  {
   "cell_type": "code",
   "execution_count": null,
   "metadata": {},
   "outputs": [],
   "source": [
    "def get_gridspec_params(variables, n_rows, n_cols, x_max, y_max):\n",
    "    if variables[0] == \"x\":\n",
    "        fig_size = 10 if nrows*ncols == 2 else 15\n",
    "        fig_aspect_ratio = 0.9*ncols/nrows*x_max/y_max\n",
    "        plt.rcParams[\"font.size\"] = 23 if variables[1] == \"y\" else 27\n",
    "\n",
    "    elif variables == \"lb\":\n",
    "        fig_size = 5\n",
    "        fig_aspect_ratio = 1.9*(x_max-x_min)/(y_max-y_min)\n",
    "        plt.rcParams[\"font.size\"] = 15\n",
    "    \n",
    "    try:\n",
    "        return fig_size, fig_aspect_ratio\n",
    "    except:\n",
    "        raise ValueError(f\"Not implemented for `{variables}` with `{n_panels}`.\")"
   ]
  },
  {
   "cell_type": "code",
   "execution_count": null,
   "metadata": {},
   "outputs": [],
   "source": [
    "n_bins = 100\n",
    "\n",
    "gauss_sigma = 1"
   ]
  },
  {
   "cell_type": "code",
   "execution_count": null,
   "metadata": {},
   "outputs": [],
   "source": [
    "# If only one figure, pre-calculate the counts here so that the plotting code below does not need re-computing them every time I make a little tweak\n",
    "\n",
    "if len(extra_min_values) == 1:\n",
    "    for extra_low, extra_high in zip(extra_min_values, extra_max_values):\n",
    "        df_slice = df_extra[(df_extra[extra_variable]>extra_variable_min)&(df_extra[extra_variable]<extra_variable_max)]\n",
    "\n",
    "        #Produce histograms to get number density min and max values, to be able to set appropriate contours\n",
    "        count_list = []\n",
    "        for index in range(len(age_lowlims)):\n",
    "            age_low = age_lowlims[index]\n",
    "            age_high = age_highlims[index]\n",
    "\n",
    "            df = df_slice[(df_slice['age']>age_low) & (df_slice['age'] < age_high)]\n",
    "            counts,_,_ = np.histogram2d(df[x_variable],df[y_variable],bins=n_bins,range=hist_extent,density=True)\n",
    "            counts = counts.T*len(df) #Multiply by total number to get a surface density rather than probability density\n",
    "            if mass_density:\n",
    "                counts *= stellar_mass\n",
    "            count_list.append(gaussian_filter(counts, gauss_sigma))"
   ]
  },
  {
   "cell_type": "code",
   "execution_count": null,
   "metadata": {},
   "outputs": [],
   "source": [
    "# alphabet_bool = True\n",
    "alphabet_bool = False\n",
    "\n",
    "# extra_var_string_bool = True\n",
    "extra_var_string_bool = False\n",
    "\n",
    "# contour_edges_bool = True\n",
    "contour_edges_bool = False"
   ]
  },
  {
   "cell_type": "code",
   "execution_count": null,
   "metadata": {},
   "outputs": [],
   "source": [
    "aspect_equal = True\n",
    "# aspect_equal = False\n",
    "\n",
    "# save_bool = True\n",
    "save_bool = False"
   ]
  },
  {
   "cell_type": "code",
   "execution_count": null,
   "metadata": {},
   "outputs": [],
   "source": [
    "extra_level_factor = 6\n",
    "# delete_lowest_level = 0\n",
    "delete_lowest_level = None\n",
    "level_step = 0.2\n",
    "\n",
    "for extra_low, extra_high in zip(extra_min_values, extra_max_values):\n",
    "\n",
    "    if len(extra_min_values) != 1:\n",
    "        df_slice = df_extra[(df_extra[extra_variable]>extra_min)&(df_extra[extra_variable]<extra_max)]\n",
    "\n",
    "        #Produce histograms to get number density min and max values, to be able to set appropriate contours\n",
    "        count_list = []\n",
    "        for index in range(len(age_lowlims)):\n",
    "            age_low = age_lowlims[index]\n",
    "            age_high = age_highlims[index]\n",
    "\n",
    "            df = df_slice[(df_slice['age']>age_low) & (df_slice['age'] < age_high)]\n",
    "            counts,_,_ = np.histogram2d(df['x'],df[y_variable],bins=n_bins,range=hist_extent,density=True)\n",
    "            counts = gaussian_filter(counts.T*len(df),gauss_sigma) #Multiply by total number to get a surface density rather than probability density\n",
    "            count_list.append(counts)\n",
    "    \n",
    "    if True: #fig, contours\n",
    "        figsize,fig_aspect_ratio = get_gridspec_params(x_variable+y_variable,nrows,ncols,x_max,y_max)\n",
    "\n",
    "        fig, axs = plt.subplots(figsize=(fig_aspect_ratio*figsize,figsize),nrows=nrows,ncols=ncols,sharey=True,gridspec_kw={'hspace':0,'wspace':0})\n",
    "        vmax = np.nanmax(count_list)\n",
    "    #     vmax = 10**9\n",
    "        \n",
    "#         vmin = 10**6 if stellar_mass else 10**3\n",
    "#         vmin = 10**5\n",
    "        vmin = np.nanmin(count_list)\n",
    "        \n",
    "        if vmin == 0: vmin = 0.1\n",
    "            \n",
    "        norm = LogNorm(vmin=vmin,vmax=vmax) if log_bool else None\n",
    "        \n",
    "        if True: #contour levels\n",
    "        #     contour_levels = None\n",
    "            contour_levels = np.array([10**i for i in np.arange(int(np.log10(vmin)),int(np.log10(vmax))+level_step*extra_level_factor,level_step)])\n",
    "            contour_levels = contour_levels[contour_levels > np.nanmin(count_list)]\n",
    "            if delete_lowest_level is not None: contour_levels = np.delete(contour_levels, delete_lowest_level)\n",
    "\n",
    "            if True: # cbar extends\n",
    "                top_extend = np.nanmax(count_list) > max(contour_levels)\n",
    "                bottom_extend = np.nanmin(count_list) < min(contour_levels)\n",
    "\n",
    "                cbar_extend = \"neither\"\n",
    "                if top_extend and bottom_extend:\n",
    "                    cbar_extend = 'both'\n",
    "                if top_extend and not bottom_extend:\n",
    "                    cbar_extend = \"max\"\n",
    "                if not top_extend and bottom_extend:\n",
    "                    cbar_extend = \"min\"\n",
    "\n",
    "        axs = axs.ravel()\n",
    "\n",
    "    for index in range(len(age_lowlims)): # plot, lims, ticks, lines\n",
    "        \n",
    "        if True: # plot\n",
    "            age_low, age_high = age_lowlims[index], age_highlims[index]\n",
    "\n",
    "            if testing_bool:\n",
    "                axs[index].set_facecolor(\"k\")\n",
    "            else:\n",
    "                c = axs[index].contourf(count_list[index],extent=cont_extent,levels=contour_levels,extend=cbar_extend,cmap=cmap,norm=norm)\n",
    "\n",
    "                if contour_edges_bool:\n",
    "                    axs[index].contour(count_list[index],extent=cont_extent,levels=contour_levels,extend=cbar_extend,norm=norm,colors=\"k\",linewidths=0.3)\n",
    "\n",
    "        if True: # lims, ticks\n",
    "            if aspect_equal:\n",
    "                axs[index].set_aspect('equal')\n",
    "                \n",
    "            if True: # remove overlapping tick labels\n",
    "                \n",
    "                x_tick_labels = [r\"$%s$\"%str(MF.check_int(tick)) for tick in x_ticks]\n",
    "                \n",
    "                if x_ticks[-1] == x_right:\n",
    "                    if index != ncols - 1:\n",
    "                        x_tick_labels[-1] = None\n",
    "#                 if x_ticks[0] == x_left:\n",
    "#                     if index % ncols != 0:\n",
    "#                         x_tick_labels[0] = None\n",
    "            \n",
    "            axs[index].set_xticks(x_ticks);axs[index].set_yticks(y_ticks)\n",
    "            axs[index].set_xticklabels(x_tick_labels)\n",
    "            axs[index].set_yticklabels([r\"$%s$\"%str(MF.check_int(tick)) for tick in y_ticks])\n",
    "            axs[index].yaxis.set_minor_locator(ticker.MultipleLocator(x_minor_locator))\n",
    "            axs[index].xaxis.set_minor_locator(ticker.MultipleLocator(y_minor_locator))\n",
    "            axs[index].tick_params(axis='both', which='both', color=tick_colour)\n",
    "            \n",
    "            axs[index].set_xlim(x_left,x_right);axs[index].set_ylim(y_min,y_max)\n",
    "        \n",
    "            if index % ncols == 0: \n",
    "                axs[index].set_ylabel(y_label)\n",
    "            if index < nrows:\n",
    "                axs[index].set_xlabel(x_label)\n",
    "\n",
    "        if plotting_lines_bool:\n",
    "            highlight_factor = 3\n",
    "            \n",
    "            for ang in angle_range:\n",
    "                if ang in angle_selection:\n",
    "                    \n",
    "                    x_select = np.array(radius_selection)*np.cos(np.radians(ang))-abs(sun_coords[0])\n",
    "                    y_select = np.array(radius_selection)*np.sin(np.radians(ang))\n",
    "                    \n",
    "                    # outbound pieces\n",
    "                    axs[index].plot([sun_coords[0],x_select[0]],[sun_coords[1],y_select[0]], 'w--',linewidth=contour_lw,dashes=dashes)\n",
    "                    axs[index].plot([x_select[1],x_max],[y_select[1],(x_max+abs(sun_coords[0])) * np.tan(np.radians(ang))], 'w--',linewidth=contour_lw,dashes=dashes)\n",
    "                    \n",
    "                    # highlighted piece\n",
    "                    axs[index].plot(x_select,y_select, 'w--',linewidth=highlight_factor*contour_lw,dashes=[d/highlight_factor for d in dashes])\n",
    "                else:\n",
    "                    axs[index].plot([sun_coords[0],x_max],[sun_coords[1],(x_max+abs(sun_coords[0])) * np.tan(np.radians(ang))], 'w--',linewidth=contour_lw,dashes=dashes)\n",
    "                \n",
    "                if plotting_line_labels and ang in angle_label_vals:\n",
    "                    neg_shift = 0.25 if len(str(ang)) > min([len(str(a)) for a in angle_label_vals]) else 0\n",
    "                    \n",
    "                    ang_label_x = 12.3*np.cos(np.radians(ang))-abs(sun_coords[0])-neg_shift\n",
    "                    \n",
    "                    axs[index].text(x=ang_label_x,y=(ang_label_x+abs(sun_coords[0]))*np.tan(np.radians(ang))*1.03,\\\n",
    "                                    s=fr\"${ang}^\\circ$\",color=\"w\",rotation=ang,size=line_label_fontsize)\n",
    "            \n",
    "            for distance in distance_list:\n",
    "                \n",
    "                if distance in distance_selection:\n",
    "                    x_outer,y_outer = PH.get_ellipse_coords(distance, phirange=[angle_selection[1],angle_selection[0]])\n",
    "                    axs[index].plot(x_outer+sun_coords[0],y_outer+sun_coords[1], 'w--',linewidth=contour_lw,dashes=dashes)\n",
    "                    \n",
    "                    x_inner,y_inner = PH.get_ellipse_coords(distance, phirange=[angle_selection[0],angle_selection[1]])\n",
    "                    axs[index].plot(x_inner+sun_coords[0],y_inner+sun_coords[1], 'w--',linewidth=highlight_factor*contour_lw,dashes=[d/highlight_factor for d in dashes])\n",
    "                else:\n",
    "                    x_circ,y_circ = PH.get_ellipse_coords(distance)\n",
    "                    axs[index].plot(x_circ+sun_coords[0],y_circ+sun_coords[1], 'w--',linewidth=contour_lw,dashes=dashes)\n",
    "                    \n",
    "                if plotting_line_labels and distance in distance_label_vals:\n",
    "                    low_y = 0.95*y_min\n",
    "                    \n",
    "                    x_intersect = np.sqrt(distance**2 - low_y**2)\n",
    "                    slope = -x_intersect / np.sqrt(distance**2 - x_intersect**2)\n",
    "                    rot = -np.degrees(np.arctan(slope))\n",
    "                    \n",
    "                    indices_white_background = [0] if y_variable == \"z\" and np.diff(age_lowlims)[0] == 1 else []\n",
    "                    bbox = {'color':'white','boxstyle':'round','alpha':0.8} if index in indices_white_background else None\n",
    "                    d_color = 'k' if index in indices_white_background else 'white'\n",
    "                    \n",
    "                    axs[index].text(x=x_intersect-abs(sun_coords[0])-0.3,y=low_y,s=fr\"${distance}$ kpc\",color=d_color,rotation=rot,size=line_label_fontsize,bbox=bbox)\n",
    "            \n",
    "            for radius in radii_list:\n",
    "\n",
    "                if radius in radius_selection:\n",
    "                    x_outer,y_outer = PH.get_ellipse_coords(radius)#, phirange=[angle_selection[1],angle_selection[0]])\n",
    "                    axs[index].plot(x_outer,y_outer, 'w--',linewidth=contour_lw,dashes=dashes)\n",
    "                    \n",
    "                    x_inner,y_inner = PH.get_ellipse_coords(radius)#, phirange=[angle_selection[0],angle_selection[1]])\n",
    "                    axs[index].plot(x_inner,y_inner, 'w--',linewidth=highlight_factor*contour_lw,dashes=[d/highlight_factor for d in dashes])\n",
    "                else:\n",
    "                    x_circ,y_circ = PH.get_ellipse_coords(radius)\n",
    "                    axs[index].plot(x_circ,y_circ, 'w--',linewidth=contour_lw,dashes=dashes)\n",
    "        \n",
    "        if nrows*ncols == 2:\n",
    "            axs[index].set_title([\"Young\",\"Old\"][index])\n",
    "        else: # inline age labels\n",
    "            age_string = str(MF.return_int_or_dec(age_low))\n",
    "            age_string += \"-\"\n",
    "            age_string += str(MF.return_int_or_dec(age_high))\n",
    "            age_string += \" Gyr\"\n",
    "            full_age_str = f\"({'abcdefghijkl'[index]}) {age_string}\" if alphabet_bool else age_string\n",
    "\n",
    "            string_length = len(full_age_str)\n",
    "            x_text = 8/9*x_min\n",
    "            y_text = (5/6 if y_variableiable == \"y\" else 4/5)*y_max\n",
    "\n",
    "            indices_white_background = [0] if y_variableiable == \"z\" and np.diff(age_lowlims)[0] == 1 else []\n",
    "\n",
    "            bbox = {'color':'white','boxstyle':'round','alpha':0.8} if index in indices_white_background else None\n",
    "            age_text_colour = 'k' if index in indices_white_background else 'white'\n",
    "            axs[index].text(x=x_text,y=y_text,s=full_age_str,color=age_text_colour,bbox=bbox)        \n",
    "        \n",
    "        if white_frame_bool:\n",
    "            if range_str == \"_0to10_9.5_9.9\" and index >= len(age_lowlims) - 2:\n",
    "                axs[index].spines['top'].set_linewidth(4)\n",
    "                axs[index].spines['top'].set_color(\"white\")\n",
    "                if index == len(age_lowlims) - 2:\n",
    "                    axs[index].spines['left'].set_linewidth(4)\n",
    "                    axs[index].spines['left'].set_color(\"white\")\n",
    "    \n",
    "    if not testing_bool: #colorbar\n",
    "\n",
    "#         cbar_spacing = 'proportional'\n",
    "        cbar_spacing = 'uniform'\n",
    "        \n",
    "        if range_str == \"4-7_9.5-10\":\n",
    "            cax = fig.add_axes([axs[1].get_position().x1,axs[1].get_position().y0,0.02,axs[1].get_position().y1-axs[1].get_position().y0])\n",
    "            cbar = plt.colorbar(c,cax=cax,spacing=cbar_spacing)\n",
    "        else:\n",
    "            cbar_fraction = 0.02\n",
    "            cbar = plt.colorbar(c,ax=axs,pad=0.04,spacing=cbar_spacing,fraction=cbar_fraction)#,extendfrac='auto')\n",
    "\n",
    "        cbar_ax = cbar.ax\n",
    "        cbar_ax.set_ylabel(cbar_label)\n",
    "        \n",
    "        if True: #cbar ticks\n",
    "            cbar_ax.minorticks_on()\n",
    "            \n",
    "#             Take those contour levels of form 10^x\n",
    "            rounded_contours = np.array([MF.check_int(np.float32(np.log10(lev))) for lev in contour_levels])\n",
    "                \n",
    "            cbar_ticks = contour_levels[rounded_contours == rounded_contours.astype(int)]\n",
    "            \n",
    "#             cbar_ticks = contour_levels\n",
    "            \n",
    "            cbar.set_ticks(cbar_ticks)\n",
    "            \n",
    "            cbar_ax.tick_params(which='minor',color=cbar_tick_colour)\n",
    "            cbar_ax.tick_params(which='major',color=cbar_tick_colour)\n",
    "    \n",
    "    if extra_var_string_bool: #extra string textbox\n",
    "        decimals = \".1f\" if np.max([len(str(extra_max)),len(str(extra_min))]) < 4 else \".2f\"\n",
    "        low_decimal = decimals; high_decimal = decimals\n",
    "        if isinstance(extra_min,int): low_decimal = 'i'\n",
    "        if isinstance(extra_max,int): high_decimal = 'i'\n",
    "        \n",
    "        extra_x_text = x_max*5.1/5\n",
    "        extra_y_text = -y_max*(5.85/5 if nrows == 1 else 6.1/5)\n",
    "            \n",
    "        if extra_min == -extra_max or (extra_min == 0 and zabs):\n",
    "            extra_range_string = fr'$|%s|<%{high_decimal}$'%(extra_variable,extra_max)+r\"$\\hspace{%s}\\mathrm{%s}$\"%('0.2' if extra_variable_units != '^\\circ' else '0',extra_variable_units)\n",
    "        else:\n",
    "#             if extra_variable_units == '^\\circ': extra_variable_units = 'deg'\n",
    "            extra_x_text -= 0.8\n",
    "            \n",
    "            extra_range_string = fr'$%{low_decimal}<|{extra_variable}|<%{high_decimal}$'%(extra_min,extra_max)+r\"$\\hspace{%s}\\mathrm{%s}$\"%('0.2' if extra_variable_units != '^\\circ' else '0',extra_variable_units)\n",
    "        \n",
    "        axs[-1].text(x=extra_x_text,y=extra_y_text,s=extra_range_string,size=\"small\",bbox=dict(boxstyle=\"square\",fc='white',lw=0.03))\n",
    "\n",
    "        extra_string = f'_%{low_decimal}{extra_variable}%{high_decimal}'%(MF.check_int(extra_min) if (extra_min != -extra_max or y_variable == 'z') else 0,MF.check_int(extra_max))  \n",
    "    \n",
    "    if not testing_bool: # filename and save\n",
    "    \n",
    "        special_lines_string = '_specialLines' if (y_variable == 'z' and special_lines_bool) else ''\n",
    "        n_bins_string = f'_bins{n_bins}'\n",
    "        gauss_sigma_string = f'_gauss{gauss_sigma}'\n",
    "        extend_string = f'_{cbar_extend}Extend' if cbar_extend != 'neither' else ''\n",
    "        lines_string = \"_noLines\" if x_variable in \"xy\" and not plotting_lines_bool else \"\"\n",
    "        contour_edges_string = \"_edgesOn\" if contour_edges_bool else \"\"\n",
    "        \n",
    "        level_step_string = f\"_{level_step}levelStep\"\n",
    "        \n",
    "#         line_selection_str = \"_\"\n",
    "#         GC_circle_string = \"_3.5GC\" if plotting_GC_circle else \"\"\n",
    "\n",
    "        filename =\\\n",
    "        f\"AgeWindows{special_lines_string}{n_bins_string}{level_step_string}{gauss_sigma_string}{extend_string}{lines_string}{contour_edges_string}\"\n",
    "        print(filename)\n",
    "    \n",
    "        if save_bool:\n",
    "            print(\"Saving in\",save_path)\n",
    "            for save_format in ['.png','.pdf']:\n",
    "                plt.savefig(save_path + filename + save_format,bbox_inches='tight',dpi=300)\n",
    "                print('Saved '+save_format)\n",
    "    plt.show()"
   ]
  },
  {
   "cell_type": "code",
   "execution_count": null,
   "metadata": {},
   "outputs": [],
   "source": [
    "#old imshow\n",
    "def is_int(x):\n",
    "    return int(x)==x\n",
    "\n",
    "limit = 10\n",
    "xy_max=5;xy_min=-xy_max\n",
    "ticks = np.arange(x_min,x_max+1)\n",
    "fig, axs = plt.subplots(nrows=nrows,ncols=ncols,sharey=True,sharex=True,gridspec_kw={'hspace':0,'wspace':0})\n",
    "vmax = np.max(count_list)\n",
    "# vmin = np.min(count_list) if np.min(count_list) != 0 else 1\n",
    "# cbar_extend = 'neither'\n",
    "vmin = 10\n",
    "cbar_extend = 'min'\n",
    "\n",
    "axs = axs.ravel()\n",
    "\n",
    "for index in range(len(age_lowlims)):\n",
    "    age_low = age_lowlims[index]\n",
    "    age_high = age_highlims[index]\n",
    "    \n",
    "    counts = count_list[index]\n",
    "    im = axs[index].imshow(counts,norm=LogNorm(vmin=vmin,vmax=vmax),origin='lower',extent=[xy_min,xy_max]*2,aspect='equal')\n",
    "        \n",
    "    counts = gaussian_filter(counts,1)\n",
    "    contour_color = 'red'\n",
    "    axs[index].contour(counts,extent=[xy_min,xy_max,xy_min,xy_max],levels=contour_levels,colors=contour_color)#,100,500],cmap='Reds')\n",
    "    \n",
    "    axs[index].set_xlim(xy_min,xy_max)\n",
    "    axs[index].set_ylim(xy_min,xy_max)\n",
    "    \n",
    "    axs[index].set_aspect('equal')\n",
    "    axs[index].set_xticks(ticks)\n",
    "    axs[index].set_yticks(ticks)\n",
    "    \n",
    "    axs[index].tick_params(labelsize=16)\n",
    "    axs[index].set_xticklabels([r\"$%s$\"%str(MF.check_int(tick)) for tick in ticks])\n",
    "    axs[index].set_yticklabels([r\"$%s$\"%str(MF.check_int(tick)) for tick in ticks])\n",
    "    \n",
    "    axs[index].tick_params(axis='both', colors='grey')\n",
    "    [t.set_color('black') for t in axs[index].xaxis.get_ticklabels()]\n",
    "    [t.set_color('black') for t in axs[index].yaxis.get_ticklabels()]\n",
    "    \n",
    "    if axs[index].is_first_col():\n",
    "        axs[index].set_ylabel(r\"$y$ [kpc]\")\n",
    "    if axs[index].is_last_row():\n",
    "        axs[index].set_xlabel(r\"$x$ [kpc]\")\n",
    "    \n",
    "    age_string = str(MF.check_int(age_low)) if is_int(age_low) else \"%.1f\"%age_low\n",
    "    age_string += \"-\"\n",
    "    age_string += str(MF.check_int(age_high)) if is_int(age_high) else \"%.1f\"%age_high\n",
    "    age_string += \" Gyr\"\n",
    "    x_text = x_text_dict[len(age_string)]\n",
    "    if range_str == \"_0to10_9.5_9.8\":\n",
    "        if len(age_string) == 10:\n",
    "            x_text += 0.55\n",
    "        else:\n",
    "            x_text += 0.4\n",
    "        y_text = 2\n",
    "    else:\n",
    "        y_text = 2.2\n",
    "    axs[index].text(x=x_text,y=y_text,s=age_string,color='white',fontsize=11)\n",
    "    \n",
    "    if range_str == \"_0to10_9.5_9.8\" and index >= len(age_lowlims) - 2:\n",
    "        axs[index].spines['top'].set_linewidth(2)\n",
    "        axs[index].spines['top'].set_color(\"white\")\n",
    "        if index == len(age_lowlims) - 2:\n",
    "            axs[index].spines['left'].set_linewidth(2)\n",
    "            axs[index].spines['left'].set_color(\"white\")\n",
    "    \n",
    "axs[-1].text(x=5,y=-4.8,s=fr'$|z|<{z_max}$',size=15)\n",
    "cbar_ax = fig.add_axes(cbar_ax_params)\n",
    "cbar = plt.colorbar(im,cax=cbar_ax,extend=cbar_extend)\n",
    "cbar.set_ticks([10**i for i in range(1,5)])\n",
    "cbar_ax.set_ylabel(r\"$N$\",labelpad=15,rotation=0)\n",
    "cbar_ax.tick_params(which='minor',size=10)\n",
    "cbar_ax.tick_params(which='major',size=18)\n",
    "\n",
    "filename = \"AgeWindows\" + range_str + f\"_contour{contour_levels}\"\n",
    "# plt.savefig(save_path + filename + \".pdf\",bbox_inches='tight')#,dpi=150)\n",
    "plt.show()"
   ]
  },
  {
   "cell_type": "markdown",
   "metadata": {},
   "source": [
    "## Apogee windows"
   ]
  },
  {
   "cell_type": "code",
   "execution_count": null,
   "metadata": {},
   "outputs": [],
   "source": [
    "plt.rcParams['xtick.direction'] = 'out'\n",
    "plt.rcParams['ytick.direction'] = 'out'"
   ]
  },
  {
   "cell_type": "code",
   "execution_count": null,
   "metadata": {},
   "outputs": [],
   "source": [
    "i_lb, i_db, i_xy, i_xz = 0,1,2,3"
   ]
  },
  {
   "cell_type": "code",
   "execution_count": null,
   "metadata": {},
   "outputs": [],
   "source": [
    "# set limits\n",
    "\n",
    "max_b,min_b,max_l,min_l,max_d,min_d = data['b'].max(),data['b'].min(),data['l'].max(),data['l'].min(),data['d'].max(),data['d'].min()\n",
    "max_y,min_y,max_x,min_x,max_z,min_z = data['y'].max(),data['y'].min(),data['x'].max(),data['x'].min(),data['z'].max(),data['z'].min()\n",
    "\n",
    "lims_dict = {\n",
    "    i_lb: [max_l,min_l,min_b,max_b],\n",
    "    i_db: [min_d,max_d,min_b,max_b],\n",
    "    i_xy: [min_x,max_x,min_y,max_y],\n",
    "    i_xz: [min_x,max_x,min_z,max_z]\n",
    "}\n",
    "\n",
    "# These will take effect if setting bulge_bool=True below\n",
    "xmin,xmax,ymin,ymax,zmax,lmin,lmax,bmax,dmin,dmax=-2,2,-2,2,1.4,-10,10,10,6,10\n",
    "zmin,bmin = 0.15,1#0,0 \n",
    "minmax_dict = {\n",
    "    i_lb: [lmin,lmax,bmin,bmax],\n",
    "    i_db: [dmin,dmax,bmin,bmax],\n",
    "    i_xy: [xmin,xmax,ymin,ymax],\n",
    "    i_xz: [xmin,xmax,zmin,zmax]\n",
    "}"
   ]
  },
  {
   "cell_type": "code",
   "execution_count": null,
   "metadata": {},
   "outputs": [],
   "source": [
    "bulge_bool = False\n",
    "drawlims_bool = False\n",
    "\n",
    "n_bin = 70\n",
    "\n",
    "cut_lw = 0.75"
   ]
  },
  {
   "cell_type": "code",
   "execution_count": null,
   "metadata": {},
   "outputs": [],
   "source": [
    "#Generate histograms\n",
    "\n",
    "fig, axs = plt.subplots(nrows=2,ncols=2,figsize=(10,10),gridspec_kw={'wspace':0.3,'hspace':-0.43})#,'width_ratios':[1,1],'height_ratios':[2,1]})#[[1,1],[1,0.5]]\n",
    "\n",
    "axs = np.ravel(axs)\n",
    "\n",
    "cmap = 'viridis'\n",
    "\n",
    "l_bins = n_bin\n",
    "b_bins_lb = int(l_bins*(max_b-min_b)/(max_l-min_l))\n",
    "h1 = axs[i_lb].hist2d(data['l'],data['b'],bins=[l_bins,b_bins_lb],cmap=cmap,norm=LogNorm())\n",
    "axs[i_lb].set_xlabel(r'$l$ [%s]'%degree_symbol);axs[i_lb].set_ylabel(r'$|b|$ [%s]'%degree_symbol)\n",
    "axs[i_lb].set_xticks(np.arange(-10,10+2,2));axs[i_lb].set_xticks(np.arange(-10,10+1,1),minor=True);\n",
    "axs[i_lb].set_yticks(np.arange(0,int(max_b)+2,2));axs[i_lb].set_yticks(np.arange(0,max_b+1,1),minor=True);\n",
    "axs[i_lb].set_xlim(data['l'].max(),data['l'].min())\n",
    "\n",
    "d_bins = n_bin\n",
    "db_aspect = 0.325\n",
    "b_bins_db = int(d_bins*db_aspect*(max_b-min_b)/(max_d-min_d))\n",
    "h2 = axs[i_db].hist2d(data['d'],data['b'],bins=[d_bins,b_bins_db],cmap=cmap,norm=LogNorm())\n",
    "axs[i_db].set_xlabel(r'$d$ [kpc]');axs[i_db].set_ylabel(r'$|b|$ [%s]'%degree_symbol);axs[i_db].set_yticks([0,5,10]);axs[i_db].set_yticks([0,5,10])\n",
    "axs[i_db].set_aspect(db_aspect)\n",
    "\n",
    "x_bins = n_bin\n",
    "y_bins = int(x_bins*(max_y-min_y)/(max_x-min_x))\n",
    "h3 = axs[i_xy].hist2d(data['x'],data['y'],bins=[x_bins,y_bins],cmap=cmap,norm=LogNorm())\n",
    "axs[i_xy].set_xlabel(r'$x$ [kpc]');axs[i_xy].set_ylabel(r'$y$ [kpc]');axs[i_xy].set_xticks([-3,-2,-1,0,1,2,3]);axs[i_xy].set_yticks([-2,-1,0,1,2])\n",
    "\n",
    "x_bins = n_bin\n",
    "z_bins = int(x_bins*(max_z-min_z)/(max_x-min_x))\n",
    "h4 = axs[i_xz].hist2d(data['x'],data['z'],bins=[x_bins,z_bins],cmap=cmap,norm=LogNorm())\n",
    "axs[i_xz].set_xlabel(r'$x$ [kpc]');axs[i_xz].set_ylabel(r'$|z|$ [kpc]');axs[i_xz].set_xticks([-3,-2,-1,0,1,2,3]);axs[i_xz].set_yticks([0,1,2])\n",
    "\n",
    "for ax_index in [i_lb,i_xy,i_xz]:\n",
    "    axs[ax_index].set_aspect('equal')\n",
    "    \n",
    "# plt.savefig(general_path+'apogee_windows.png',bbox_inches='tight', dpi=150)\n",
    "# print(general_path+'apogee_windows.png')\n",
    "plt.close()"
   ]
  },
  {
   "cell_type": "code",
   "execution_count": null,
   "metadata": {},
   "outputs": [],
   "source": [
    "save_bool = False\n",
    "\n",
    "save_path = general_path + '708main_simulation/graphs/Observations/Apogee/apogee_windows/'\n",
    "\n",
    "if True: #filename\n",
    "    \n",
    "    drawlims_string = '_drawlims' if drawlims_bool else ''\n",
    "    bulge_string = '_bulge' if bulge_bool else ''\n",
    "    \n",
    "    filename = f\"apogee_windows_bin{n_bin}{drawlims_string}\"\n",
    "    print(filename)"
   ]
  },
  {
   "cell_type": "code",
   "execution_count": null,
   "metadata": {},
   "outputs": [],
   "source": [
    "# Plot\n",
    "\n",
    "fig, axs = plt.subplots(nrows=2,ncols=2,figsize=(10,10),gridspec_kw={'wspace':0.3,'hspace':-0.38})#,'width_ratios':[1,1],'height_ratios':[2,1]})#[[1,1],[1,0.5]]\n",
    "\n",
    "axs = np.ravel(axs)\n",
    "\n",
    "vmax = np.max([np.max(h1[0]),np.max(h2[0]),np.max(h3[0]),np.max(h4[0])])\n",
    "cmap = 'viridis'\n",
    "\n",
    "norm = LogNorm(vmax=vmax)\n",
    "\n",
    "im1 = axs[i_lb].imshow(h1[0].T,cmap=cmap,extent=[min_l,max_l,min_b,max_b],origin='lower',norm=norm)\n",
    "axs[i_lb].set_xlabel(r'$l$ [%s]'%degree_symbol);axs[i_lb].set_ylabel(r'$|b|$ [%s]'%degree_symbol)\n",
    "axs[i_lb].set_xticks(np.arange(-9,9+3,3));axs[i_lb].set_xticks(np.arange(-10,10+1,1),minor=True);\n",
    "axs[i_lb].set_yticks(np.arange(0,int(max_b)+2,2));axs[i_lb].set_yticks(np.arange(0,max_b+0.5,0.5),minor=True);\n",
    "axs[i_lb].invert_xaxis()\n",
    "\n",
    "im2 = axs[i_db].imshow(h2[0].T,cmap=cmap,extent=[min_d,max_d,min_b,max_b],origin='lower',norm=norm)\n",
    "axs[i_db].set_xlabel(r'$d$ [kpc]');axs[i_db].set_ylabel(r'$|b|$ [%s]'%degree_symbol);axs[i_db].set_xticks(np.arange(4,12,0.25), minor=True);axs[i_db].set_xlim(min_d,max_d)\n",
    "axs[i_db].set_xticks(np.arange(5,11+1,1));axs[i_db].set_yticks(np.arange(0,int(max_b)+2,2));axs[i_db].set_yticks(np.arange(0,max_b+0.5,0.5),minor=True)#axs[i_db].set_yticks([0,5,10])\n",
    "axs[i_db].set_aspect(db_aspect)\n",
    "\n",
    "im3 = axs[i_xy].imshow(h3[0].T,cmap=cmap,extent=[min_x,max_x,min_y,max_y],origin='lower',norm=norm)\n",
    "axs[i_xy].set_xlabel(r'$x$ [kpc]');axs[i_xy].set_ylabel(r'$y$ [kpc]');axs[i_xy].set_xticks([-3,-2,-1,0,1,2,3]);axs[i_xy].set_yticks([-2,-1,0,1,2])\n",
    "axs[i_xy].set_xticks(np.arange(-4,4,0.25), minor=True);axs[i_xy].set_yticks(np.arange(-3,3,0.25), minor=True)\n",
    "\n",
    "im4 = axs[i_xz].imshow(h4[0].T,cmap=cmap,extent=[min_x,max_x,min_z,max_z],origin='lower',norm=norm)\n",
    "axs[i_xz].set_xlabel(r'$x$ [kpc]');axs[i_xz].set_ylabel(r'$|z|$ [kpc]');axs[i_xz].set_xticks([-3,-2,-1,0,1,2,3]);axs[i_xz].set_yticks([0,1,2])\n",
    "axs[i_xz].set_xticks(np.arange(-4,4,0.25), minor=True);axs[i_xz].set_yticks(np.arange(0,3,0.25), minor=True)\n",
    "\n",
    "for ax_index in [i_lb,i_xy,i_xz]:\n",
    "    axs[ax_index].set_aspect('equal')\n",
    "\n",
    "if bulge_bool:\n",
    "    axs[i_lb].set_xlim(lmax,lmin);axs[i_lb].set_ylim(bmin,bmax)\n",
    "    axs[i_db].set_xlim(dmin,dmax);axs[i_lb].set_ylim(bmin,bmax)\n",
    "    axs[i_xy].set_xlim(xmin,xmax);axs[i_xy].set_ylim(ymin,ymax)\n",
    "    axs[i_xz].set_xlim(xmin,xmax);axs[i_xz].set_ylim(zmin,zmax)\n",
    "elif drawlims_bool:\n",
    "    for i in [i_lb,i_db,i_xy,i_xz]:\n",
    "        xmin,xmax,ymin,ymax=minmax_dict[i]\n",
    "        axs[i].plot([xmin,xmin],[ymin,ymax],color='red',linewidth=cut_lw);axs[i].plot([xmax,xmax],[ymin,ymax],color='red',linewidth=cut_lw)\n",
    "        axs[i].plot([xmin,xmax],[ymin,ymin],color='red',linewidth=cut_lw);axs[i].plot([xmin,xmax],[ymax,ymax],color='red',linewidth=cut_lw)\n",
    "        \n",
    "for i in [i_lb,i_db,i_xy,i_xz]:\n",
    "    xleft,xright,yleft,yright = lims_dict[i]\n",
    "    axs[i].set_xlim(xleft,xright);axs[i].set_ylim(yleft,yright)\n",
    "    \n",
    "cbar_ax = fig.add_axes([0.25, 0.8, 0.5, 0.05]) #left,bottom,width,height\n",
    "fig.colorbar(im4, cax=cbar_ax,orientation='horizontal')\n",
    "cbar_ax.tick_params(axis='x',which='both',top=True,bottom=False,labelbottom=False,labeltop=True,direction='in',color='white')\n",
    "cbar_ax.tick_params(which='major',length=30,width=1);cbar_ax.tick_params(which='minor',length=20,width=1);cbar_ax.set_ylabel(r'$N$',rotation=0,labelpad=-380,y=0.3)\n",
    "major_ticks,minor_ticks = np.array(cbar_ax.get_xticks()),np.array(cbar_ax.get_xticks(minor=True))\n",
    "cbar_ax.set_xticklabels([str(i) for i in major_ticks.astype(int)])\n",
    "cbar_ax.set_xticklabels([str(i) if '5' in str(i) else '' for i in minor_ticks.astype(int)], minor=True)\n",
    "\n",
    "if save_bool:\n",
    "    print(\"Saving:\",save_path+filename)\n",
    "    for fileformat in [\".png\",\".pdf\"]:\n",
    "        plt.savefig(save_path+filename+fileformat,bbox_inches='tight', dpi=200)\n",
    "        print(fileformat)\n",
    "plt.show()"
   ]
  },
  {
   "cell_type": "code",
   "execution_count": null,
   "metadata": {},
   "outputs": [],
   "source": [
    "8.2-3.5,8.2+3.5"
   ]
  },
  {
   "cell_type": "code",
   "execution_count": null,
   "metadata": {},
   "outputs": [],
   "source": [
    "data[\"d\"].min(),data[\"d\"].max()"
   ]
  },
  {
   "cell_type": "code",
   "execution_count": null,
   "metadata": {},
   "outputs": [],
   "source": [
    "#Set this back\n",
    "\n",
    "plt.rcParams['xtick.direction'] = 'in'\n",
    "plt.rcParams['ytick.direction'] = 'in'"
   ]
  },
  {
   "cell_type": "markdown",
   "metadata": {},
   "source": [
    "# Checks"
   ]
  },
  {
   "cell_type": "markdown",
   "metadata": {},
   "source": [
    "## bz conversion"
   ]
  },
  {
   "cell_type": "code",
   "execution_count": null,
   "metadata": {},
   "outputs": [],
   "source": [
    "cmap = cm.get_cmap('plasma')"
   ]
  },
  {
   "cell_type": "code",
   "execution_count": null,
   "metadata": {},
   "outputs": [],
   "source": [
    "fig,ax=plt.subplots(figsize=(5,5))\n",
    "for i in np.arange(0,1,0.1):\n",
    "    ax.plot([0+i*10,0+i*10],[0,1],color=cmap(i),lw=5)\n",
    "plt.show()"
   ]
  },
  {
   "cell_type": "code",
   "execution_count": null,
   "metadata": {},
   "outputs": [],
   "source": [
    "# save_bool = True\n",
    "save_bool = False"
   ]
  },
  {
   "cell_type": "code",
   "execution_count": null,
   "metadata": {},
   "outputs": [],
   "source": [
    "# bmax with different d lines\n",
    "\n",
    "bmin,bmax=0,10\n",
    "\n",
    "fig,ax=plt.subplots()\n",
    "b = np.linspace(bmin,bmax,50)\n",
    "\n",
    "for d,c in zip([6,8,10],[0.2,0.6,0.8]):\n",
    "    z = np.sin(np.radians(b))*d\n",
    "    ax.plot(b,z,color=cmap(c),label=fr'$d={d}$'+' kpc',lw=2)\n",
    "if True: # lims, ticks, grid\n",
    "\n",
    "    ax.set_xlabel(r'$b \\hspace{0.3}[^\\circ]$')\n",
    "    ax.set_ylabel(r'$z$'+ r\" $[$kpc$]$\")\n",
    "    ax.tick_params(labelright=True,labeltop=True)\n",
    "    \n",
    "    ax.set_xticks(np.arange(bmin,bmax+1,1))\n",
    "    ax.set_xticks(np.arange(bmin,bmax+0.5,0.5),minor=True)\n",
    "    ax.set_xlim(bmin,bmax)\n",
    "    \n",
    "    zmin = min(z)\n",
    "    zmax = 1.75\n",
    "    ax.set_yticks(np.arange(zmin,zmax+0.1,0.1))\n",
    "    ax.set_yticks(np.arange(zmin,zmax+0.05,0.05),minor=True)\n",
    "    ax.set_ylim(zmin,zmax)\n",
    "    \n",
    "    plt.grid(which='both')\n",
    "plt.legend()\n",
    "if save_bool:\n",
    "    filename = f'conversion_b{bmax}.png'\n",
    "    plt.savefig(general_path+'708main_simulation/graphs/'+filename,dpi=200,bbox_inches='tight')\n",
    "    print(\"Saved:\",filename)\n",
    "plt.show()"
   ]
  },
  {
   "cell_type": "code",
   "execution_count": null,
   "metadata": {},
   "outputs": [],
   "source": [
    "# bmax with different x lines\n",
    "\n",
    "bmin,bmax=0,10\n",
    "\n",
    "fig,ax=plt.subplots()\n",
    "b = np.linspace(bmin,bmax,50)\n",
    "\n",
    "for d,c in zip([6,8,10],[0.2,0.6,0.8]):\n",
    "    z = np.sin(np.radians(b))*d\n",
    "    ax.plot(b,z,color=cmap(c),label=fr'$d={d}$'+' kpc',lw=2)\n",
    "if True: # lims, ticks, grid\n",
    "\n",
    "    ax.set_xlabel(r'$b \\hspace{0.3}[^\\circ]$')\n",
    "    ax.set_ylabel(r'$z$'+ r\" $[$kpc$]$\")\n",
    "    ax.tick_params(labelright=True,labeltop=True)\n",
    "    \n",
    "    ax.set_xticks(np.arange(bmin,bmax+1,1))\n",
    "    ax.set_xticks(np.arange(bmin,bmax+0.5,0.5),minor=True)\n",
    "    ax.set_xlim(bmin,bmax)\n",
    "    \n",
    "    zmin = min(z)\n",
    "    zmax = 1.75\n",
    "    ax.set_yticks(np.arange(zmin,zmax+0.1,0.1))\n",
    "    ax.set_yticks(np.arange(zmin,zmax+0.05,0.05),minor=True)\n",
    "    ax.set_ylim(zmin,zmax)\n",
    "    \n",
    "    plt.grid(which='both')\n",
    "plt.legend()\n",
    "if save_bool:\n",
    "    filename = f'conversion_b{bmax}.png'\n",
    "    plt.savefig(general_path+'708main_simulation/graphs/'+filename,dpi=200,bbox_inches='tight')\n",
    "    print(\"Saved:\",filename)\n",
    "plt.show()"
   ]
  },
  {
   "cell_type": "code",
   "execution_count": null,
   "metadata": {},
   "outputs": [],
   "source": [
    "save_bool = True"
   ]
  },
  {
   "cell_type": "code",
   "execution_count": null,
   "metadata": {},
   "outputs": [],
   "source": [
    "#zmax\n",
    "\n",
    "zmin,zmax=0,1.9\n",
    "\n",
    "fig,ax=plt.subplots()\n",
    "z = np.linspace(zmin,zmax,50)\n",
    "\n",
    "for d,c in zip([6,8,10],[0.2,0.6,0.8]):\n",
    "    b = np.degrees(np.arcsin(z/d))\n",
    "    ax.plot(b,z,color=cmap(c),label=fr'$d={d}$'+' kpc',lw=2)\n",
    "if True: # lims, ticks, grid\n",
    "\n",
    "    ax.set_xlabel(r'$b \\hspace{0.3}[^\\circ]$')\n",
    "    ax.set_ylabel(r'$z$'+ r\" $[$kpc$]$\")\n",
    "    ax.tick_params(labelright=True,labeltop=True)\n",
    "    \n",
    "    bmin = min(b)\n",
    "    bmax = max(b)\n",
    "    ax.set_xticks(np.arange(bmin,bmax+1,1))\n",
    "    ax.set_xticks(np.arange(bmin,bmax+0.5,0.5),minor=True)\n",
    "    ax.set_xlim(bmin,bmax)\n",
    "    \n",
    "    ax.set_yticks(np.arange(zmin,zmax+0.1,0.1))\n",
    "    ax.set_yticks(np.arange(zmin,zmax+0.05,0.05),minor=True)\n",
    "    ax.set_ylim(zmin,zmax)\n",
    "    \n",
    "    plt.grid(which='both')\n",
    "plt.legend()\n",
    "if save_bool:\n",
    "    filename = f'conversion_z{zmax}.png'\n",
    "    plt.savefig(general_path+'708main_simulation/graphs/'+filename,dpi=200,bbox_inches='tight')\n",
    "    print(\"Saved:\",filename)\n",
    "plt.show()"
   ]
  },
  {
   "cell_type": "markdown",
   "metadata": {},
   "source": [
    "## Bootstrap convergence"
   ]
  },
  {
   "cell_type": "code",
   "execution_count": null,
   "metadata": {},
   "outputs": [],
   "source": [
    "array = np.random.uniform(10,size=100)"
   ]
  },
  {
   "cell_type": "code",
   "execution_count": null,
   "metadata": {},
   "outputs": [],
   "source": [
    "def compute_quantity(array):\n",
    "    return np.percentile(array,95)/np.std(array)"
   ]
  },
  {
   "cell_type": "code",
   "execution_count": null,
   "metadata": {},
   "outputs": [],
   "source": [
    "true_val = compute_quantity(array) # made up metric\n",
    "print(true_val)"
   ]
  },
  {
   "cell_type": "code",
   "execution_count": null,
   "metadata": {},
   "outputs": [],
   "source": [
    "repeat_list = [10**i for i in range(7)]\n",
    "mean_val_list = []\n",
    "\n",
    "for R in repeat_list:\n",
    "    boot_val_list = []\n",
    "    for _ in range(R):\n",
    "        bootstrap_array = np.random.choice(array,size=len(array),replace=True)\n",
    "        boot_value = compute_quantity(bootstrap_array)\n",
    "        boot_val_list.append(boot_value)\n",
    "    mean_val_list.append(np.mean(boot_val_list))\n",
    "    print(\"Done:\",R)"
   ]
  },
  {
   "cell_type": "code",
   "execution_count": null,
   "metadata": {},
   "outputs": [],
   "source": [
    "print(repeat_list[2:],'\\n',mean_val_list[2:])"
   ]
  },
  {
   "cell_type": "code",
   "execution_count": null,
   "metadata": {},
   "outputs": [],
   "source": [
    "fig,ax=plt.subplots()\n",
    "ax.axhline(y=true_val,color='red')\n",
    "ax.plot(repeat_list, mean_val_list)\n",
    "plt.show()"
   ]
  },
  {
   "cell_type": "markdown",
   "metadata": {},
   "source": [
    "## Vertex error"
   ]
  },
  {
   "cell_type": "code",
   "execution_count": null,
   "metadata": {},
   "outputs": [],
   "source": [
    "vr = data_bulge_poor[np.abs(data_bulge_poor['l'])<1].vr.values\n",
    "vl = data_bulge_poor[np.abs(data_bulge_poor['l'])<1].vl.values"
   ]
  },
  {
   "cell_type": "code",
   "execution_count": null,
   "metadata": {},
   "outputs": [],
   "source": [
    "correcting_branch = True\n",
    "# If True, it will convert all bootstrap values to the branch (lv-90, lv+90]"
   ]
  },
  {
   "cell_type": "code",
   "execution_count": null,
   "metadata": {},
   "outputs": [],
   "source": [
    "true_vertex = CV.calculate_tilt(vr,vl)\n",
    "print(\"-True value:\",true_vertex,'\\n')\n",
    "\n",
    "if correcting_branch:\n",
    "    vertex_boot_values,std = CE.get_std_bootstrap(vr,vl,CV.calculate_tilt,tilt=True,give_values=True)\n",
    "else:\n",
    "    vertex_boot_values,std = CE.get_std_bootstrap(vr,vl,CV.calculate_tilt,give_values=True)\n",
    "\n",
    "print(\"-Boot values:\\n\",vertex_boot_values,'\\n')\n",
    "print(\"-Std:\",std)"
   ]
  },
  {
   "cell_type": "code",
   "execution_count": null,
   "metadata": {},
   "outputs": [],
   "source": [
    "fig, ax = plt.subplots()\n",
    "\n",
    "for angle in vertex_boot_values:\n",
    "    ax.plot([0,np.cos(np.radians(angle))],[0,np.sin(np.radians(angle))], color='k')\n",
    "ax.plot([0,np.cos(np.radians(true_vertex))],[0,np.sin(np.radians(true_vertex))], color='red',lw=3)\n",
    "axis_angles = np.radians(np.arange(-180, 180+45,45))\n",
    "for angle in axis_angles:\n",
    "    ax.plot([0,np.cos(angle)],[0,np.sin(angle)],'b--', lw=1)\n",
    "ax.set_aspect('equal')\n",
    "#plt.savefig(error_path+filename+'.png', bbox_inches='tight')\n",
    "plt.show()"
   ]
  },
  {
   "cell_type": "markdown",
   "metadata": {},
   "source": [
    "## Monte Carlo"
   ]
  },
  {
   "cell_type": "code",
   "execution_count": null,
   "metadata": {},
   "outputs": [],
   "source": [
    "val = [5,10,-10,0]\n",
    "sd = [1,2,3,10]\n",
    "\n",
    "b = []\n",
    "for i in range(500):\n",
    "    b.append(np.random.normal(val,sd))\n",
    "    \n",
    "b = np.array(b)\n",
    "fig, ax = plt.subplots()\n",
    "\n",
    "colors = ['green','blue','red','orange']\n",
    "bins = np.arange(-30,30,0.5)\n",
    "for i in range(len(val)):\n",
    "    ax.hist(b[:,i],bins=bins,histtype='step',label=r\"$\\langle x \\rangle, \\sigma=%i,%i$\"%(val[i],sd[i]),density=True,color=colors[i],linewidth=2)\n",
    "    ax.plot(bins,np.exp(-(bins-val[i])**2/(2*sd[i]**2))/np.sqrt(2*np.pi*sd[i]**2),color=colors[i],linestyle='--')\n",
    "\n",
    "ax.legend()\n",
    "plt.show()"
   ]
  },
  {
   "cell_type": "markdown",
   "metadata": {},
   "source": [
    "# Other plots"
   ]
  },
  {
   "cell_type": "markdown",
   "metadata": {},
   "source": [
    "## quiver"
   ]
  },
  {
   "cell_type": "code",
   "execution_count": null,
   "metadata": {},
   "outputs": [],
   "source": [
    "xylim = 0.5\n",
    "zlim = 2"
   ]
  },
  {
   "cell_type": "code",
   "execution_count": null,
   "metadata": {},
   "outputs": [],
   "source": [
    "df = df0[(np.abs(df0['x'])<xylim)&(np.abs(df0['y'])<xylim)&(df0['z']<2)]#&(np.abs(df0['l'])<2)]"
   ]
  },
  {
   "cell_type": "code",
   "execution_count": null,
   "metadata": {},
   "outputs": [],
   "source": [
    "df_young = df[(df['age']<8.5)&(df['age']>4)]"
   ]
  },
  {
   "cell_type": "code",
   "execution_count": null,
   "metadata": {},
   "outputs": [],
   "source": [
    "quiver_df = df_young[::300]"
   ]
  },
  {
   "cell_type": "code",
   "execution_count": null,
   "metadata": {},
   "outputs": [],
   "source": [
    "xylim = 3"
   ]
  },
  {
   "cell_type": "markdown",
   "metadata": {},
   "source": [
    "**Divide stars up into equal-number pixels and get their average velocity component, then do a quiver plot of that.\n",
    "**Maybe first work with stars that have, say, v_R > 0 and v_R < 0 separately so that the average doesn't just cancel out"
   ]
  },
  {
   "cell_type": "code",
   "execution_count": null,
   "metadata": {},
   "outputs": [],
   "source": [
    "fig, ax = plt.subplots()\n",
    "n = 1\n",
    "ax.hist2d(df_young['x'],df_young['y'],bins=50,norm=LogNorm())\n",
    "ax.quiver(quiver_df['x'][::n],quiver_df['y'][::n],quiver_df['vx'][::n],quiver_df['vy'][::n],np.sqrt(quiver_df['vx'][::n]**2+quiver_df['vy'][::n]**2),scale=10000,cmap='Reds')\n",
    "ax.set_xlim(-xylim,xylim);ax.set_ylim(-xylim,xylim);ax.set_aspect('equal')\n",
    "ax.set_yticks([]);ax.set_xticks([])\n",
    "plt.savefig('dementors.pdf')\n",
    "plt.show()"
   ]
  },
  {
   "cell_type": "markdown",
   "metadata": {},
   "source": [
    "## Latitude plot windows"
   ]
  },
  {
   "cell_type": "code",
   "execution_count": null,
   "metadata": {},
   "outputs": [],
   "source": [
    "xy_min = -3\n",
    "xy_max = 3\n",
    "z_max = 3\n",
    "\n",
    "ticks = [xy_min/2,0,xy_max/2]\n",
    "\n",
    "df_extra = df0[(df0['x']>xy_min)&(df0['y']>xy_min)&(df0['x']<xy_max)&(df0['y']<xy_max)&(df0['z']<z_max)]\n",
    "# df_extra = df0[(df0['x']>xy_min)&(df0['y']>xy_min)&(df0['x']<xy_max)&(df0['y']<xy_max)&(df0['z']<z_max)]\n",
    "\n",
    "df_lat = df_extra[(df_extra['l']<2)&(df_extra['l']>-2)]"
   ]
  },
  {
   "cell_type": "code",
   "execution_count": null,
   "metadata": {},
   "outputs": [],
   "source": [
    "n_1dbins = 100\n",
    "bins = [np.linspace(-2.1,2.1,n_1dbins),np.linspace(0,1.5,n_1dbins)]"
   ]
  },
  {
   "cell_type": "code",
   "execution_count": null,
   "metadata": {},
   "outputs": [],
   "source": [
    "old_min = 9.5\n",
    "lat_age_cuts = [[4,8.5],[old_min,10]]"
   ]
  },
  {
   "cell_type": "code",
   "execution_count": null,
   "metadata": {},
   "outputs": [],
   "source": [
    "save_path = general_path + f\"708main_simulation/graphs/Observations/Apogee/scaling_1.7/latitude/-2l2/6d10/4-8.5_{old_min}-10/\""
   ]
  },
  {
   "cell_type": "code",
   "execution_count": null,
   "metadata": {},
   "outputs": [],
   "source": [
    "fig, axs = plt.subplots(nrows=2,gridspec_kw={'hspace':-0.25})\n",
    "\n",
    "for ax,age in zip(axs,lat_age_cuts):\n",
    "    df = df_lat[(df_lat['age']>age[0])&(df_lat['age']<age[1])]\n",
    "    \n",
    "    ax.hist2d(df['x'],df['z'],bins=bins,norm=LogNorm(),cmap='inferno')\n",
    "\n",
    "    sun_coords = [-8,0]\n",
    "    latitude_range = [1.5*i for i in range(7)]\n",
    "    y_range_l = (d_max+abs(sun_coords[0])) * np.tan(np.radians(latitude_range))\n",
    "    for y_l in y_range_l:\n",
    "        ax.plot([sun_coords[0],d_max],[sun_coords[1],y_l], color='white',linestyle='--',linewidth=1.3)\n",
    "\n",
    "    radii_list = np.array([6,10])\n",
    "    for radius in radii_list:\n",
    "        x_circ,y_circ = get_circle(radius)\n",
    "        ax.plot(x_circ+sun_coords[0],y_circ+sun_coords[1], color='white',linestyle='--',linewidth=1.3)\n",
    "\n",
    "    ax.set_ylim(0,1.5)\n",
    "    ax.set_xlim(-2.1,2.1)\n",
    "    ax.set_aspect('equal')\n",
    "    ax.set_ylabel(r'$z$ [kpc]')\n",
    "    \n",
    "    # age text\n",
    "    string = f\"{age[0]}-{age[1]} Gyr\"\n",
    "    ax.text(s=string,x=-2,y=1.3,color='black',bbox=dict(facecolor='cyan',boxstyle='round'))\n",
    "axs[1].set_xlabel(r\"$x$ [kpc]\")\n",
    "s = f\"$-2 < l[^\\circ] < 2$\"\n",
    "ax.text(s=s,x = 1.5,y=-0.34,size=14)\n",
    "plt.savefig(save_path+'xz_view.png',bbox_inches='tight',dpi=150)\n",
    "plt.show()"
   ]
  },
  {
   "cell_type": "markdown",
   "metadata": {},
   "source": [
    "# Azimuthal mean"
   ]
  },
  {
   "cell_type": "code",
   "execution_count": null,
   "metadata": {},
   "outputs": [],
   "source": [
    "all_columns = df0.columns.to_list()\n",
    "print(all_columns)\n",
    "\n",
    "#Keep galactocentric rectangular coordinates and age\n",
    "delete_columns = [column for column in all_columns if column not in ('x','y','z','vx','vy','vz','age')]\n",
    "print(delete_columns)"
   ]
  },
  {
   "cell_type": "code",
   "execution_count": null,
   "metadata": {},
   "outputs": [],
   "source": [
    "df0.drop(columns=delete_columns, inplace=True)"
   ]
  },
  {
   "cell_type": "code",
   "execution_count": null,
   "metadata": {},
   "outputs": [],
   "source": [
    "df0.head()"
   ]
  },
  {
   "cell_type": "code",
   "execution_count": null,
   "metadata": {},
   "outputs": [],
   "source": [
    "df0['R'], df0['phi'] = xy_to_Rphi(df0['x'],df0['y'])\n",
    "df0['vR'], df0['vphi'] = vxvy_to_vRvphi(df0['vx'],df0['vy'],df0['phi'])"
   ]
  },
  {
   "cell_type": "code",
   "execution_count": null,
   "metadata": {},
   "outputs": [],
   "source": [
    "df0.loc[df0['phi']<0,'phi'] += 360"
   ]
  },
  {
   "cell_type": "code",
   "execution_count": null,
   "metadata": {},
   "outputs": [],
   "source": [
    "df0['phi'].max()"
   ]
  },
  {
   "cell_type": "code",
   "execution_count": null,
   "metadata": {},
   "outputs": [],
   "source": [
    "df0['phi'].min()"
   ]
  },
  {
   "cell_type": "code",
   "execution_count": null,
   "metadata": {},
   "outputs": [],
   "source": [
    "for i in range(10):\n",
    "    df0['phi'] += 360*np.random.random(len(df0))"
   ]
  },
  {
   "cell_type": "code",
   "execution_count": null,
   "metadata": {},
   "outputs": [],
   "source": [
    "df0['phi'] %= 360"
   ]
  },
  {
   "cell_type": "code",
   "execution_count": null,
   "metadata": {},
   "outputs": [],
   "source": [
    "df0['phi'].max()"
   ]
  },
  {
   "cell_type": "code",
   "execution_count": null,
   "metadata": {},
   "outputs": [],
   "source": [
    "df0['phi'].min()"
   ]
  },
  {
   "cell_type": "code",
   "execution_count": null,
   "metadata": {},
   "outputs": [],
   "source": [
    "df0.drop(columns = ['x','y','vx','vy'], inplace=True)"
   ]
  },
  {
   "cell_type": "code",
   "execution_count": null,
   "metadata": {},
   "outputs": [],
   "source": [
    "df0['x'], df0['y'] = Rphi_to_xy(df0['R'],df0['phi'])\n",
    "df0['vx'],df0['vy'] = vRvphi_to_vxvy(df0['vR'],df0['vphi'],df0['phi'])"
   ]
  },
  {
   "cell_type": "markdown",
   "metadata": {},
   "source": [
    "## Check"
   ]
  },
  {
   "cell_type": "code",
   "execution_count": null,
   "metadata": {},
   "outputs": [],
   "source": [
    "fig, ax = plt.subplots()#figsize=(10,10))\n",
    "\n",
    "first_i = 100\n",
    "last_i = 150\n",
    "\n",
    "indices = np.arange(first_i, last_i)\n",
    "\n",
    "for i in indices:\n",
    "    ax.scatter(df0['x'][i], df0['y'][i], color='blue')\n",
    "    \n",
    "    vx = df0['vx'][i]\n",
    "    vy = df0['vy'][i]\n",
    "    #mod_v = 2*np.sqrt(vx**2+vy**2)\n",
    "    mod_v = 400\n",
    "    \n",
    "    ax.arrow(df0['x'][i],df0['y'][i],vx/mod_v,vy/mod_v, head_width=0.07)\n",
    "\n",
    "#limit = np.max(np.abs([df0['x'].min(),df0['x'].max(),df0['y'].min(),df0['y'].max()]))\n",
    "#factor = 0.03\n",
    "factor = 1\n",
    "limit = 2\n",
    "ax.set_xlim(-factor*limit,factor*limit)\n",
    "ax.set_ylim(-factor*limit,factor*limit)\n",
    "ax.set_aspect('equal')\n",
    "ax.axhline(color='g', linestyle='--')\n",
    "ax.axvline(color='g', linestyle='--')\n",
    "\n",
    "plt.show()"
   ]
  }
 ],
 "metadata": {
  "kernelspec": {
   "display_name": "Python 3 (ipykernel)",
   "language": "python",
   "name": "python3"
  },
  "language_info": {
   "codemirror_mode": {
    "name": "ipython",
    "version": 3
   },
   "file_extension": ".py",
   "mimetype": "text/x-python",
   "name": "python",
   "nbconvert_exporter": "python",
   "pygments_lexer": "ipython3",
   "version": "3.11.5"
  },
  "notify_time": "30",
  "toc": {
   "base_numbering": 1,
   "nav_menu": {},
   "number_sections": true,
   "sideBar": true,
   "skip_h1_title": false,
   "title_cell": "Table of Contents",
   "title_sidebar": "Contents",
   "toc_cell": false,
   "toc_position": {
    "height": "calc(100% - 180px)",
    "left": "10px",
    "top": "150px",
    "width": "165px"
   },
   "toc_section_display": true,
   "toc_window_display": true
  },
  "varInspector": {
   "cols": {
    "lenName": 16,
    "lenType": 16,
    "lenVar": 40
   },
   "kernels_config": {
    "python": {
     "delete_cmd_postfix": "",
     "delete_cmd_prefix": "del ",
     "library": "var_list.py",
     "varRefreshCmd": "print(var_dic_list())"
    },
    "r": {
     "delete_cmd_postfix": ") ",
     "delete_cmd_prefix": "rm(",
     "library": "var_list.r",
     "varRefreshCmd": "cat(var_dic_list()) "
    }
   },
   "types_to_exclude": [
    "module",
    "function",
    "builtin_function_or_method",
    "instance",
    "_Feature"
   ],
   "window_display": false
  }
 },
 "nbformat": 4,
 "nbformat_minor": 4
}

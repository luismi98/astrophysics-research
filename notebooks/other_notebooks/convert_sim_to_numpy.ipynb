{
 "cells": [
  {
   "cell_type": "code",
   "execution_count": null,
   "metadata": {},
   "outputs": [],
   "source": [
    "%config Completer.use_jedi = False # To make auto-complete faster\n",
    "\n",
    "#Reloads imported files automatically\n",
    "%load_ext autoreload\n",
    "%autoreload 2\n",
    "\n",
    "import sys\n",
    "sys.path.append('../../src/')"
   ]
  },
  {
   "cell_type": "code",
   "execution_count": null,
   "metadata": {},
   "outputs": [],
   "source": [
    "from IPython.display import display, HTML\n",
    "display(HTML(\"<style>.container { width:87% !important; }</style>\"))"
   ]
  },
  {
   "cell_type": "code",
   "execution_count": null,
   "metadata": {},
   "outputs": [],
   "source": [
    "import pandas as pd\n",
    "import numpy as np\n",
    "import time\n",
    "import os\n",
    "\n",
    "import pynbody"
   ]
  },
  {
   "cell_type": "code",
   "execution_count": null,
   "metadata": {},
   "outputs": [],
   "source": [
    "import matplotlib.pyplot as plt\n",
    "\n",
    "from matplotlib_param_funcs import set_matplotlib_params,reset_rcParams\n",
    "set_matplotlib_params()"
   ]
  },
  {
   "cell_type": "code",
   "execution_count": null,
   "metadata": {},
   "outputs": [],
   "source": [
    "import miscellaneous_functions as MF\n",
    "import mixed_plots as MP\n",
    "import from_sim_to_numpy as sim_to_np"
   ]
  },
  {
   "cell_type": "code",
   "execution_count": null,
   "metadata": {},
   "outputs": [],
   "source": [
    "general_path = '/Users/luismi/Desktop/MRes_UCLan/'"
   ]
  },
  {
   "cell_type": "markdown",
   "metadata": {},
   "source": [
    "# 708main"
   ]
  },
  {
   "cell_type": "code",
   "execution_count": null,
   "metadata": {},
   "outputs": [],
   "source": [
    "filename = \"708main\"\n",
    "\n",
    "simulation_path = general_path+f\"data/{filename}/run{filename}.01000.gz\"\n",
    "\n",
    "print(simulation_path)\n",
    "assert os.path.isfile(simulation_path), \"Directory does not exist\""
   ]
  },
  {
   "cell_type": "code",
   "execution_count": null,
   "metadata": {},
   "outputs": [],
   "source": [
    "save_path = general_path + f\"data/{filename}/numpy_arrays/\"\n",
    "MF.create_dir(save_path)\n",
    "\n",
    "print(save_path)"
   ]
  },
  {
   "cell_type": "code",
   "execution_count": null,
   "metadata": {},
   "outputs": [],
   "source": [
    "R0=8.1\n",
    "pos_factor = 1.7\n",
    "zabs = True\n",
    "GSR = True\n",
    "\n",
    "I_radius = 4 if filename == \"708main\" else 2\n",
    "\n",
    "axisymmetric = False"
   ]
  },
  {
   "cell_type": "code",
   "execution_count": null,
   "metadata": {},
   "outputs": [],
   "source": [
    "#min_angle = 0\n",
    "#max_angle = 90\n",
    "#step = 90\n",
    "#angle_list = np.arange(min_angle, max_angle + step, step)\n",
    "#angle_list = np.append(angle_list, 27)\n",
    "\n",
    "angle_list = [27] #[0,15,20,25,27,30,35,40,45,90]\n",
    "print(angle_list)"
   ]
  },
  {
   "cell_type": "code",
   "execution_count": null,
   "metadata": {},
   "outputs": [],
   "source": [
    "sim_to_np.load_process_and_save(simulation_path, save_path, angle_list=angle_list, pos_factor=pos_factor, zabs=zabs, GSR=GSR,R0=R0,\\\n",
    "                                axisymmetric=axisymmetric,I_radius=I_radius,fileprefix=filename)"
   ]
  },
  {
   "cell_type": "markdown",
   "metadata": {},
   "source": [
    "## Step by step"
   ]
  },
  {
   "cell_type": "markdown",
   "metadata": {},
   "source": [
    "### Load"
   ]
  },
  {
   "cell_type": "code",
   "execution_count": null,
   "metadata": {},
   "outputs": [],
   "source": [
    "sim = sim_to_np.load_pynbody_sim(simulation_path)\n",
    "\n",
    "aligned = False\n",
    "rotated = False"
   ]
  },
  {
   "cell_type": "code",
   "execution_count": null,
   "metadata": {},
   "outputs": [],
   "source": [
    "def extract_xyz_df_from_sim_stars(stars):\n",
    "    df = pd.DataFrame()\n",
    "    df[\"x\"],df[\"y\"],df[\"z\"] = np.moveaxis(a=stars['pos'].in_units('kpc'), source=1, destination=0)\n",
    "\n",
    "    return df"
   ]
  },
  {
   "cell_type": "code",
   "execution_count": null,
   "metadata": {},
   "outputs": [],
   "source": [
    "I_radius = 2\n",
    "\n",
    "bar_angle = sim_to_np.compute_bar_angle(sim.s,I_radius=I_radius)\n",
    "\n",
    "print(\"Bar angle:\",bar_angle)"
   ]
  },
  {
   "cell_type": "code",
   "execution_count": null,
   "metadata": {},
   "outputs": [],
   "source": [
    "fig,(ax,az)=plt.subplots(figsize=(8,8),nrows=2)\n",
    "\n",
    "xymax = 6\n",
    "\n",
    "MP.quick_show_xy(extract_xyz_df_from_sim_stars(sim.s),ax=ax,xmin=-xymax,xmax=xymax,ymin=-xymax,ymax=xymax)\n",
    "MP.quick_show_xz(extract_xyz_df_from_sim_stars(sim.s),ax=az,xmin=-xymax,xmax=xymax,zmin=0,zmax=3)\n",
    "plt.show()"
   ]
  },
  {
   "cell_type": "code",
   "execution_count": null,
   "metadata": {},
   "outputs": [],
   "source": [
    "fig,(ax,az)=plt.subplots(figsize=(8,8),nrows=2)\n",
    "\n",
    "bar_stars = sim_to_np.get_bar_stars(sim)\n",
    "\n",
    "MP.quick_show_xy(extract_xyz_df_from_sim_stars(bar_stars),ax=ax)\n",
    "MP.quick_show_xz(extract_xyz_df_from_sim_stars(bar_stars),ax=az)\n",
    "plt.show()"
   ]
  },
  {
   "cell_type": "markdown",
   "metadata": {},
   "source": [
    "### Non-axisymmetric only"
   ]
  },
  {
   "cell_type": "markdown",
   "metadata": {},
   "source": [
    "#### Align"
   ]
  },
  {
   "cell_type": "code",
   "execution_count": null,
   "metadata": {},
   "outputs": [],
   "source": [
    "# Rotating in-place because I could not find a way to deep-copy the simulation - see https://stackoverflow.com/questions/58415397/\n",
    "\n",
    "if aligned:\n",
    "    print(\"Already aligned\")\n",
    "else:    \n",
    "    sim.rotate_z(-bar_angle)\n",
    "    print(\"Aligned successfully\")"
   ]
  },
  {
   "cell_type": "code",
   "execution_count": null,
   "metadata": {},
   "outputs": [],
   "source": [
    "bar_angle_after_alignment = sim_to_np.compute_bar_angle(sim.s,I_radius=I_radius)\n",
    "\n",
    "print(bar_angle_after_alignment)"
   ]
  },
  {
   "cell_type": "code",
   "execution_count": null,
   "metadata": {},
   "outputs": [],
   "source": [
    "xymax = 5\n",
    "\n",
    "fig,axs=plt.subplots(figsize=(8,8),nrows=2)\n",
    "MP.quick_show_xy(extract_xyz_df_from_sim_stars(sim.s),ax=axs[0],xmin=-xymax,xmax=xymax,ymin=-xymax,ymax=xymax)\n",
    "MP.quick_show_xz(extract_xyz_df_from_sim_stars(sim.s),ax=axs[1],xmin=-xymax,xmax=xymax,zmin=0,zmax=3)\n",
    "plt.show()"
   ]
  },
  {
   "cell_type": "markdown",
   "metadata": {},
   "source": [
    "#### Rotate by bar angle"
   ]
  },
  {
   "cell_type": "code",
   "execution_count": null,
   "metadata": {},
   "outputs": [],
   "source": [
    "rot_angle = 27\n",
    "\n",
    "if rotated:\n",
    "    print(\"Already rotated\")\n",
    "else:\n",
    "    sim.rotate_z(rot_angle)\n",
    "    print(\"Rotated successfully\")"
   ]
  },
  {
   "cell_type": "code",
   "execution_count": null,
   "metadata": {},
   "outputs": [],
   "source": [
    "bar_angle_after_rotation = sim_to_np.compute_bar_angle(sim,I_radius=I_radius)\n",
    "\n",
    "print(bar_angle_after_rotation)"
   ]
  },
  {
   "cell_type": "code",
   "execution_count": null,
   "metadata": {},
   "outputs": [],
   "source": [
    "xymax = 5\n",
    "\n",
    "fig,axs=plt.subplots(figsize=(8,8),nrows=2)\n",
    "MP.quick_show_xy(extract_xyz_df_from_sim_stars(sim.s),ax=axs[0],xmin=-xymax,xmax=xymax,ymin=-xymax,ymax=xymax)\n",
    "MP.quick_show_xz(extract_xyz_df_from_sim_stars(sim.s),ax=axs[1],xmin=-xymax,xmax=xymax,zmin=0,zmax=3)\n",
    "plt.show()"
   ]
  },
  {
   "cell_type": "markdown",
   "metadata": {},
   "source": [
    "### Convert to df"
   ]
  },
  {
   "cell_type": "code",
   "execution_count": null,
   "metadata": {},
   "outputs": [],
   "source": [
    "# axisymmetric = True\n",
    "axisymmetric = False\n",
    "\n",
    "if axisymmetric:\n",
    "    bar_angle = 27 # whatever"
   ]
  },
  {
   "cell_type": "code",
   "execution_count": null,
   "metadata": {},
   "outputs": [],
   "source": [
    "df = sim_to_np.convert_sim_to_df(sim, angle=bar_angle, axisymmetric=axisymmetric)"
   ]
  },
  {
   "cell_type": "code",
   "execution_count": null,
   "metadata": {},
   "outputs": [],
   "source": [
    "df.head()"
   ]
  },
  {
   "cell_type": "code",
   "execution_count": null,
   "metadata": {},
   "outputs": [],
   "source": [
    "MP.quick_show_xy_xz(df)"
   ]
  },
  {
   "cell_type": "code",
   "execution_count": null,
   "metadata": {},
   "outputs": [],
   "source": [
    "MP.visually_inspect_bar_angle(df, zmin=0.5,age_lims=[4,7],bar_angle=bar_angle if not axisymmetric else None)"
   ]
  },
  {
   "cell_type": "markdown",
   "metadata": {},
   "source": [
    "## Load numpy\n",
    "Just to test the saved file came out as expected"
   ]
  },
  {
   "cell_type": "code",
   "execution_count": null,
   "metadata": {},
   "outputs": [],
   "source": [
    "import load_sim"
   ]
  },
  {
   "cell_type": "code",
   "execution_count": null,
   "metadata": {},
   "outputs": [],
   "source": [
    "dummy_df = pd.DataFrame([[1,2],[4,3]],columns=['a','b'])"
   ]
  },
  {
   "cell_type": "code",
   "execution_count": null,
   "metadata": {},
   "outputs": [],
   "source": [
    "print(general_path)"
   ]
  },
  {
   "cell_type": "code",
   "execution_count": null,
   "metadata": {},
   "outputs": [],
   "source": [
    "R0 = 8.1\n",
    "\n",
    "np_path = general_path+f\"data/708main_simulation/numpy_arrays/R0_{R0}/\""
   ]
  },
  {
   "cell_type": "markdown",
   "metadata": {},
   "source": [
    "**Non-axisymmetric**"
   ]
  },
  {
   "cell_type": "code",
   "execution_count": null,
   "metadata": {},
   "outputs": [],
   "source": [
    "df0 = load_sim.load_simulation(np_path,GSR=GSR,R0=R0,zabs=zabs,pos_factor=pos_factor,axisymmetric=False)"
   ]
  },
  {
   "cell_type": "code",
   "execution_count": null,
   "metadata": {},
   "outputs": [],
   "source": [
    "MP.quick_show_xy_xz(df=df0)"
   ]
  },
  {
   "cell_type": "code",
   "execution_count": null,
   "metadata": {},
   "outputs": [],
   "source": [
    "MP.visually_inspect_bar_angle(df0, xymax=5, zmin=0.5, age_lims=[4,7],bins=50, bar_angle=27)"
   ]
  },
  {
   "cell_type": "markdown",
   "metadata": {},
   "source": [
    "**Axisymmetrise here**"
   ]
  },
  {
   "cell_type": "code",
   "execution_count": null,
   "metadata": {},
   "outputs": [],
   "source": [
    "sim_to_np.axisymmetrise(df0)\n"
   ]
  },
  {
   "cell_type": "code",
   "execution_count": null,
   "metadata": {},
   "outputs": [],
   "source": [
    "MP.quick_show_xy_xz(df0)"
   ]
  },
  {
   "cell_type": "code",
   "execution_count": null,
   "metadata": {},
   "outputs": [],
   "source": [
    "MP.visually_inspect_bar_angle(df0, xymax=5,zmin=0.5,age_lims=[4,7],bins=50)"
   ]
  },
  {
   "cell_type": "markdown",
   "metadata": {},
   "source": [
    "**Load axisymmetric**"
   ]
  },
  {
   "cell_type": "code",
   "execution_count": null,
   "metadata": {},
   "outputs": [],
   "source": [
    "axi_df = load_sim.load_simulation(np_path,GSR=GSR,R0=R0,zabs=zabs,pos_factor=pos_factor,axisymmetric=True)"
   ]
  },
  {
   "cell_type": "code",
   "execution_count": null,
   "metadata": {},
   "outputs": [],
   "source": [
    "MP.quick_show_xy_xz(axi_df)"
   ]
  },
  {
   "cell_type": "code",
   "execution_count": null,
   "metadata": {},
   "outputs": [],
   "source": [
    "MP.visually_inspect_bar_angle(axi_df, xymax=5,zmin=0.5,age_lims=[4,7],bins=50)"
   ]
  },
  {
   "cell_type": "markdown",
   "metadata": {},
   "source": [
    "# Joao"
   ]
  },
  {
   "cell_type": "code",
   "execution_count": null,
   "metadata": {},
   "outputs": [],
   "source": [
    "joao_path = '/home/luismi98/MRes_UCLan/dwarfM06Y193/'\n",
    "accreted_filepath = '/home/luismi98/MRes_UCLan/dwarfM06Y193Zn51Vx30Rotn15x_pid_accreted.npy'\n",
    "\n",
    "save_path = '/home/luismi98/MRes_UCLan/joao_numpy_arrays/'"
   ]
  },
  {
   "cell_type": "code",
   "execution_count": null,
   "metadata": {},
   "outputs": [],
   "source": [
    "filename = 'jrun002.dwarfM06Y193Zn51Vx30Rotn15x.01000.gz'\n",
    "\n",
    "load_path = joao_path+filename"
   ]
  },
  {
   "cell_type": "code",
   "execution_count": null,
   "metadata": {},
   "outputs": [],
   "source": [
    "# Load and align\n",
    "joao_sim = pynbody.load(load_path)\n",
    "joao_sim.physical_units()\n",
    "pynbody.analysis.angmom.faceon(joao_sim.stars)"
   ]
  },
  {
   "cell_type": "markdown",
   "metadata": {},
   "source": [
    "pynbody.plot.stars.render(joao_sim.s, width='15 kpc')\n",
    "plt.savefig(save_path+filename+'.png',dpi=300)"
   ]
  },
  {
   "cell_type": "code",
   "execution_count": null,
   "metadata": {},
   "outputs": [],
   "source": [
    "indexes = np.arange(0,len(joao_sim.s),1)\n",
    "joao_sim.s['pid'] = indexes\n",
    "\n",
    "pid_acc = np.load(accreted_filepath)\n",
    "\n",
    "accreted = np.isin(joao_sim.s['pid'], pid_acc)\n",
    "joao_sim.s['accreted'] = accreted\n",
    "\n",
    "print(np.sum(accreted)*100/len(joao_sim.s['pid']),\"% are accreted\")"
   ]
  },
  {
   "cell_type": "code",
   "execution_count": null,
   "metadata": {},
   "outputs": [],
   "source": [
    "joao_df = pd.DataFrame()\n",
    "\n",
    "for key in joao_sim.s.keys():\n",
    "    if key in ['vel','pos','eps']: continue\n",
    "    joao_df[key] = np.array(joao_sim.s[key])\n",
    "    \n",
    "joao_df['age'] = joao_df['tform'].max() - joao_df['tform']"
   ]
  },
  {
   "cell_type": "code",
   "execution_count": null,
   "metadata": {},
   "outputs": [],
   "source": [
    "print(\"The dataframe occupies\",joao_df.memory_usage(index=True).sum()/10**6,\"Mb\")\n",
    "\n",
    "print(\"The dataframe in np.float32 occupies\",joao_df.astype(np.float32).memory_usage(index=True).sum()/10**6,\"Mb\")"
   ]
  },
  {
   "cell_type": "code",
   "execution_count": null,
   "metadata": {},
   "outputs": [],
   "source": [
    "columns = list(joao_df.columns)"
   ]
  },
  {
   "cell_type": "code",
   "execution_count": null,
   "metadata": {},
   "outputs": [],
   "source": [
    "#savetype = np.float64\n",
    "savetype = np.float32"
   ]
  },
  {
   "cell_type": "code",
   "execution_count": null,
   "metadata": {},
   "outputs": [],
   "source": [
    "save_name = 'ALL_jrun002.dwarfM06Y193Zn51Vx30Rotn15x.01000.npy'\n",
    "\n",
    "np.save(save_path + save_name, np.array(joao_df.values.astype(savetype)))\n",
    "\n",
    "print(\"Saved as type\",savetype)"
   ]
  },
  {
   "cell_type": "code",
   "execution_count": null,
   "metadata": {},
   "outputs": [],
   "source": [
    "with open(save_path + 'columns.txt', 'w') as f:\n",
    "    string = f\"Saved simulation with datatype {savetype}.\\nThe columns are:{columns}\"\n",
    "    f.write(string)"
   ]
  }
 ],
 "metadata": {
  "kernelspec": {
   "display_name": "Python 3 (ipykernel)",
   "language": "python",
   "name": "python3"
  },
  "language_info": {
   "codemirror_mode": {
    "name": "ipython",
    "version": 3
   },
   "file_extension": ".py",
   "mimetype": "text/x-python",
   "name": "python",
   "nbconvert_exporter": "python",
   "pygments_lexer": "ipython3",
   "version": "3.11.5"
  },
  "toc": {
   "base_numbering": 1,
   "nav_menu": {},
   "number_sections": true,
   "sideBar": true,
   "skip_h1_title": false,
   "title_cell": "Table of Contents",
   "title_sidebar": "Contents",
   "toc_cell": false,
   "toc_position": {
    "height": "calc(100% - 180px)",
    "left": "10px",
    "top": "150px",
    "width": "195px"
   },
   "toc_section_display": true,
   "toc_window_display": true
  },
  "varInspector": {
   "cols": {
    "lenName": 16,
    "lenType": 16,
    "lenVar": 40
   },
   "kernels_config": {
    "python": {
     "delete_cmd_postfix": "",
     "delete_cmd_prefix": "del ",
     "library": "var_list.py",
     "varRefreshCmd": "print(var_dic_list())"
    },
    "r": {
     "delete_cmd_postfix": ") ",
     "delete_cmd_prefix": "rm(",
     "library": "var_list.r",
     "varRefreshCmd": "cat(var_dic_list()) "
    }
   },
   "types_to_exclude": [
    "module",
    "function",
    "builtin_function_or_method",
    "instance",
    "_Feature"
   ],
   "window_display": false
  }
 },
 "nbformat": 4,
 "nbformat_minor": 4
}

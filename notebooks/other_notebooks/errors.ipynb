{
 "cells": [
  {
   "cell_type": "code",
   "execution_count": null,
   "id": "0",
   "metadata": {},
   "outputs": [],
   "source": [
    "%config Completer.use_jedi = False # To make auto-complete faster\n",
    "\n",
    "#Reloads imported files automatically\n",
    "%load_ext autoreload\n",
    "%autoreload 2\n",
    "\n",
    "import sys\n",
    "sys.path.append('../../')"
   ]
  },
  {
   "cell_type": "code",
   "execution_count": null,
   "id": "1",
   "metadata": {},
   "outputs": [],
   "source": [
    "from IPython.display import display, HTML\n",
    "display(HTML(\"<style>.container { width:88% !important; }</style>\"))"
   ]
  },
  {
   "cell_type": "code",
   "execution_count": null,
   "id": "2",
   "metadata": {},
   "outputs": [],
   "source": [
    "import pandas as pd\n",
    "import numpy as np"
   ]
  },
  {
   "cell_type": "code",
   "execution_count": null,
   "id": "3",
   "metadata": {},
   "outputs": [],
   "source": [
    "import matplotlib.pyplot as plt\n",
    "import matplotlib.ticker as ticker\n",
    "\n",
    "from plotting.matplotlib_param_funcs import set_matplotlib_params,reset_rcParams\n",
    "set_matplotlib_params()"
   ]
  },
  {
   "cell_type": "code",
   "execution_count": null,
   "id": "4",
   "metadata": {},
   "outputs": [],
   "source": [
    "import src.compute_variables as CV\n",
    "import src.compute_errors as CE\n",
    "from src.errorconfig import MonteCarloConfig,BootstrapConfig\n",
    "\n",
    "import plotting.map_functions as mapf\n",
    "import plotting.mixed_plots as MP\n",
    "\n",
    "import utils.miscellaneous_functions as MF\n",
    "import utils.coordinates as coordinates\n",
    "import utils.load_sim as load_sim\n",
    "import utils.load_data as load_data"
   ]
  },
  {
   "cell_type": "code",
   "execution_count": null,
   "id": "5",
   "metadata": {},
   "outputs": [],
   "source": [
    " plt.rcParams[\"font.size\"] = 20"
   ]
  },
  {
   "cell_type": "code",
   "execution_count": null,
   "id": "6",
   "metadata": {},
   "outputs": [],
   "source": [
    "#CHOOSE\n",
    "\n",
    "x_var = \"l\"\n",
    "y_var = \"b\"\n",
    "\n",
    "vel_x_var = 'r'\n",
    "vel_y_var = 'l'"
   ]
  },
  {
   "cell_type": "code",
   "execution_count": null,
   "id": "7",
   "metadata": {},
   "outputs": [],
   "source": [
    "degree_symbol = \"^\\circ\"\n",
    "\n",
    "symbol_dict = mapf.get_kinematic_symbols_dict(x_variable=x_var,\n",
    "                                             y_variable=y_var,\n",
    "                                             vel_x_variable=vel_x_var,\n",
    "                                             vel_y_variable=vel_y_var)\n",
    "\n",
    "units_dict = mapf.get_kinematic_units_dict(degree_symbol=degree_symbol)\n",
    "\n",
    "pos_symbols_dict,pos_units_dict = mapf.get_position_symbols_and_units_dict(degree_symbol=r\"$%s$\"%degree_symbol)"
   ]
  },
  {
   "cell_type": "code",
   "execution_count": null,
   "id": "8",
   "metadata": {},
   "outputs": [],
   "source": [
    "general_path = '/Users/luismi/Desktop/MRes_UCLan/'"
   ]
  },
  {
   "cell_type": "code",
   "execution_count": null,
   "id": "9",
   "metadata": {},
   "outputs": [],
   "source": [
    "def get_save_path(perturbed_vars, data_bool):\n",
    "    \n",
    "    save_path = general_path + f\"graphs/other_plots/MonteCarlo/\" + str.join(\",\", perturbed_vars) + \"/\"\n",
    "    MF.create_dir(save_path)\n",
    "\n",
    "    save_path += \"data/\" if data_bool else \"model/\"\n",
    "    MF.create_dir(save_path)\n",
    "    \n",
    "    return save_path"
   ]
  },
  {
   "cell_type": "markdown",
   "id": "10",
   "metadata": {},
   "source": [
    "# Load"
   ]
  },
  {
   "cell_type": "code",
   "execution_count": null,
   "id": "11",
   "metadata": {},
   "outputs": [],
   "source": [
    "zabs = True\n",
    "# zabs = False\n",
    "\n",
    "R0 = 8.1\n",
    "\n",
    "GSR = True\n",
    "# GSR = False"
   ]
  },
  {
   "cell_type": "markdown",
   "id": "12",
   "metadata": {},
   "source": [
    "## Sim"
   ]
  },
  {
   "cell_type": "code",
   "execution_count": null,
   "id": "13",
   "metadata": {},
   "outputs": [],
   "source": [
    "sim_choice = \"708main\"\n",
    "# sim_choice = \"708mainDiff4\"\n",
    "# sim_choice = \"708mainDiff5\"\n",
    "\n",
    "rot_angle = 27\n",
    "axisymmetric = False\n",
    "pos_scaling = 1.7\n",
    "\n",
    "filename = load_sim.build_filename(choice=sim_choice,rot_angle=rot_angle,R0=R0,axisymmetric=axisymmetric,zabs=zabs,pos_factor=pos_scaling,GSR=GSR)"
   ]
  },
  {
   "cell_type": "code",
   "execution_count": null,
   "id": "14",
   "metadata": {},
   "outputs": [],
   "source": [
    "load_chunk = False\n",
    "\n",
    "if not load_chunk:\n",
    "    np_path = general_path+f\"data/{sim_choice}/numpy_arrays/\"\n",
    "        \n",
    "    df0 = load_sim.load_simulation(path=np_path,filename=filename)\n",
    "else:\n",
    "    if sim_choice == \"708main\" and rot_angle == 27 and not axisymmetric and zabs and sim_scaling == 1.7:\n",
    "        pickle_name = \"df_bulge_zabs.pkl\"\n",
    "        df0 = pd.read_pickle(\"708main_simulation/\"+pickle_name)"
   ]
  },
  {
   "cell_type": "markdown",
   "id": "15",
   "metadata": {},
   "source": [
    "## Data"
   ]
  },
  {
   "cell_type": "code",
   "execution_count": null,
   "id": "16",
   "metadata": {},
   "outputs": [],
   "source": [
    "obs_errors = True\n",
    "# obs_errors = False\n",
    "\n",
    "data_zabs = True\n",
    "# data_zabs = False"
   ]
  },
  {
   "cell_type": "code",
   "execution_count": null,
   "id": "17",
   "metadata": {},
   "outputs": [],
   "source": [
    "data_path = general_path+\"data/Observational_data/\"\n",
    "\n",
    "data = load_data.load_and_process_data(data_path=data_path, error_bool=obs_errors, zabs=zabs, R0=R0, GSR=GSR, drop_unused=False)"
   ]
  },
  {
   "cell_type": "markdown",
   "id": "18",
   "metadata": {},
   "source": [
    "# Data uncertainty histograms"
   ]
  },
  {
   "cell_type": "code",
   "execution_count": null,
   "id": "19",
   "metadata": {},
   "outputs": [],
   "source": [
    "var = \"d\""
   ]
  },
  {
   "cell_type": "code",
   "execution_count": null,
   "id": "20",
   "metadata": {},
   "outputs": [],
   "source": [
    "save_path = general_path + \"graphs/Observations/Apogee/Uncertainties/\"\n",
    "save_path += f\"{var}/\"\n",
    "\n",
    "MF.create_dir(save_path)\n",
    "\n",
    "print(save_path)"
   ]
  },
  {
   "cell_type": "code",
   "execution_count": null,
   "id": "21",
   "metadata": {},
   "outputs": [],
   "source": [
    "# cuts_dict = {}\n",
    "cuts_dict = {\"FeH\":[-1,0.61]}\n",
    "\n",
    "data_df = MF.apply_cuts_to_df(data, cuts_dict=cuts_dict)"
   ]
  },
  {
   "cell_type": "code",
   "execution_count": null,
   "id": "22",
   "metadata": {},
   "outputs": [],
   "source": [
    "save_bool = True\n",
    "# save_bool = False"
   ]
  },
  {
   "cell_type": "code",
   "execution_count": null,
   "id": "23",
   "metadata": {},
   "outputs": [],
   "source": [
    "bins = 100\n",
    "# log_bool = True\n",
    "log_bool = False\n",
    "# plot_range = [0,0.4]\n",
    "plot_range = None\n",
    "\n",
    "if True: # error hist\n",
    "    fig,ax=plt.subplots()\n",
    "    ax.hist(data_df[var+\"_error\"],bins=bins,log=log_bool,range=plot_range)\n",
    "    ax.axvline(data_df[var+\"_error\"].median(),label=\"Median: %s %s\"%(MF.return_int_or_dec(data_df[var+\"_error\"].median(),2),mapf.get_units(var)),color=\"red\")\n",
    "    ax.set_xlabel(mapf.get_symbol(var+\"_error\")+(f\" [{mapf.get_units(var)}]\" if mapf.get_units(var) != \"\" else \"\"))\n",
    "    ax.set_ylabel(r\"$N$\",rotation=0,labelpad=20)\n",
    "    ax.legend()\n",
    "\n",
    "if True: # filename, save\n",
    "    filename = var\n",
    "    filename += \"_\" + MF.extract_str_from_cuts_dict(cuts_dict) if len(cuts_dict) > 0 else \"\"\n",
    "    filename += f\"_{plot_range[0]}range{plot_range[1]}\" if plot_range is not None else \"\"\n",
    "    filename += f\"_{bins}bins\"\n",
    "    filename += \"_log\" if log_bool else \"\"\n",
    "    \n",
    "    print(filename)\n",
    "    \n",
    "    if save_bool:\n",
    "        plt.savefig(save_path+filename+\".png\", bbox_inches=\"tight\")\n",
    "        print(\"Saved in\",save_path)\n",
    "    plt.show()"
   ]
  },
  {
   "cell_type": "code",
   "execution_count": null,
   "id": "24",
   "metadata": {},
   "outputs": [],
   "source": [
    "save_bool = True\n",
    "# save_bool = False"
   ]
  },
  {
   "cell_type": "code",
   "execution_count": null,
   "id": "25",
   "metadata": {},
   "outputs": [],
   "source": [
    "bins = 100\n",
    "# log_bool = True\n",
    "log_bool = False\n",
    "# plot_range = [0,0.2]\n",
    "plot_range = None\n",
    "\n",
    "if True: # fractional error hist\n",
    "    fig,ax=plt.subplots()\n",
    "\n",
    "    ax.hist(data_df[var+\"_error\"]/np.abs(data_df[var]),bins=bins,range=plot_range,log=log_bool)\n",
    "    ax.axvline((data_df[var+\"_error\"]/np.abs(data_df[var])).median(),\\\n",
    "               label=\"Median $%s$\"%(100*MF.return_int_or_dec((data_df[var+\"_error\"]/np.abs(data_df[var])).median(),2)) +r\"$~$%\",color=\"red\")\n",
    "    ax.set_xlabel(mapf.get_symbol(var+\"_fractionalerror\"))\n",
    "    ax.set_ylabel(r\"$N$\",rotation=0,labelpad=20)\n",
    "    ax.legend()\n",
    "\n",
    "if True: # filename, save\n",
    "    filename = f\"{var}_frac\"\n",
    "    filename += \"_\" + MF.extract_str_from_cuts_dict(cuts_dict)\n",
    "    filename += f\"_{plot_range[0]}range{plot_range[1]}\" if plot_range is not None else \"\"\n",
    "    filename += f\"_{bins}bins\"\n",
    "    filename += \"_log\" if log_bool else \"\"\n",
    "    \n",
    "    print(filename)\n",
    "    \n",
    "    if save_bool:\n",
    "        plt.savefig(save_path+filename+\".png\", bbox_inches=\"tight\")\n",
    "        print(\"Saved in\",save_path)\n",
    "    plt.show()"
   ]
  },
  {
   "cell_type": "markdown",
   "id": "26",
   "metadata": {},
   "source": [
    "# MC"
   ]
  },
  {
   "cell_type": "code",
   "execution_count": null,
   "id": "27",
   "metadata": {},
   "outputs": [],
   "source": [
    "data_bool = True\n",
    "# data_bool = False\n",
    "\n",
    "perturbed_vars = [\"d\",\"vr\",\"pmra\",\"pmdec\"]"
   ]
  },
  {
   "cell_type": "code",
   "execution_count": null,
   "id": "28",
   "metadata": {},
   "outputs": [],
   "source": [
    "save_path = get_save_path(perturbed_vars=perturbed_vars,data_bool=data_bool)\n",
    "\n",
    "print(save_path)"
   ]
  },
  {
   "cell_type": "code",
   "execution_count": null,
   "id": "29",
   "metadata": {},
   "outputs": [],
   "source": [
    "# frac_error = 0.1\n",
    "frac_error = 0.2\n",
    "# frac_error = None"
   ]
  },
  {
   "cell_type": "code",
   "execution_count": null,
   "id": "30",
   "metadata": {},
   "outputs": [],
   "source": [
    "if data_bool:\n",
    "#     cuts_dict = {\"FeH\":[-1,-0.21], \"l\":[-2,2], \"R\":[0,3.5]}\n",
    "    cuts_dict = {\"FeH\":[-0.21,0.61], \"l\":[-2,2], \"R\":[0,3.5]}\n",
    "else:\n",
    "#     cuts_dict={\"age\":[0,4],\"R\":[0,5],\"l\":[-2,2],\"b\":[0,0.01], \"R\":[0,3.5]} # nuclear disc\n",
    "    cuts_dict={\"age\":[4,7],\"l\":[-2,2],\"b\":[3.5,4], \"R\":[0,3.5]} # young pop\n",
    "#         cuts_dict={\"age\":[4,7],\"l\":[-2,2],\"b\":[3,6], \"R\":[0,3.5]} # young pop no R cut"
   ]
  },
  {
   "cell_type": "code",
   "execution_count": null,
   "id": "31",
   "metadata": {},
   "outputs": [],
   "source": [
    "# df = MF.apply_cuts_to_df(data if data_bool else df0, cuts_dict=cuts_dict)\n",
    "df = MF.apply_cuts_to_df(data if data_bool else df0, cuts_dict=cuts_dict)\n",
    "print(len(df),\"stars\")"
   ]
  },
  {
   "cell_type": "code",
   "execution_count": null,
   "id": "32",
   "metadata": {},
   "outputs": [],
   "source": [
    "funcs_dict = {\n",
    "    \"correlation\": CV.calculate_correlation,\n",
    "    \"anisotropy\": CV.calculate_anisotropy,\n",
    "    \"tilt_abs\": CV.calculate_tilt\n",
    "}"
   ]
  },
  {
   "cell_type": "code",
   "execution_count": null,
   "id": "33",
   "metadata": {},
   "outputs": [],
   "source": [
    "func_name = \"correlation\"\n",
    "# func_name = \"anisotropy\"\n",
    "\n",
    "func = funcs_dict[func_name]\n",
    "\n",
    "true_value = func(vx=df[\"vr\"],vy=df[\"vl\"])\n",
    "print(f\"{func_name} true value: {true_value}\")"
   ]
  },
  {
   "cell_type": "code",
   "execution_count": null,
   "id": "34",
   "metadata": {},
   "outputs": [],
   "source": [
    "if \"d\" in perturbed_vars:\n",
    "    affected_cuts_dict = {\"R\":[0,3.5]}\n",
    "else:\n",
    "    affected_cuts_dict = {}\n",
    "    \n",
    "repeats = 5000"
   ]
  },
  {
   "cell_type": "code",
   "execution_count": null,
   "id": "35",
   "metadata": {},
   "outputs": [],
   "source": [
    "montecarloconfig = MonteCarloConfig(perturbed_vars=perturbed_vars,affected_cuts_dict=affected_cuts_dict,error_frac=frac_error,repeats=repeats,symmetric=False)\n",
    "\n",
    "bootstrapconfig = BootstrapConfig(repeats=repeats,symmetric=True)"
   ]
  },
  {
   "cell_type": "code",
   "execution_count": null,
   "id": "36",
   "metadata": {},
   "outputs": [],
   "source": [
    "df_errors = MF.apply_cuts_to_df(data if data_bool else df0, cuts_dict=montecarloconfig.clean_value_cuts_dict(cuts_dict))\n",
    "print(len(df_errors),\"stars for MC error estimation\")"
   ]
  },
  {
   "cell_type": "code",
   "execution_count": null,
   "id": "37",
   "metadata": {},
   "outputs": [],
   "source": [
    "std_MC_low,std_MC_high, MC_values, within_cut = CE.get_std_MC(function=func,df=df_errors,montecarloconfig=montecarloconfig,true_value=true_value,\\\n",
    "                                                               vel_x_var=vel_x_var,vel_y_var=vel_y_var)\n",
    "\n",
    "std_boot,_,boot_vals = CE.get_std_bootstrap(function=func,vx=df[f\"v{vel_x_var}\"].values,vy=df[f\"v{vel_y_var}\"].values,bootstrapconfig=bootstrapconfig)\n",
    "\n",
    "print(f\"Mean\\t MC: {np.mean(MC_values)}. Boot: {np.mean(boot_vals)}\")\n",
    "print(f\"Median\\t MC: {np.median(MC_values)}. Boot: {np.median(boot_vals)}\")\n",
    "print(f\"Std\\t MC low,high: {std_MC_low},{std_MC_high}. Boot: {std_boot}\")"
   ]
  },
  {
   "cell_type": "code",
   "execution_count": null,
   "id": "38",
   "metadata": {},
   "outputs": [],
   "source": [
    "save_bool = True\n",
    "# save_bool = False"
   ]
  },
  {
   "cell_type": "code",
   "execution_count": null,
   "id": "39",
   "metadata": {},
   "outputs": [],
   "source": [
    "boot_hist_bool = True\n",
    "# boot_hist_bool = False\n",
    "MC_bar_width = None\n",
    "# MC_bar_width = 0.001\n",
    "\n",
    "if True: # boot & MC value hist\n",
    "    fig,ax=plt.subplots()\n",
    "    if MC_bar_width is not None:\n",
    "        ax.hist(MC_values,bins=50,color=\"blue\",alpha=0.7,label=fr\"MC values ($R={repeats}$)\",width=MC_bar_width)\n",
    "    else: # It doesn't like it if I pass width=None and I couldn't find what the default is\n",
    "        ax.hist(MC_values,bins=50,color=\"blue\",alpha=0.7,label=fr\"MC values ($R={repeats}$)\")\n",
    "    if boot_hist_bool:\n",
    "        ax.hist(boot_vals,bins=50,color=\"green\",alpha=0.5, label=fr\"Bootstrap values ($R={repeats}$)\")\n",
    "    ax.axvline(true_value,color=\"red\",label=\"True value\")\n",
    "    ax.set_xlabel(symbol_dict[func_name]); ax.set_ylabel(r\"$N$\",rotation=0,labelpad=20)\n",
    "    ax.legend()\n",
    "\n",
    "if True: # filename and save\n",
    "    filename = func_name\n",
    "    filename += f\"_{frac_error}fracErr\" if frac_error is not None else \"_dataErr\"\n",
    "    filename += f\"_noBoot\" if not boot_hist_bool else \"\"\n",
    "    filename += \"_\" + MF.extract_str_from_cuts_dict(cuts_dict)\n",
    "    filename += f\"_{repeats}repeats\"\n",
    "    \n",
    "    print(filename)\n",
    "    \n",
    "    if save_bool:\n",
    "        plt.savefig(save_path+filename+\".png\", bbox_inches=\"tight\")\n",
    "        print(\"Saved in\",save_path)\n",
    "    plt.show()"
   ]
  },
  {
   "cell_type": "markdown",
   "id": "40",
   "metadata": {},
   "source": [
    "## d-specific plots"
   ]
  },
  {
   "cell_type": "code",
   "execution_count": null,
   "id": "41",
   "metadata": {},
   "outputs": [],
   "source": [
    "save_bool = True\n",
    "# save_bool = False"
   ]
  },
  {
   "cell_type": "code",
   "execution_count": null,
   "id": "42",
   "metadata": {},
   "outputs": [],
   "source": [
    "originally_within_Rmax = df_errors[\"R\"] <= 3.5"
   ]
  },
  {
   "cell_type": "code",
   "execution_count": null,
   "id": "43",
   "metadata": {},
   "outputs": [],
   "source": [
    "if True: # plot scatter inside/outside limit\n",
    "    \n",
    "    fig,ax=plt.subplots()\n",
    "    \n",
    "    colors = [\"grey\",\"red\",\"limegreen\"]\n",
    "    elements_dic = {\n",
    "        \"Stayed inside/outside\": [(originally_within_Rmax&within_cut)|(~originally_within_Rmax&~within_cut), 1, colors[0],1,\"grey\"],\n",
    "        \"Moved outside\": [originally_within_Rmax&~within_cut, 10, colors[1],0.5,\"k\"],\n",
    "        \"Moved inside\": [~originally_within_Rmax&within_cut, 10, colors[2],0.5,\"k\"]\n",
    "    }\n",
    "\n",
    "    y_var = \"vr\"; ylabel = r\"$v_r$\" + units_dict[\"mean_vx\"]\n",
    "#     y_var = \"d\"; ylabel = r\"$d~$[kpc]\"\n",
    "\n",
    "    for k in elements_dic:\n",
    "        condition,size,color,lw,edgecolor = elements_dic[k]\n",
    "\n",
    "        ax.scatter(x=df_errors[condition][\"R\"], y=df_errors[condition][y_var], color=color, s=size, label=f\"{k} ({sum(condition)})\",lw=lw,edgecolor=edgecolor)\n",
    "\n",
    "    ax.axvline(x=3.5,color=\"grey\",lw=1,linestyle=\"--\")\n",
    "    ax.text(x=3.5+0.1,y=0.85*ax.get_ylim()[1], s=r\"$R=3.5~$kpc\",color=\"grey\",size=15)\n",
    "\n",
    "    ax.set_xlabel(r\"$R$ [kpc]\"); ax.set_ylabel(ylabel)\n",
    "\n",
    "    leg = ax.legend()\n",
    "\n",
    "    for text,c in zip(leg.get_texts(),colors):\n",
    "        text.set_color(c)\n",
    "             \n",
    "if True: # filename and save\n",
    "    filename = f\"{y_var}-R\"\n",
    "    filename += f\"_{frac_error}fracErr\" if frac_error is not None else \"_dataErr\"\n",
    "    filename += \"_\" + MF.extract_str_from_cuts_dict(cuts_dict)\n",
    "\n",
    "    print(filename)\n",
    "    \n",
    "    if save_bool:\n",
    "        plt.savefig(save_path+filename+\".png\", bbox_inches=\"tight\")\n",
    "        print(\"Saved in\",save_path)\n",
    "    \n",
    "    plt.show()"
   ]
  },
  {
   "cell_type": "code",
   "execution_count": null,
   "id": "44",
   "metadata": {},
   "outputs": [],
   "source": [
    "save_bool = True\n",
    "# save_bool = False"
   ]
  },
  {
   "cell_type": "code",
   "execution_count": null,
   "id": "45",
   "metadata": {},
   "outputs": [],
   "source": [
    "bins = 50 if data_bool else 100\n",
    "\n",
    "fig,ax=plt.subplots()\n",
    "\n",
    "MC_d = np.random.normal(loc=df_errors[\"d\"],scale=df_errors[\"d_error\"] if \"d_error\" in df_errors else frac_error*df_errors[\"d\"]) # this is an example - in the std calculation this is calculated {repeats} number of times\n",
    "\n",
    "ax.hist(MC_d,bins=bins,label=r\"MC $d$\")\n",
    "ax.hist(df_errors[\"d\"],bins=bins,color=\"red\",alpha=0.4,label=r\"Original $d$\")\n",
    "ax.hist(MC_d-df_errors[\"d\"],bins=bins,color=\"k\",histtype=\"step\",label=\"Difference\")\n",
    "ax.set_xlabel(r\"$d$ [kpc]\"); ax.set_ylabel(r\"$N$\",rotation=0,labelpad=20)\n",
    "ax.legend()\n",
    "\n",
    "if True:\n",
    "    filename = \"dHists\"\n",
    "    filename += f\"_{frac_error}fracErr\" if frac_error is not None else \"_dataErr\"\n",
    "    filename += \"_\" + MF.extract_str_from_cuts_dict(cuts_dict)\n",
    "    filename += f\"_{bins}bins\"\n",
    "    \n",
    "    print(filename)\n",
    "    \n",
    "    if save_bool:\n",
    "        plt.savefig(save_path+filename+\".png\", bbox_inches=\"tight\")\n",
    "        print(\"Saved in\",save_path)\n",
    "    plt.show()"
   ]
  },
  {
   "cell_type": "markdown",
   "id": "46",
   "metadata": {},
   "source": [
    "# Downsampling errors"
   ]
  },
  {
   "cell_type": "code",
   "execution_count": null,
   "id": "47",
   "metadata": {},
   "outputs": [],
   "source": [
    "def get_sampling_errors(df, function, sampling_sizes, symmetric=True, replacement=True, repeat=500, tilt=False, absolute=True, verbose=False):\n",
    "\n",
    "    errors_low = np.empty_like(sampling_sizes,dtype=float)\n",
    "    errors_high = np.empty_like(sampling_sizes,dtype=float)\n",
    "\n",
    "    for s,size in enumerate(sampling_sizes):\n",
    "        errors_low[s],errors_high[s],values = CE.get_std_bootstrap(function=function,vx=df.vr.values,vy=df.vl.values,tilt=tilt,absolute=absolute,\\\n",
    "                                     bootstrapconfig=BootstrapConfig(bootstrap_size=size,replacement=replacement,symmetric=symmetric,repeats=repeat))\n",
    "        \n",
    "        if verbose:\n",
    "            print(size,end=\"; \")\n",
    "    \n",
    "    return errors_low,errors_high,values"
   ]
  },
  {
   "cell_type": "markdown",
   "id": "48",
   "metadata": {},
   "source": [
    "## Value histograms"
   ]
  },
  {
   "cell_type": "code",
   "execution_count": null,
   "id": "49",
   "metadata": {},
   "outputs": [],
   "source": [
    "df = MF.apply_cuts_to_df(df0, cuts_dict=[{\"R\":[0,3.5],\"b\":[3,6],\"l\":[-2,2],\"age\": [4,7]}])\n",
    "\n",
    "true_val = CV.calculate_correlation(df.vr.values,df.vl.values)\n",
    "\n",
    "print(true_val)"
   ]
  },
  {
   "cell_type": "code",
   "execution_count": null,
   "id": "50",
   "metadata": {},
   "outputs": [],
   "source": [
    "bins = 50\n",
    "sizes = [50,100,300,1000,5000,10000]\n",
    "\n",
    "fig,ax=plt.subplots()\n",
    "\n",
    "for s in sizes:\n",
    "    _,_,vals = get_sampling_errors(df=df,function=CV.calculate_correlation,repeat=500,replacement=False,symmetric=True,sampling_sizes=[s],verbose=True)\n",
    "\n",
    "    ax.hist(vals,bins=bins,alpha=0.5,label=s)\n",
    "    \n",
    "ax.axvline(true_val,color=\"red\")\n",
    "ax.legend()\n",
    "ax.set_xlabel(\"Correlation\")\n",
    "ax.set_ylabel(r\"$N$\")\n",
    "plt.show()"
   ]
  },
  {
   "cell_type": "markdown",
   "id": "51",
   "metadata": {},
   "source": [
    "## Error vs N"
   ]
  },
  {
   "cell_type": "code",
   "execution_count": null,
   "id": "52",
   "metadata": {},
   "outputs": [],
   "source": [
    "plt.rcParams[\"xtick.major.size\"] = 6\n",
    "plt.rcParams[\"xtick.minor.size\"] = 3\n",
    "\n",
    "plt.rcParams[\"font.size\"] = 19"
   ]
  },
  {
   "cell_type": "code",
   "execution_count": null,
   "id": "53",
   "metadata": {},
   "outputs": [],
   "source": [
    "MC_symmetric = True\n",
    "# MC_symmetric = False\n",
    "\n",
    "repeats = 500"
   ]
  },
  {
   "cell_type": "code",
   "execution_count": null,
   "id": "54",
   "metadata": {},
   "outputs": [],
   "source": [
    "sampling_sizes = np.arange(50,5000+50,50)\n",
    "function_dict = {\n",
    "    \"anisotropy\": CV.calculate_anisotropy,\n",
    "    \"correlation\": CV.calculate_correlation,\n",
    "    \"tilt_abs\": CV.calculate_tilt\n",
    "}\n",
    "\n",
    "all_dicts = [ # select for plotting\n",
    "#     {\n",
    "#         \"spatial_cuts\": {\"R\":[0,3.5],\"b\":[3.5,4.5],\"l\":[-2,2]},\n",
    "#         \"pop_cuts\": {\"age\": [4,7]},\n",
    "#         \"label\": \"Young\",\n",
    "#         \"color\": \"blue\"\n",
    "#     },\n",
    "#     {\n",
    "#         \"spatial_cuts\": {\"R\":[0,3.5],\"b\":[3.5,4.5],\"l\":[-2,2]},\n",
    "#         \"pop_cuts\": {\"age\":[9.5,10]},\n",
    "#         \"label\": \"Old\",\n",
    "#         \"color\": \"red\"\n",
    "#     },\n",
    "#     {\n",
    "#         \"spatial_cuts\": {\"R\":[0,3.5],\"b\":[3,6],\"l\":[-2,2]},\n",
    "#         \"pop_cuts\": {\"age\": [4,7]},\n",
    "#         \"label\": \"Young\",\n",
    "#         \"color\": \"blue\"\n",
    "#     },\n",
    "#     {\n",
    "#         \"spatial_cuts\": {\"R\":[0,3.5],\"b\":[3,6],\"l\":[-2,2]},\n",
    "#         \"pop_cuts\": {\"age\":[9.5,10]},\n",
    "#         \"label\": \"Old\",\n",
    "#         \"color\": \"red\"\n",
    "#     },\n",
    "    {\n",
    "        \"spatial_cuts\": {\"R\":[0,2],\"b\":[3,6],\"l\":[-2,2]},\n",
    "        \"pop_cuts\": {\"age\": [4,7]},\n",
    "        \"label\": \"Young\",\n",
    "        \"color\": \"blue\"\n",
    "    },\n",
    "    {\n",
    "        \"spatial_cuts\": {\"R\":[0,2],\"b\":[3,6],\"l\":[-2,2]},\n",
    "        \"pop_cuts\": {\"age\":[9.5,10]},\n",
    "        \"label\": \"Old\",\n",
    "        \"color\": \"red\"\n",
    "    },\n",
    "]\n",
    "\n",
    "for dic in all_dicts:\n",
    "    dic[\"df\"] = MF.apply_cuts_to_df(df0, cuts_dict=[dic[\"spatial_cuts\"],dic[\"pop_cuts\"]])\n",
    "    \n",
    "    print(dic[\"label\"])\n",
    "    for func in function_dict:\n",
    "        print(func)\n",
    "        \n",
    "        dic[func+\"_errors\"],*_ =\\\n",
    "            get_sampling_errors(df=dic[\"df\"],function=function_dict[func],repeat=repeats,replacement=False,symmetric=True,sampling_sizes=sampling_sizes,\\\n",
    "                                tilt=func==\"tilt_abs\", absolute=True, verbose=True)\n",
    "        \n",
    "        dic[func+\"_true_error\"],*_ = get_sampling_errors(df=dic[\"df\"],function=function_dict[func],sampling_sizes=[len(dic[\"df\"])],repeat=repeats,\\\n",
    "                                                        tilt=func==\"tilt_abs\", absolute=True)\n",
    "        \n",
    "        dic[func] = function_dict[func](dic[\"df\"].vr.values,dic[\"df\"].vl.values)\n",
    "        \n",
    "        montecarloconfig = MonteCarloConfig(perturbed_vars=[\"d\"],repeats=repeats,error_frac=0.2,symmetric=MC_symmetric,\\\n",
    "                                            affected_cuts_dict={k:v for k,v in dic[\"spatial_cuts\"].items() if k == \"R\"})\n",
    "        \n",
    "        dic[func+\"_MC_d_0.2_error_low\"],dic[func+\"_MC_d_0.2_error_high\"],*_ =\\\n",
    "            CE.get_std_MC(df=dic[\"df\"],function=function_dict[func],true_value=dic[func],vel_x_var=\"r\",vel_y_var=\"l\",tilt=func==\"tilt_abs\", absolute=True,\\\n",
    "                          montecarloconfig=montecarloconfig)\n",
    "        \n",
    "        montecarloconfig.error_frac = 0.1\n",
    "        \n",
    "        dic[func+\"_MC_d_0.1_error_low\"],dic[func+\"_MC_d_0.1_error_high\"],*_ =\\\n",
    "            CE.get_std_MC(df=dic[\"df\"],function=function_dict[func],true_value=dic[func],vel_x_var=\"r\",vel_y_var=\"l\",tilt=func==\"tilt_abs\", absolute=True,\\\n",
    "                          montecarloconfig=montecarloconfig)\n",
    "            \n",
    "        print(\"\\n\")"
   ]
  },
  {
   "cell_type": "code",
   "execution_count": null,
   "id": "55",
   "metadata": {},
   "outputs": [],
   "source": [
    "from scipy.optimize import curve_fit\n",
    "\n",
    "class ReciprocalFunc():\n",
    "    def __init__(self, p0=[39.65,100,0.02]):\n",
    "        self.func = lambda x,a,b,c: a/(x+b)+c\n",
    "        self.name = \"reciprocal\"\n",
    "        self.label = r\"$f(n)=\\frac{a}{n+b}+c$\"\n",
    "        self.p0 = p0\n",
    "    def fit(self,x,y):\n",
    "        self.fit_params,_ = curve_fit(f=self.func, p0=self.p0, xdata=x,ydata=y)\n",
    "        \n",
    "class InverseSquareFunc():\n",
    "    def __init__(self, p0=[10]):\n",
    "        self.func = lambda x,a: a/(np.sqrt(x))\n",
    "        self.name = \"inverse_square\"\n",
    "        self.label = r\"$f(n)=\\frac{a}{\\sqrt{n}}$\"\n",
    "        self.p0 = p0\n",
    "    def fit(self,x,y):\n",
    "        self.fit_params,_ = curve_fit(f=self.func, p0=self.p0, xdata=x,ydata=y)\n",
    "        \n",
    "def show_fit_params_text(ax, Func, x_eq=0.6,y_eq=0.42, color=\"grey\", ndec_text=2, alpha=1, size=13, units=\"\"):\n",
    "    \n",
    "    if not hasattr(fit_func,\"fit_params\"):\n",
    "        raise AttributeError(\"Fit the function first!\")\n",
    "    \n",
    "    abc_str = str.join(\",\",[\"abcdefg\"[i] for i in range(len(Func.p0))])\n",
    "    values_str = (len(Func.p0)*\"%s,\").removesuffix(\",\")\n",
    "    final_str = (r\"$(\" if len(Func.p0)>1 else r\"$\") + abc_str + (\")=(\" if len(Func.p0)>1 else \"=\") + values_str + (\")$\" if len(Func.p0)>1 else \"$\")\n",
    "    final_str += units\n",
    "\n",
    "    ax.text(x=x_eq,y=y_eq,transform=ax.transAxes,color=color,alpha=alpha,size=size,\n",
    "             s=final_str%tuple([MF.return_int_or_dec(param,ndec_text) for param in Func.fit_params]))"
   ]
  },
  {
   "cell_type": "code",
   "execution_count": null,
   "id": "56",
   "metadata": {},
   "outputs": [],
   "source": [
    "max_sampling_size = max(sampling_sizes)\n",
    "xtick_step = 500\n",
    "major_locator = 1000\n",
    "minor_locator = 250\n",
    "\n",
    "# max_sampling_size = 1000\n",
    "# xtick_step = 100\n",
    "# major_locator = 200\n",
    "# minor_locator = 50"
   ]
  },
  {
   "cell_type": "code",
   "execution_count": null,
   "id": "57",
   "metadata": {},
   "outputs": [],
   "source": [
    "ylog_bool = True\n",
    "# ylog_bool = False\n",
    "\n",
    "xlog_bool = True\n",
    "# xlog_bool = False"
   ]
  },
  {
   "cell_type": "code",
   "execution_count": null,
   "id": "58",
   "metadata": {},
   "outputs": [],
   "source": [
    "fit_bool = True\n",
    "# fit_bool = False\n",
    "\n",
    "# fit_func = ReciprocalFunc(p0=[1,10,10])\n",
    "fit_func = InverseSquareFunc(p0=[1])\n",
    "\n",
    "x_eq = 0.4 if not xlog_bool else 0.6\n",
    "y_eq = 0.5 if not (xlog_bool and ylog_bool) else 0.3"
   ]
  },
  {
   "cell_type": "code",
   "execution_count": null,
   "id": "59",
   "metadata": {},
   "outputs": [],
   "source": [
    "hard_coded_ylims_dict = {\n",
    "    \"anisotropy\": [0 if not ylog_bool else 0.001,0.3],\n",
    "    \"correlation\": [0 if not ylog_bool else 0.001,0.149],\n",
    "    \"tilt_abs\": [0 if not ylog_bool else 0.1,33]\n",
    "}\n",
    "\n",
    "if xlog_bool and ylog_bool:\n",
    "    for k in hard_coded_ylims_dict:\n",
    "        hard_coded_ylims_dict[k][1] *= 1.5"
   ]
  },
  {
   "cell_type": "code",
   "execution_count": null,
   "id": "60",
   "metadata": {},
   "outputs": [],
   "source": [
    "# save_bool = True\n",
    "save_bool = False"
   ]
  },
  {
   "cell_type": "code",
   "execution_count": null,
   "id": "61",
   "metadata": {},
   "outputs": [],
   "source": [
    "width_broken_axes = 0.13\n",
    "nrows = len(function_dict)\n",
    "\n",
    "fig,axs = plt.subplots(figsize=(8,10),ncols=3,nrows=nrows,gridspec_kw={\"width_ratios\":[1]+2*[width_broken_axes],\"wspace\":0.1,\"hspace\":0})\n",
    "\n",
    "for row,func in enumerate(function_dict):\n",
    "    lax,cax,rax = axs[row]\n",
    "\n",
    "    if True: # broken axes\n",
    "\n",
    "        d = 0.02\n",
    "        d_factor = 1/width_broken_axes\n",
    "        \n",
    "        for ax in [lax,cax]:\n",
    "            ax.spines['right'].set_visible(False)\n",
    "            ax.tick_params(which='both',right=False)\n",
    "        \n",
    "        lax.plot((1-d,1+d), (-d,d), transform=lax.transAxes, color='k', clip_on=False,lw=\"1\")\n",
    "        lax.plot((1-d,1+d),(1-d,1+d), transform=lax.transAxes, color='k', clip_on=False,lw=\"1\")\n",
    "        \n",
    "        cax.plot((1-d_factor*d,1+d_factor*d), (-d,d), transform=cax.transAxes, color='k', clip_on=False,lw=\"1\")\n",
    "        cax.plot((1-d_factor*d,1+d_factor*d), (1-d,1+d), transform=cax.transAxes, color='k', clip_on=False,lw=\"1\")\n",
    "        \n",
    "        for ax in [cax,rax]:\n",
    "            ax.spines['left'].set_visible(False)\n",
    "            ax.tick_params(which='both',left=False)\n",
    "            \n",
    "            ax.plot((-d_factor*d,+d_factor*d), (1-d,1+d), transform=ax.transAxes, color='k', clip_on=False,lw=\"1\")\n",
    "            ax.plot((-d_factor*d,+d_factor*d), (-d,d), transform=ax.transAxes, color='k', clip_on=False,lw=\"1\")\n",
    "    \n",
    "    if True: # plot\n",
    "        for dic in all_dicts:\n",
    "            lax.plot(sampling_sizes[sampling_sizes <= max_sampling_size],dic[func+\"_errors\"][sampling_sizes <= max_sampling_size],\\\n",
    "                     label=dic[\"label\"],color=dic[\"color\"],alpha=0.7)\n",
    "\n",
    "        for dic,ax in zip(all_dicts,[cax,rax]):\n",
    "            ax.scatter(len(dic[\"df\"]),dic[func+\"_true_error\"][0],marker=\"*\",color=dic[\"color\"])\n",
    "            ax.set_xticks([len(dic[\"df\"])])\n",
    "            \n",
    "        lax.scatter(x=-100,y=0,marker=\"*\",color=\"k\",label=\"Bootstrap error\")\n",
    "    \n",
    "    if True: # ticks, lims, logscale\n",
    "        \n",
    "        if xlog_bool:\n",
    "            lax.set_xscale(\"log\")\n",
    "        \n",
    "        lax_leftlim = 40 if xlog_bool else 0\n",
    "        lax.set_xlim(lax_leftlim,max_sampling_size+minor_locator*0.9)\n",
    "        \n",
    "        if not xlog_bool:\n",
    "            lax.xaxis.set_major_locator(ticker.MultipleLocator(major_locator))\n",
    "            lax.xaxis.set_minor_locator(ticker.MultipleLocator(minor_locator))\n",
    "#             lax.set_xticks([50]+list(np.arange(xtick_step,max_sampling_size+xtick_step,xtick_step)))\n",
    "        \n",
    "        for ax in [lax,cax,rax]:\n",
    "            ax.tick_params(axis='x', which='major', pad=10)\n",
    "            \n",
    "            if ylog_bool:\n",
    "                ax.set_yscale(\"log\")\n",
    "                \n",
    "            if ax in [cax,rax]:\n",
    "                ax.yaxis.set_ticklabels([])\n",
    "            \n",
    "            if func in hard_coded_ylims_dict:\n",
    "                ax.set_ylim(hard_coded_ylims_dict[func])\n",
    "            else:\n",
    "                ax.set_ylim(bottom=0.005 if ylog_bool else 0)\n",
    "\n",
    "            if row != nrows - 1:\n",
    "                ax.xaxis.set_ticklabels([])\n",
    "                ax.xaxis.set_ticklabels([])\n",
    "        \n",
    "    if fit_bool:\n",
    "        \n",
    "        x_plot = np.linspace(min(sampling_sizes),max_sampling_size,500)\n",
    "        \n",
    "        if func != \"tilt_abs\":\n",
    "            fit_func.fit(x = sampling_sizes[sampling_sizes<=max_sampling_size], y = all_dicts[0][func+\"_errors\"][sampling_sizes<=max_sampling_size])\n",
    "            lax.plot(x_plot, fit_func.func(x_plot, *fit_func.fit_params), color=\"grey\", linestyle=\"--\")\n",
    "            show_fit_params_text(ax=lax,Func=fit_func,color=\"grey\",x_eq=x_eq,y_eq=y_eq)\n",
    "        else:\n",
    "            for (pop_idx,color,y) in zip([0,1],[\"blue\",\"red\"],[y_eq-0.04,y_eq+0.04]):\n",
    "                fit_func.fit(x = sampling_sizes[sampling_sizes<=max_sampling_size], y = all_dicts[pop_idx][func+\"_errors\"][sampling_sizes<=max_sampling_size])\n",
    "\n",
    "                lax.plot(x_plot, fit_func.func(x_plot, *fit_func.fit_params), color=color, linestyle=\"--\")\n",
    "                show_fit_params_text(ax=lax,Func=fit_func,alpha=1 if row!=nrows-1 else 0.5,color=color,x_eq=x_eq,y_eq=y,units=mapf.get_units(\"tilt_abs\"))\n",
    "                \n",
    "        lax.plot([-100,-100],[0,1],label=fit_func.label,linestyle=\"--\",color=\"grey\") # just for the legend label\n",
    "                \n",
    "    if True: # labels, legend, text\n",
    "        if row == nrows-1:\n",
    "#             lax.set_xlabel(\"Random downsampling sample size\")\n",
    "            lax.text(s=\"Sample size\",x=0.5,y=-0.25,transform=lax.transAxes,size=\"medium\")\n",
    "\n",
    "        if row == 0:\n",
    "            fig.legend(loc=(0.65,0.77) if not (xlog_bool and ylog_bool) else (0.16,0.7))\n",
    "        elif row == 1:\n",
    "            lax.set_ylabel(r\"Mean squared deviation from true value\")\n",
    "        \n",
    "#         lax.set_ylabel(\"Error\")\n",
    "        \n",
    "        if xlog_bool and ylog_bool:\n",
    "            x_func_text = 0.95\n",
    "        elif xlog_bool:\n",
    "            x_func_text = 0.3\n",
    "        else:\n",
    "            x_func_text = 0.2\n",
    "        fig.text(s=mapf.get_kinematic_titles_dict(\"r\",\"l\")[func.removesuffix(\"_abs\")],x=x_func_text,y=0.8,transform=lax.transAxes,size=15)\n",
    "        \n",
    "        fig.align_labels()\n",
    "\n",
    "if True: # filename, save and show\n",
    "    save_path = general_path+\"graphs/other_plots/downsampling_errors/\"\n",
    "    \n",
    "    if list(function_dict.keys()) == [\"anisotropy\",\"correlation\",\"tilt_abs\"]:\n",
    "        filename = \"anicorr\"\n",
    "    else:\n",
    "        raise ValueError(\"Please specify map list name\")\n",
    "        \n",
    "    filename += f\"_{max_sampling_size}maxsize\"\n",
    "    \n",
    "    spatial_cuts = all_dicts[0][\"spatial_cuts\"]\n",
    "    for dic in all_dicts:\n",
    "        assert dic[\"spatial_cuts\"] == spatial_cuts, \"The spatial cuts were not the same across all dicts!\"\n",
    "    \n",
    "    filename += '_'+MF.extract_str_from_cuts_dict(spatial_cuts)\n",
    "    \n",
    "    for dic in all_dicts:\n",
    "        filename += '_'+MF.extract_str_from_cuts_dict(dic[\"pop_cuts\"])\n",
    "    \n",
    "    if xlog_bool and ylog_bool:\n",
    "        filename += \"_xylog\"\n",
    "    elif xlog_bool:\n",
    "        filename += \"_xlog\"\n",
    "    elif ylog_bool:\n",
    "        filename += \"_ylog\"\n",
    "    \n",
    "    if fit_bool:\n",
    "        filename += \"_fit\"\n",
    "        \n",
    "    print(filename)\n",
    "    \n",
    "    if save_bool:\n",
    "        print(\"Saving in\",save_path)\n",
    "        plt.savefig(save_path+filename+\".png\",dpi=200,bbox_inches=\"tight\")\n",
    "    plt.show()"
   ]
  },
  {
   "cell_type": "code",
   "execution_count": null,
   "id": "62",
   "metadata": {},
   "outputs": [],
   "source": []
  }
 ],
 "metadata": {
  "kernelspec": {
   "display_name": "Python 3 (ipykernel)",
   "language": "python",
   "name": "python3"
  },
  "language_info": {
   "codemirror_mode": {
    "name": "ipython",
    "version": 3
   },
   "file_extension": ".py",
   "mimetype": "text/x-python",
   "name": "python",
   "nbconvert_exporter": "python",
   "pygments_lexer": "ipython3",
   "version": "3.11.5"
  },
  "toc": {
   "base_numbering": 1,
   "nav_menu": {},
   "number_sections": true,
   "sideBar": true,
   "skip_h1_title": false,
   "title_cell": "Table of Contents",
   "title_sidebar": "Contents",
   "toc_cell": false,
   "toc_position": {
    "height": "calc(100% - 180px)",
    "left": "10px",
    "top": "150px",
    "width": "165px"
   },
   "toc_section_display": true,
   "toc_window_display": true
  },
  "varInspector": {
   "cols": {
    "lenName": 16,
    "lenType": 16,
    "lenVar": 40
   },
   "kernels_config": {
    "python": {
     "delete_cmd_postfix": "",
     "delete_cmd_prefix": "del ",
     "library": "var_list.py",
     "varRefreshCmd": "print(var_dic_list())"
    },
    "r": {
     "delete_cmd_postfix": ") ",
     "delete_cmd_prefix": "rm(",
     "library": "var_list.r",
     "varRefreshCmd": "cat(var_dic_list()) "
    }
   },
   "types_to_exclude": [
    "module",
    "function",
    "builtin_function_or_method",
    "instance",
    "_Feature"
   ],
   "window_display": false
  }
 },
 "nbformat": 4,
 "nbformat_minor": 5
}

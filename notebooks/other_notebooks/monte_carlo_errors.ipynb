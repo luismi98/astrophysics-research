{
 "cells": [
  {
   "cell_type": "code",
   "execution_count": null,
   "id": "0",
   "metadata": {},
   "outputs": [],
   "source": [
    "%config Completer.use_jedi = False # To make auto-complete faster\n",
    "\n",
    "#Reloads imported files automatically\n",
    "%load_ext autoreload\n",
    "%autoreload 2\n",
    "\n",
    "import sys\n",
    "sys.path.append('../../utils/')"
   ]
  },
  {
   "cell_type": "code",
   "execution_count": null,
   "id": "1",
   "metadata": {},
   "outputs": [],
   "source": [
    "from IPython.display import display, HTML\n",
    "display(HTML(\"<style>.container { width:88% !important; }</style>\"))"
   ]
  },
  {
   "cell_type": "code",
   "execution_count": null,
   "id": "2",
   "metadata": {},
   "outputs": [],
   "source": [
    "import pandas as pd\n",
    "import numpy as np"
   ]
  },
  {
   "cell_type": "code",
   "execution_count": null,
   "id": "3",
   "metadata": {},
   "outputs": [],
   "source": [
    "import matplotlib.pyplot as plt\n",
    "from mpl_toolkits.axes_grid1 import make_axes_locatable\n",
    "from matplotlib.colors import LogNorm\n",
    "import matplotlib.ticker as ticker\n",
    "from matplotlib import colormaps as mplcmaps\n",
    "import matplotlib.cm as cm\n",
    "\n",
    "from matplotlib_param_funcs import set_matplotlib_params,reset_rcParams\n",
    "set_matplotlib_params()"
   ]
  },
  {
   "cell_type": "code",
   "execution_count": null,
   "id": "4",
   "metadata": {},
   "outputs": [],
   "source": [
    "import miscellaneous_functions as MF\n",
    "import compute_variables as CV\n",
    "import map_functions as mapf\n",
    "import load_sim\n",
    "import load_data"
   ]
  },
  {
   "cell_type": "code",
   "execution_count": null,
   "id": "5",
   "metadata": {},
   "outputs": [],
   "source": [
    "#CHOOSE\n",
    "\n",
    "x_variable = \"l\"\n",
    "y_variable = \"b\"\n",
    "\n",
    "vel_x_variable = 'r'\n",
    "vel_y_variable = 'l'"
   ]
  },
  {
   "cell_type": "code",
   "execution_count": null,
   "id": "6",
   "metadata": {},
   "outputs": [],
   "source": [
    "degree_symbol = \"^\\circ\"\n",
    "\n",
    "symbol_dict = mapf.get_kinematic_symbols_dict(x_variable=x_variable,\n",
    "                                                         y_variable=y_variable,\n",
    "                                                         vel_x_variable=vel_x_variable,\n",
    "                                                         vel_y_variable=vel_y_variable)\n",
    "\n",
    "units_dict = mapf.get_kinematic_units_dict(position_variables=x_variable+y_variable,\n",
    "                                                     vel_x_variable=vel_x_variable,\n",
    "                                                     vel_y_variable=vel_y_variable,\n",
    "                                                     degree_symbol=degree_symbol)\n",
    "\n",
    "pos_symbols_dict,pos_units_dict = mapf.get_position_symbols_and_units_dict(degree_symbol=r\"$%s$\"%degree_symbol)"
   ]
  },
  {
   "cell_type": "markdown",
   "id": "7",
   "metadata": {},
   "source": [
    "# Load"
   ]
  },
  {
   "cell_type": "code",
   "execution_count": null,
   "id": "8",
   "metadata": {},
   "outputs": [],
   "source": [
    "general_path = '/Users/luismi/Desktop/MRes_UCLan/'"
   ]
  },
  {
   "cell_type": "code",
   "execution_count": null,
   "id": "9",
   "metadata": {},
   "outputs": [],
   "source": [
    "zabs = True\n",
    "# zabs = False\n",
    "\n",
    "R0 = 8.1\n",
    "\n",
    "GSR = True\n",
    "# GSR = False"
   ]
  },
  {
   "cell_type": "markdown",
   "id": "10",
   "metadata": {},
   "source": [
    "## Sim"
   ]
  },
  {
   "cell_type": "code",
   "execution_count": null,
   "id": "11",
   "metadata": {},
   "outputs": [],
   "source": [
    "sim_choice = \"708main\"\n",
    "# sim_choice = \"708mainDiff4\"\n",
    "# sim_choice = \"708mainDiff5\"\n",
    "\n",
    "rot_angle = 27\n",
    "axisymmetric = False\n",
    "pos_scaling = 1.7\n",
    "\n",
    "filename = load_sim.build_filename(choice=sim_choice,rot_angle=rot_angle,R0=R0,axisymmetric=axisymmetric,zabs=zabs,pos_factor=pos_scaling,GSR=GSR)"
   ]
  },
  {
   "cell_type": "code",
   "execution_count": null,
   "id": "12",
   "metadata": {},
   "outputs": [],
   "source": [
    "load_chunk = False\n",
    "\n",
    "if not load_chunk:\n",
    "    np_path = general_path+f\"data/{sim_choice}/numpy_arrays/\"\n",
    "        \n",
    "    df0 = load_sim.load_simulation(path=np_path,filename=filename)\n",
    "else:\n",
    "    if sim_choice == \"708main\" and rot_angle == 27 and not axisymmetric and zabs and sim_scaling == 1.7:\n",
    "        pickle_name = \"df_bulge_zabs.pkl\"\n",
    "        df0 = pd.read_pickle(\"708main_simulation/\"+pickle_name)"
   ]
  },
  {
   "cell_type": "markdown",
   "id": "13",
   "metadata": {},
   "source": [
    "## Data"
   ]
  },
  {
   "cell_type": "code",
   "execution_count": null,
   "id": "14",
   "metadata": {},
   "outputs": [],
   "source": [
    "obs_errors = True\n",
    "# obs_errors = False\n",
    "\n",
    "data_zabs = True\n",
    "# data_zabs = False"
   ]
  },
  {
   "cell_type": "code",
   "execution_count": null,
   "id": "15",
   "metadata": {},
   "outputs": [],
   "source": [
    "data_path = general_path+\"data/Observational_data/\"\n",
    "\n",
    "data = load_data.load_and_process_data(data_path=data_path, error_bool=obs_errors, zabs=zabs, R0=R0, GSR=GSR)"
   ]
  },
  {
   "cell_type": "markdown",
   "id": "16",
   "metadata": {},
   "source": [
    "# Compute"
   ]
  },
  {
   "cell_type": "code",
   "execution_count": null,
   "id": "17",
   "metadata": {},
   "outputs": [],
   "source": [
    "# data_bool = True\n",
    "data_bool = False\n",
    "\n",
    "# frac_error = True if not data_bool else True\n",
    "frac_error = True if not data_bool else False"
   ]
  },
  {
   "cell_type": "code",
   "execution_count": null,
   "id": "18",
   "metadata": {},
   "outputs": [],
   "source": [
    "save_path = general_path + \"graphs/other_plots/MC_distance/\"\n",
    "MF.create_dir(save_path)\n",
    "\n",
    "save_path += \"data/\" if data_bool else \"model/\"\n",
    "MF.create_dir(save_path)\n",
    "\n",
    "print(save_path)"
   ]
  },
  {
   "cell_type": "code",
   "execution_count": null,
   "id": "19",
   "metadata": {},
   "outputs": [],
   "source": [
    "if data_bool:\n",
    "    cuts_dict = {\"FeH\":[-1,2], \"l\":[-2,2],\"R\":[0,5]}\n",
    "else:\n",
    "#     cuts_dict={\"age\":[0,4],\"R\":[0,5],\"l\":[-2,2],\"b\":[0,0.01]} # nuclear disc\n",
    "#     cuts_dict={\"age\":[4,7],\"R\":[0,],\"l\":[-2,2],\"b\":[3.5,4]} # young pop\n",
    "        cuts_dict={\"age\":[4,7],\"l\":[-2,2],\"b\":[3.5,4]} # young pop no R cut\n",
    "\n",
    "df = MF.apply_cuts_to_df(data if data_bool else df0, cuts_dict=cuts_dict)\n",
    "print(len(df),\"stars\")"
   ]
  },
  {
   "cell_type": "code",
   "execution_count": null,
   "id": "20",
   "metadata": {},
   "outputs": [],
   "source": [
    "if frac_error:\n",
    "    d_frac_error = 0.2\n",
    "    \n",
    "    df[\"d_error\"] = df[\"d\"]*d_frac_error\n",
    "    \n",
    "    print(f\"Working with {d_frac_error} fractional distance error\")\n",
    "else:\n",
    "    assert \"d_error\" in df, \"If not working with frac error, then 'd_error' must be already exist (did you mean to set data_bool to True?)\"\n",
    "    print(\"Got the error from data\")"
   ]
  },
  {
   "cell_type": "code",
   "execution_count": null,
   "id": "21",
   "metadata": {},
   "outputs": [],
   "source": [
    "funcs_dict = {\n",
    "    \"correlation\": CV.calculate_correlation,\n",
    "    \"anisotropy\": CV.calculate_anisotropy,\n",
    "}"
   ]
  },
  {
   "cell_type": "code",
   "execution_count": null,
   "id": "22",
   "metadata": {},
   "outputs": [],
   "source": [
    "func_name = \"correlation\"\n",
    "# func_name = \"anisotropy\"\n",
    "\n",
    "func = funcs_dict[func_name]\n",
    "\n",
    "Rmax_MC = 3.5\n",
    "originally_within_Rmax = df[\"R\"]<=Rmax_MC\n",
    "\n",
    "df_within_lim = df[originally_within_Rmax]\n",
    "print(f\"Total: {len(df)}. Within R≤3.5 lim: {len(df_within_lim)}\\n\")\n",
    "\n",
    "true_value = func(vx=df_within_lim[\"vr\"],vy=df_within_lim[\"vl\"])\n",
    "print(f\"{func_name} true value: {true_value}\")\n",
    "\n",
    "repeat = 5000"
   ]
  },
  {
   "cell_type": "code",
   "execution_count": null,
   "id": "23",
   "metadata": {},
   "outputs": [],
   "source": [
    "std_MC, MC_values, within_Rmax = CV.get_std_MC(function=func,df=df,Rmax=Rmax_MC,repeat=repeat)\n",
    "\n",
    "std_boot, boot_vals = CV.get_std_bootstrap(function=func,vx=df_within_lim[\"vr\"].values,vy=df_within_lim[\"vl\"].values,repeat=repeat)\n",
    "\n",
    "print(f\"Mean\\t MC: {np.mean(MC_values)}. Boot: {np.mean(boot_vals)}\")\n",
    "print(f\"Median\\t MC: {np.median(MC_values)}. Boot: {np.median(boot_vals)}\")\n",
    "print(f\"Std\\t MC: {std_MC}. Boot: {std_boot}\")"
   ]
  },
  {
   "cell_type": "code",
   "execution_count": null,
   "id": "24",
   "metadata": {},
   "outputs": [],
   "source": [
    "# save_bool = True\n",
    "save_bool = False"
   ]
  },
  {
   "cell_type": "code",
   "execution_count": null,
   "id": "25",
   "metadata": {},
   "outputs": [],
   "source": [
    "plt.rcParams[\"font.size\"] = 20\n",
    "\n",
    "fig,ax=plt.subplots()\n",
    "ax.hist(MC_values,bins=50,color=\"blue\",alpha=0.7,label=fr\"MC values ($R={repeat}$)\")\n",
    "ax.hist(boot_vals,bins=50,color=\"green\",alpha=0.5, label=fr\"Bootstrap values ($R={repeat}$)\")\n",
    "ax.axvline(true_value,color=\"red\",label=\"True value\")\n",
    "ax.set_xlabel(symbol_dict[func_name]); ax.set_ylabel(r\"$N$\",rotation=0,labelpad=20)\n",
    "ax.legend()\n",
    "\n",
    "if True:\n",
    "    filename = func_name\n",
    "    \n",
    "    if not frac_error:\n",
    "        filename += \"dataErr/\"\n",
    "    \n",
    "    filename += f\"_{d_frac_error}fracErr\"\n",
    "    \n",
    "    filename += \"_\" + MF.extract_str_from_cuts_dict(cuts_dict)\n",
    "    \n",
    "    print(filename)\n",
    "    \n",
    "    if save_bool:\n",
    "        plt.savefig(save_path+filename+\".png\", bbox_inches=\"tight\")\n",
    "        print(\"Saved in\",save_path)\n",
    "    plt.show()"
   ]
  },
  {
   "cell_type": "code",
   "execution_count": null,
   "id": "26",
   "metadata": {},
   "outputs": [],
   "source": [
    "if True: # plot scatter inside/outside limit\n",
    "    \n",
    "    fig,ax=plt.subplots()\n",
    "    \n",
    "    colors = [\"grey\",\"red\",\"limegreen\"]\n",
    "    elements_dic = {\n",
    "        \"Stayed inside/outside\": [(originally_within_Rmax&within_Rmax)|(~originally_within_Rmax&~within_Rmax), 1, colors[0],1,\"grey\"],\n",
    "        \"Moved outside\": [originally_within_Rmax&~within_Rmax, 10, colors[1],0.5,\"k\"],\n",
    "        \"Moved inside\": [~originally_within_Rmax&within_Rmax, 10, colors[2],0.5,\"k\"]\n",
    "    }\n",
    "\n",
    "    y_var = \"vr\"; ylabel = r\"$v_r$\" + units_dict[\"mean_vx\"]\n",
    "#     y_var = \"d\"; ylabel = r\"$d~$[kpc]\"\n",
    "\n",
    "    for k in elements_dic:\n",
    "        condition,size,color,lw,edgecolor = elements_dic[k]\n",
    "\n",
    "        ax.scatter(x=df[condition][\"R\"], y=df[condition][y_var], color=color, s=size, label=f\"{k} ({sum(condition)})\",lw=lw,edgecolor=edgecolor)\n",
    "\n",
    "    ax.axvline(x=3.5,color=\"grey\",lw=1,linestyle=\"--\")\n",
    "    ax.text(x=3.5+0.1,y=0.85*ax.get_ylim()[1], s=r\"$R=3.5~$kpc\",color=\"grey\",size=15)\n",
    "\n",
    "    ax.set_xlabel(r\"$R$ [kpc]\"); ax.set_ylabel(ylabel)\n",
    "\n",
    "    leg = ax.legend()\n",
    "\n",
    "    for text,c in zip(leg.get_texts(),colors):\n",
    "        text.set_color(c)\n",
    "             \n",
    "if True: # filename and save\n",
    "    filename = f\"{y_var}-R\"\n",
    "    filename += f\"_{d_frac_error}fracErr\"\n",
    "    filename += \"_\" + MF.extract_str_from_cuts_dict(cuts_dict)\n",
    "\n",
    "    print(filename)\n",
    "    \n",
    "    if save_bool:\n",
    "        plt.savefig(save_path+filename+\".png\", bbox_inches=\"tight\")\n",
    "        print(\"Saved in\",save_path)\n",
    "    \n",
    "    plt.show()"
   ]
  },
  {
   "cell_type": "code",
   "execution_count": null,
   "id": "27",
   "metadata": {},
   "outputs": [],
   "source": [
    "fig,ax=plt.subplots()\n",
    "\n",
    "MC_d = np.random.normal(loc=df[\"d\"],scale=df[\"d_error\"]) # this is an example - in the std calculation this is calculated {repeat} number of times\n",
    "\n",
    "ax.hist(MC_d,bins=100,label=r\"MC $d$\")\n",
    "ax.hist(df[\"d\"],bins=100,color=\"red\",alpha=0.4,label=r\"Original $d$\")\n",
    "ax.hist(MC_d-df[\"d\"],bins=100,color=\"k\",histtype=\"step\",label=\"Difference\")\n",
    "ax.set_xlabel(r\"$d$ [kpc]\"); ax.set_ylabel(r\"$N$\",rotation=0,labelpad=20)\n",
    "ax.legend()\n",
    "plt.show()"
   ]
  },
  {
   "cell_type": "code",
   "execution_count": null,
   "id": "28",
   "metadata": {},
   "outputs": [],
   "source": []
  }
 ],
 "metadata": {
  "kernelspec": {
   "display_name": "Python 3 (ipykernel)",
   "language": "python",
   "name": "python3"
  },
  "language_info": {
   "codemirror_mode": {
    "name": "ipython",
    "version": 3
   },
   "file_extension": ".py",
   "mimetype": "text/x-python",
   "name": "python",
   "nbconvert_exporter": "python",
   "pygments_lexer": "ipython3",
   "version": "3.11.5"
  },
  "toc": {
   "base_numbering": 1,
   "nav_menu": {},
   "number_sections": true,
   "sideBar": true,
   "skip_h1_title": false,
   "title_cell": "Table of Contents",
   "title_sidebar": "Contents",
   "toc_cell": false,
   "toc_position": {
    "height": "calc(100% - 180px)",
    "left": "10px",
    "top": "150px",
    "width": "165px"
   },
   "toc_section_display": true,
   "toc_window_display": true
  },
  "varInspector": {
   "cols": {
    "lenName": 16,
    "lenType": 16,
    "lenVar": 40
   },
   "kernels_config": {
    "python": {
     "delete_cmd_postfix": "",
     "delete_cmd_prefix": "del ",
     "library": "var_list.py",
     "varRefreshCmd": "print(var_dic_list())"
    },
    "r": {
     "delete_cmd_postfix": ") ",
     "delete_cmd_prefix": "rm(",
     "library": "var_list.r",
     "varRefreshCmd": "cat(var_dic_list()) "
    }
   },
   "types_to_exclude": [
    "module",
    "function",
    "builtin_function_or_method",
    "instance",
    "_Feature"
   ],
   "window_display": false
  }
 },
 "nbformat": 4,
 "nbformat_minor": 5
}

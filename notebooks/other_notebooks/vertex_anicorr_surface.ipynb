{
 "cells": [
  {
   "cell_type": "code",
   "execution_count": null,
   "id": "0",
   "metadata": {},
   "outputs": [],
   "source": [
    "%config Completer.use_jedi = False # To make auto-complete faster\n",
    "\n",
    "#Reloads imported files automatically\n",
    "%load_ext autoreload\n",
    "%autoreload 2\n",
    "\n",
    "import sys\n",
    "sys.path.append('../../utils/')"
   ]
  },
  {
   "cell_type": "code",
   "execution_count": null,
   "id": "1",
   "metadata": {},
   "outputs": [],
   "source": [
    "from IPython.display import display, HTML\n",
    "display(HTML(\"<style>.container { width:87% !important; }</style>\"))"
   ]
  },
  {
   "cell_type": "code",
   "execution_count": null,
   "id": "2",
   "metadata": {},
   "outputs": [],
   "source": [
    "import numpy as np"
   ]
  },
  {
   "cell_type": "code",
   "execution_count": null,
   "id": "3",
   "metadata": {},
   "outputs": [],
   "source": [
    "import matplotlib.pyplot as plt\n",
    "from matplotlib import colormaps as mplcmaps\n",
    "from mpl_toolkits.mplot3d import Axes3D\n",
    "import matplotlib.colors as mplcolors\n",
    "\n",
    "from matplotlib_param_funcs import set_matplotlib_params,reset_rcParams\n",
    "\n",
    "set_matplotlib_params()"
   ]
  },
  {
   "cell_type": "code",
   "execution_count": null,
   "id": "4",
   "metadata": {},
   "outputs": [],
   "source": [
    "import compute_variables as CV\n",
    "import miscellaneous_functions as MF\n",
    "import plotting_helpers as PH\n",
    "import velocity_plot as VP\n",
    "import map_functions as mapf"
   ]
  },
  {
   "cell_type": "code",
   "execution_count": null,
   "id": "5",
   "metadata": {},
   "outputs": [],
   "source": [
    "symbol_dict,units_dict = mapf.get_kinematic_symbols_dict(),mapf.get_kinematic_units_dict()"
   ]
  },
  {
   "cell_type": "code",
   "execution_count": null,
   "id": "6",
   "metadata": {},
   "outputs": [],
   "source": [
    "save_path = \"/Users/luismi/Desktop/MRes_UCLan/Other_stuff/Mathematica/anicorr/\"\n",
    "\n",
    "save_path += \"python/\"\n",
    "MF.create_dir(save_path)\n",
    "\n",
    "print(\"Saving in\",save_path)"
   ]
  },
  {
   "cell_type": "markdown",
   "id": "7",
   "metadata": {},
   "source": [
    "# 3D"
   ]
  },
  {
   "cell_type": "code",
   "execution_count": null,
   "id": "8",
   "metadata": {},
   "outputs": [],
   "source": [
    "plt.rcParams[\"font.size\"]=20"
   ]
  },
  {
   "cell_type": "code",
   "execution_count": null,
   "id": "9",
   "metadata": {},
   "outputs": [],
   "source": [
    "ani_min = -10\n",
    "cmap = \"terrain\""
   ]
  },
  {
   "cell_type": "code",
   "execution_count": null,
   "id": "10",
   "metadata": {},
   "outputs": [],
   "source": [
    "save_bool = True\n",
    "# save_bool = False"
   ]
  },
  {
   "cell_type": "code",
   "execution_count": null,
   "id": "11",
   "metadata": {},
   "outputs": [],
   "source": [
    "# plot\n",
    "\n",
    "# Create a meshgrid for the range of x and y values\n",
    "x = np.linspace(ani_min, 1, 400)  # Increase the number for a finer mesh\n",
    "y = np.linspace(-1, 1, 400)  # Increase the number for a finer mesh\n",
    "X, Y = np.meshgrid(x, y)\n",
    "\n",
    "# Calculate Z using the provided function\n",
    "Z = 90 / np.pi * np.arctan(Y / np.abs(X) * np.sqrt(1 - X))\n",
    "\n",
    "# Ensure Z ranges from -45 to 45\n",
    "Z = np.clip(Z, -45, 45)\n",
    "\n",
    "# Create the plot\n",
    "fig = plt.figure()\n",
    "ax = fig.add_subplot(111, projection='3d')\n",
    "\n",
    "# Plot the surface\n",
    "surf = ax.plot_surface(X, Y, Z, cmap=cmap)\n",
    "\n",
    "# Add a color bar which maps values to colors\n",
    "cbar = fig.colorbar(surf, shrink=0.5, aspect=5,pad=0.08)\n",
    "cbar.set_label(symbol_dict[\"tilt_abs\"]+units_dict[\"tilt_abs\"])\n",
    "\n",
    "# Set labels\n",
    "ax.set_xlabel(symbol_dict[\"anisotropy\"],labelpad=15)\n",
    "ax.set_ylabel(symbol_dict[\"correlation\"],labelpad=15)\n",
    "ax.set_zlabel(symbol_dict[\"tilt_abs\"]+units_dict[\"tilt_abs\"],labelpad=10)\n",
    "\n",
    "# Set z range\n",
    "ax.set_zlim(-45, 45)\n",
    "\n",
    "if save_bool:\n",
    "    filename = f\"3D_terrain_{ani_min}ani_{cmap}Cmap\"\n",
    "    \n",
    "    for fileformat in [\".pdf\",\".png\"]:\n",
    "        plt.savefig(save_path+filename+fileformat,bbox_inches=\"tight\",dpi=250)\n",
    "        print(fileformat)\n",
    "    print(\"Saved\",save_path+filename)\n",
    "plt.show()"
   ]
  },
  {
   "cell_type": "markdown",
   "id": "12",
   "metadata": {},
   "source": [
    "# 2D"
   ]
  },
  {
   "cell_type": "code",
   "execution_count": null,
   "id": "13",
   "metadata": {},
   "outputs": [],
   "source": [
    "plt.rcParams[\"font.size\"]=25\n",
    "\n",
    "cbar_ticklabelsize = \"small\""
   ]
  },
  {
   "cell_type": "code",
   "execution_count": null,
   "id": "14",
   "metadata": {},
   "outputs": [],
   "source": [
    "imshow_bool = True\n",
    "# imshow_bool = False # filled contours\n",
    "\n",
    "unfilled_contours_bool = True\n",
    "# unfilled_contours_bool = False"
   ]
  },
  {
   "cell_type": "code",
   "execution_count": null,
   "id": "15",
   "metadata": {},
   "outputs": [],
   "source": [
    "# vertex_abs = True\n",
    "vertex_abs = False"
   ]
  },
  {
   "cell_type": "code",
   "execution_count": null,
   "id": "16",
   "metadata": {},
   "outputs": [],
   "source": [
    "if imshow_bool:\n",
    "    if vertex_abs:\n",
    "        cbar_ticks = np.arange(-40,40+10,10)\n",
    "    else:\n",
    "        cbar_tick_step = 10 #15\n",
    "        cbar_ticks = np.arange(-90,90+cbar_tick_step,cbar_tick_step)\n",
    "        \n",
    "if not imshow_bool:\n",
    "    level_step = 0.5\n",
    "    filled_levels=np.arange(-45,45+level_step,level_step)\n",
    "        \n",
    "    cbar_tick_step_over_levels = 20\n",
    "\n",
    "if unfilled_contours_bool:\n",
    "    unfilled_cmap = mplcmaps[\"seismic\"]\n",
    "    \n",
    "    unfilled_linestyle = \"--\"\n",
    "    unfilled_lw = 1.2\n",
    "    \n",
    "    if vertex_abs:\n",
    "        max_unfilled_level = 40\n",
    "        unfilled_levelstep = 10\n",
    "    else:\n",
    "        max_unfilled_level = 90\n",
    "        unfilled_levelstep = 10\n",
    "    \n",
    "    unfilled_levels = np.arange(-max_unfilled_level,max_unfilled_level+unfilled_levelstep,unfilled_levelstep)"
   ]
  },
  {
   "cell_type": "code",
   "execution_count": null,
   "id": "17",
   "metadata": {},
   "outputs": [],
   "source": [
    "cmap = mplcmaps[\"jet\"]\n",
    "# cmap = PH.get_truncated_colormap(cmap=mplcmaps[\"jet\"],minval=0.25,maxval=0.75)\n",
    "\n",
    "joint_cyclic_cmap_bool = False\n",
    "\n",
    "if joint_cyclic_cmap_bool and not vertex_abs:\n",
    "    cmap_colors = list(mplcmaps[\"twilight\"](np.linspace(0,0.46,25))) +\\\n",
    "                  list(mplcmaps[\"turbo\"](np.linspace(0,1,50))) +\\\n",
    "                  list(mplcmaps[\"twilight\"](np.linspace(0.57,1,25)))\n",
    "\n",
    "    cmap = mplcolors.LinearSegmentedColormap.from_list(name=\"twilight-turbo-joint\",colors=cmap_colors)"
   ]
  },
  {
   "cell_type": "code",
   "execution_count": null,
   "id": "18",
   "metadata": {},
   "outputs": [],
   "source": [
    "ani_min = -2"
   ]
  },
  {
   "cell_type": "code",
   "execution_count": null,
   "id": "19",
   "metadata": {},
   "outputs": [],
   "source": [
    "aspect = \"auto\"\n",
    "# aspect = \"equal\""
   ]
  },
  {
   "cell_type": "code",
   "execution_count": null,
   "id": "20",
   "metadata": {},
   "outputs": [],
   "source": [
    "save_bool = True\n",
    "# save_bool = False"
   ]
  },
  {
   "cell_type": "code",
   "execution_count": null,
   "id": "21",
   "metadata": {},
   "outputs": [],
   "source": [
    "# plot\n",
    "\n",
    "x = np.linspace(ani_min, 1, 2500)\n",
    "y = np.linspace(-1, 1, 2500)\n",
    "X, Y = np.meshgrid(x, y)\n",
    "\n",
    "if vertex_abs: Z = 90 / np.pi * np.arctan(2*Y / np.abs(X) * np.sqrt(1 - X))\n",
    "else: Z = 90 / np.pi * np.arctan2(2*Y*np.sqrt(1 - X), X)\n",
    "\n",
    "fig,(ax,cax) = plt.subplots(ncols=2,gridspec_kw={\"width_ratios\":[1,0.05],\"wspace\":0.05 if aspect==\"auto\" else -0.35})\n",
    "\n",
    "if imshow_bool: surf = ax.imshow(Z,cmap=cmap,origin=\"lower\",extent=[min(x),max(x),min(y),max(y)])\n",
    "else: surf = ax.contourf(X,Y,Z,cmap=cmap,levels=filled_levels)\n",
    "    \n",
    "if True: # colorbar\n",
    "    plt.colorbar(surf,cax=cax)\n",
    "    \n",
    "    cax.set_yticks(\n",
    "        cbar_ticks if imshow_bool else filled_levels[::cbar_tick_step_over_levels],\n",
    "    )\n",
    "    \n",
    "    cax.set_ylabel((r\"$l_\\mathrm{v}$\" if vertex_abs else r\"$\\tilde{l}_\\mathrm{v}$\")+ r\" $[^\\circ]$\",labelpad=10)\n",
    "    \n",
    "    if not vertex_abs:\n",
    "        cax.tick_params(axis=\"y\",labelsize=cbar_ticklabelsize)\n",
    "    \n",
    "if unfilled_contours_bool:\n",
    "    ax.contour(X,Y,Z,levels=unfilled_levels,cmap=unfilled_cmap,linestyles=unfilled_linestyle,linewidths=unfilled_lw)\n",
    "\n",
    "    norm = plt.Normalize(vmin=min(unfilled_levels), vmax=max(unfilled_levels))\n",
    "\n",
    "    for lev in zip(unfilled_levels):\n",
    "        cax.axhline(lev,c=unfilled_cmap(norm(lev)),linestyle=unfilled_linestyle,lw=unfilled_lw)\n",
    "    \n",
    "    cax.tick_params(axis='y', which='major', size=0)\n",
    "    \n",
    "    if joint_cyclic_cmap_bool and not vertex_abs: # cover the discontinuity\n",
    "        ax.axhline(y=0,xmin=ani_min,xmax=np.abs(ani_min)/(np.abs(ani_min)+1),color=mplcmaps[\"twilight\"](1),lw=1.5)\n",
    "\n",
    "if True: # axes\n",
    "    ax.set_xlabel(r\"$\\beta_{ij}$\")\n",
    "    ax.set_ylabel(r\"$\\rho_{ij}$\")\n",
    "\n",
    "    if ani_min < -2 and ani_min>-15:\n",
    "        xtick_step = 1\n",
    "        xticks = np.concatenate([np.arange(ani_min,0+xtick_step,xtick_step),[1]])\n",
    "        ax.set_xticks(xticks)\n",
    "        ax.set_xticklabels([f\"{'–' if t<0 else ''}{abs(MF.check_int(t))}\" for t in xticks])\n",
    "\n",
    "    yticks = ax.get_yticks()\n",
    "    ax.set_yticks(yticks) #avoid warning\n",
    "    ax.set_yticklabels([f\"{'–' if t<0 else ''}{abs(MF.check_int(t))}\" for t in yticks])\n",
    "    \n",
    "    xticks = ax.get_xticks()\n",
    "    ax.set_xticks(xticks) #avoid warning\n",
    "    ax.set_xticklabels([f\"{'–' if t<0 else ''}{abs(MF.check_int(t))}\" for t in xticks])\n",
    "\n",
    "    ax.set_aspect(aspect)\n",
    "    \n",
    "if True: # save\n",
    "    imshow_str = \"_imshow\" if imshow_bool else f\"_contours{level_step}levelStep\"\n",
    "    \n",
    "    vertex_str = \"vertexabs\" if vertex_abs else \"vertex\"\n",
    "    \n",
    "    unfilled_contours_str = f\"_unfilled{unfilled_cmap.name}{unfilled_levelstep}step\" if unfilled_contours_bool else \"\"\n",
    "    \n",
    "    filename = f\"{vertex_str}_2D_contours_{ani_min}ani{imshow_str}_{cmap.name}Cmap{unfilled_contours_str}\"\n",
    "    print(filename)\n",
    "\n",
    "    if save_bool:\n",
    "        for fileformat in [\".pdf\",\".png\"]:\n",
    "            plt.savefig(save_path+filename+fileformat,bbox_inches=\"tight\",dpi=250)\n",
    "            print(fileformat)\n",
    "        print(\"Saved in\",save_path)\n",
    "\n",
    "    plt.show()"
   ]
  },
  {
   "cell_type": "markdown",
   "id": "22",
   "metadata": {},
   "source": [
    "# 1D"
   ]
  },
  {
   "cell_type": "code",
   "execution_count": null,
   "id": "23",
   "metadata": {},
   "outputs": [],
   "source": [
    "plt.rcParams[\"font.size\"]=23"
   ]
  },
  {
   "cell_type": "code",
   "execution_count": null,
   "id": "24",
   "metadata": {},
   "outputs": [],
   "source": [
    "corr_fixedVals = [0.5,0.75,1]\n",
    "colors = [\"red\",\"darkorange\",\"gold\"]\n",
    "\n",
    "ani_min = -20"
   ]
  },
  {
   "cell_type": "code",
   "execution_count": null,
   "id": "25",
   "metadata": {},
   "outputs": [],
   "source": [
    "save_bool = True\n",
    "# save_bool = False"
   ]
  },
  {
   "cell_type": "code",
   "execution_count": null,
   "id": "26",
   "metadata": {},
   "outputs": [],
   "source": [
    "# plot\n",
    "\n",
    "fig,ax=plt.subplots()\n",
    "\n",
    "ani = np.arange(ani_min,1,0.01)\n",
    "\n",
    "for corr,color in zip(corr_fixedVals,colors):\n",
    "    vertex = 1/2*np.arctan(corr*np.sqrt(1-ani)/np.abs(ani))*180/np.pi\n",
    "\n",
    "    ax.plot(ani,vertex,color=color,label=symbol_dict[\"correlation\"]+r\"$=%s$\"%str(corr))\n",
    "\n",
    "ax.set_ylim(0,45)\n",
    "ax.set_xlim(ani_min,1.5)\n",
    "\n",
    "xtick_step = 2.5\n",
    "xticks = np.concatenate([np.arange(ani_min,0+xtick_step,xtick_step),[1]])\n",
    "ax.set_xticks(xticks)\n",
    "ax.set_xticklabels([f\"{'–' if t<0 else ''}{abs(MF.check_int(t))}\" for t in xticks])\n",
    "\n",
    "ax.set_yticks(np.arange(5,45+5,5))\n",
    "\n",
    "ax.set_xlabel(symbol_dict[\"anisotropy\"])\n",
    "ax.set_ylabel(symbol_dict[\"tilt_abs\"]+units_dict[\"tilt_abs\"])\n",
    "\n",
    "plt.legend(fontsize=20)\n",
    "plt.grid(axis=\"both\")\n",
    "\n",
    "if True:\n",
    "    corr_string = f\"{len(corr_fixedVals)}corrVals{min(corr_fixedVals)}to{max(corr_fixedVals)}\"\n",
    "    \n",
    "    filename = f\"1D_variation_{ani_min}ani_{corr_string}_{cmap}Cmap\"\n",
    "    print(filename)\n",
    "\n",
    "    if save_bool:\n",
    "        for fileformat in [\".pdf\",\".png\"]:\n",
    "            plt.savefig(save_path+filename+fileformat,bbox_inches=\"tight\",dpi=250)\n",
    "            print(fileformat)\n",
    "        print(\"Saved\",save_path)\n",
    "\n",
    "plt.show()"
   ]
  },
  {
   "cell_type": "markdown",
   "id": "27",
   "metadata": {},
   "source": [
    "# Velocity plot"
   ]
  },
  {
   "cell_type": "code",
   "execution_count": null,
   "id": "28",
   "metadata": {},
   "outputs": [],
   "source": [
    "ani = -1\n",
    "corr = 1\n",
    "\n",
    "std_r = 1\n",
    "std_l = std_r*np.sqrt(1-ani)\n",
    "\n",
    "covxy = corr*std_r*std_l\n",
    "\n",
    "tilt_abs = CV.calculate_tilt_from_moments(covxy=covxy,varx=std_r**2,vary=std_l**2,absolute=True)\n",
    "\n",
    "n_points = 5000\n",
    "\n",
    "r_vals = np.random.normal(0,std_r,n_points)\n",
    "l_vals = np.random.normal(0,std_l,n_points)\n",
    "\n",
    "rotated_x,rotated_y = PH.rotate_by_angle(x=r_vals,y=l_vals,angle=tilt_abs)"
   ]
  },
  {
   "cell_type": "code",
   "execution_count": null,
   "id": "29",
   "metadata": {},
   "outputs": [],
   "source": [
    "VP.velocity_plot?"
   ]
  },
  {
   "cell_type": "code",
   "execution_count": null,
   "id": "30",
   "metadata": {},
   "outputs": [],
   "source": [
    "VP.velocity_plot(vx=rotated_x,vy=rotated_y,tilt_abs=True,vel_max=max([max(rotated_x),max(rotated_y)]),tickstep=20)"
   ]
  },
  {
   "cell_type": "code",
   "execution_count": null,
   "id": "31",
   "metadata": {},
   "outputs": [],
   "source": [
    "fig,ax=plt.subplots()\n",
    "\n",
    "ax.scatter(rotated_x,rotated_y,s=5)\n",
    "ax.set_title(r\"$l_\\mathrm{v}=%.2f ^\\circ$\"%tilt_abs)\n",
    "ax.set_aspect(\"equal\")\n",
    "plt.show()"
   ]
  }
 ],
 "metadata": {
  "kernelspec": {
   "display_name": "Python 3 (ipykernel)",
   "language": "python",
   "name": "python3"
  },
  "language_info": {
   "codemirror_mode": {
    "name": "ipython",
    "version": 3
   },
   "file_extension": ".py",
   "mimetype": "text/x-python",
   "name": "python",
   "nbconvert_exporter": "python",
   "pygments_lexer": "ipython3",
   "version": "3.11.5"
  },
  "toc": {
   "base_numbering": 1,
   "nav_menu": {},
   "number_sections": true,
   "sideBar": true,
   "skip_h1_title": false,
   "title_cell": "Table of Contents",
   "title_sidebar": "Contents",
   "toc_cell": false,
   "toc_position": {
    "height": "calc(100% - 180px)",
    "left": "10px",
    "top": "150px",
    "width": "165px"
   },
   "toc_section_display": true,
   "toc_window_display": true
  },
  "varInspector": {
   "cols": {
    "lenName": 16,
    "lenType": 16,
    "lenVar": 40
   },
   "kernels_config": {
    "python": {
     "delete_cmd_postfix": "",
     "delete_cmd_prefix": "del ",
     "library": "var_list.py",
     "varRefreshCmd": "print(var_dic_list())"
    },
    "r": {
     "delete_cmd_postfix": ") ",
     "delete_cmd_prefix": "rm(",
     "library": "var_list.r",
     "varRefreshCmd": "cat(var_dic_list()) "
    }
   },
   "types_to_exclude": [
    "module",
    "function",
    "builtin_function_or_method",
    "instance",
    "_Feature"
   ],
   "window_display": false
  }
 },
 "nbformat": 4,
 "nbformat_minor": 5
}
